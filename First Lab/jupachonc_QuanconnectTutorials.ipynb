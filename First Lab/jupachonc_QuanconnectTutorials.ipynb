{
  "nbformat": 4,
  "nbformat_minor": 0,
  "metadata": {
    "colab": {
      "name": "jupachonc_QuanconnectTutorials.ipynb",
      "provenance": [],
      "collapsed_sections": [
        "q9OBiVIHAqkd",
        "QOCF86BhZnm1"
      ],
      "toc_visible": true
    },
    "kernelspec": {
      "name": "python3",
      "display_name": "Python 3"
    },
    "language_info": {
      "name": "python"
    }
  },
  "cells": [
    {
      "cell_type": "markdown",
      "metadata": {
        "id": "mTJ3hKLVANNW"
      },
      "source": [
        "# Laboratorio 1"
      ]
    },
    {
      "cell_type": "markdown",
      "metadata": {
        "id": "q9OBiVIHAqkd"
      },
      "source": [
        "#  Data Types and Data Structures \n",
        "\n",
        "#  Basic Variable Types \n",
        "\n",
        "The basic types of variables in Python are: strings, integers, floating point numbers and booleans.\n",
        "\n",
        "**Strings** in python are identified as a contiguous set of characters represented in either single quotes (' ') or double quotes (\" \").\n"
      ]
    },
    {
      "cell_type": "code",
      "metadata": {
        "colab": {
          "base_uri": "https://localhost:8080/"
        },
        "id": "czoJGRiYArGo",
        "outputId": "b98fd094-7a30-47e1-b6f5-33635c1e3e71"
      },
      "source": [
        "my_string1 = 'Welcome to'\n",
        "my_string2 = \"QuantConnect\"\n",
        "print(my_string1 + ' ' + my_string2)"
      ],
      "execution_count": null,
      "outputs": [
        {
          "output_type": "stream",
          "name": "stdout",
          "text": [
            "Welcome to QuantConnect\n"
          ]
        }
      ]
    },
    {
      "cell_type": "code",
      "metadata": {
        "colab": {
          "base_uri": "https://localhost:8080/"
        },
        "id": "D2hZyPeYBJXT",
        "outputId": "8c6e861e-09a2-4739-ea82-41d20d334e9b"
      },
      "source": [
        "my_str1 = 'Esto es una cadena'\n",
        "my_str2 = \"escrita en Python\"\n",
        "print(my_str1 + \" \" + my_str2)"
      ],
      "execution_count": null,
      "outputs": [
        {
          "output_type": "stream",
          "name": "stdout",
          "text": [
            "Esto es una cadena escrita en Python\n"
          ]
        }
      ]
    },
    {
      "cell_type": "markdown",
      "metadata": {
        "id": "NuAdP3P2Br0_"
      },
      "source": [
        " An **integer** is a round number with no values after the decimal point. "
      ]
    },
    {
      "cell_type": "code",
      "metadata": {
        "colab": {
          "base_uri": "https://localhost:8080/"
        },
        "id": "im6aZLh7B3PC",
        "outputId": "509edf25-524e-453e-c843-7b77e110afbd"
      },
      "source": [
        "my_int = 10\n",
        "print(my_int)\n",
        "print(type(my_int))"
      ],
      "execution_count": null,
      "outputs": [
        {
          "output_type": "stream",
          "name": "stdout",
          "text": [
            "10\n",
            "<class 'int'>\n"
          ]
        }
      ]
    },
    {
      "cell_type": "code",
      "metadata": {
        "colab": {
          "base_uri": "https://localhost:8080/"
        },
        "id": "mZAvnQHnCNHk",
        "outputId": "0b9c066f-59ba-427a-adac-038fc409d81b"
      },
      "source": [
        "int_2 = 21\n",
        "print(int_2)\n",
        "print(type(int_2))"
      ],
      "execution_count": null,
      "outputs": [
        {
          "output_type": "stream",
          "name": "stdout",
          "text": [
            "21\n",
            "<class 'int'>\n"
          ]
        }
      ]
    },
    {
      "cell_type": "markdown",
      "metadata": {
        "id": "XdKQ8QMVCbd8"
      },
      "source": [
        " The built-in function **int()** can convert a string into an integer. "
      ]
    },
    {
      "cell_type": "code",
      "metadata": {
        "colab": {
          "base_uri": "https://localhost:8080/"
        },
        "id": "q3U4laBLChWR",
        "outputId": "33c27991-ff3f-400b-a525-cbb4ccedb2be"
      },
      "source": [
        "my_string = \"100\"\n",
        "print(type(my_string))\n",
        "\n",
        "my_int = int(my_string)\n",
        "print(type(my_int))"
      ],
      "execution_count": null,
      "outputs": [
        {
          "output_type": "stream",
          "name": "stdout",
          "text": [
            "<class 'str'>\n",
            "<class 'int'>\n"
          ]
        }
      ]
    },
    {
      "cell_type": "code",
      "metadata": {
        "colab": {
          "base_uri": "https://localhost:8080/"
        },
        "id": "EV2mL-enDzT2",
        "outputId": "2bf0baf5-1ebd-4e16-a3fe-4931aad0fb86"
      },
      "source": [
        "mystring = \"821\"\n",
        "print(type(mystring))\n",
        "\n",
        "myint = int(mystring)\n",
        "print(type(myint))"
      ],
      "execution_count": null,
      "outputs": [
        {
          "output_type": "stream",
          "name": "stdout",
          "text": [
            "<class 'str'>\n",
            "<class 'int'>\n"
          ]
        }
      ]
    },
    {
      "cell_type": "markdown",
      "metadata": {
        "id": "71gQghF4GBxs"
      },
      "source": [
        "A floating point number, or a float, is a real number in mathematics. In Python we need to include a value after a decimal point to define it as a **float**. "
      ]
    },
    {
      "cell_type": "code",
      "metadata": {
        "colab": {
          "base_uri": "https://localhost:8080/"
        },
        "id": "1F65nu2LGJxB",
        "outputId": "e847610d-5b3c-4f21-f117-ff8c3ee2a221"
      },
      "source": [
        "my_float = 1.0\n",
        "print(type(my_float))\n",
        "\n",
        "my_int = 1\n",
        "print(type(my_int))"
      ],
      "execution_count": null,
      "outputs": [
        {
          "output_type": "stream",
          "name": "stdout",
          "text": [
            "<class 'float'>\n",
            "<class 'int'>\n"
          ]
        }
      ]
    },
    {
      "cell_type": "code",
      "metadata": {
        "colab": {
          "base_uri": "https://localhost:8080/"
        },
        "id": "3Yu-XJS1HFJd",
        "outputId": "c743d8f2-81db-471d-87b0-752f0ab5ac52"
      },
      "source": [
        "flt = 128.0\n",
        "print(type(flt))\n",
        "\n",
        "mint = 128\n",
        "print(type(mint)) "
      ],
      "execution_count": null,
      "outputs": [
        {
          "output_type": "stream",
          "name": "stdout",
          "text": [
            "<class 'float'>\n",
            "<class 'int'>\n"
          ]
        }
      ]
    },
    {
      "cell_type": "markdown",
      "metadata": {
        "id": "9ARBGQaEHSXq"
      },
      "source": [
        "As you can see above, if we don't include a decimal value, the variable would be defined as an integer. The built-in function **float()** can convert a string or an integer into a float. "
      ]
    },
    {
      "cell_type": "code",
      "metadata": {
        "colab": {
          "base_uri": "https://localhost:8080/"
        },
        "id": "m1H3rdxZGncb",
        "outputId": "392b8fbf-2b77-4c07-eaab-0bea4348de79"
      },
      "source": [
        "my_string = \"100\"\n",
        "my_float = float(my_string)\n",
        "print(type(my_float))"
      ],
      "execution_count": null,
      "outputs": [
        {
          "output_type": "stream",
          "name": "stdout",
          "text": [
            "<class 'float'>\n"
          ]
        }
      ]
    },
    {
      "cell_type": "code",
      "metadata": {
        "colab": {
          "base_uri": "https://localhost:8080/"
        },
        "id": "yx-0SqFcHZYb",
        "outputId": "734e7f20-393c-4592-8a3d-becb5c290760"
      },
      "source": [
        "mystr = \"832\"\n",
        "myflt = float(mystr)\n",
        "print(type(myflt))\n",
        "\n",
        "myint_2 = 189\n",
        "myflt_2 = float(myint_2)\n",
        "print(type(myflt_2))"
      ],
      "execution_count": null,
      "outputs": [
        {
          "output_type": "stream",
          "name": "stdout",
          "text": [
            "<class 'float'>\n",
            "<class 'float'>\n"
          ]
        }
      ]
    },
    {
      "cell_type": "markdown",
      "metadata": {
        "id": "X-PB2G5IHX3-"
      },
      "source": [
        "A boolean, or **bool**, is a binary variable. Its value can only be True or False. It is useful when we do some logic operations, which would be covered in our next chapter. "
      ]
    },
    {
      "cell_type": "code",
      "metadata": {
        "colab": {
          "base_uri": "https://localhost:8080/"
        },
        "id": "3qpY4htjIFHf",
        "outputId": "0477e34f-a7b3-4394-f3b0-a126eaaea1eb"
      },
      "source": [
        "my_bool = False\n",
        "print(my_bool)\n",
        "\n",
        "print(type(my_bool))"
      ],
      "execution_count": null,
      "outputs": [
        {
          "output_type": "stream",
          "name": "stdout",
          "text": [
            "False\n",
            "<class 'bool'>\n"
          ]
        }
      ]
    },
    {
      "cell_type": "code",
      "metadata": {
        "colab": {
          "base_uri": "https://localhost:8080/"
        },
        "id": "eA8VBllWINOE",
        "outputId": "f3538b24-e7dd-43e3-8f21-a8526b66fc14"
      },
      "source": [
        "boolean = True\n",
        "print(boolean)\n",
        "print(type(boolean))"
      ],
      "execution_count": null,
      "outputs": [
        {
          "output_type": "stream",
          "name": "stdout",
          "text": [
            "True\n",
            "<class 'bool'>\n"
          ]
        }
      ]
    },
    {
      "cell_type": "markdown",
      "metadata": {
        "id": "9XvJ3afmI3qa"
      },
      "source": [
        "**Basic Math Operations**\n",
        "\n",
        " The basic math operators in python are demonstrated below: \n"
      ]
    },
    {
      "cell_type": "code",
      "metadata": {
        "colab": {
          "base_uri": "https://localhost:8080/"
        },
        "id": "uzJeV8kUJHoz",
        "outputId": "2da67973-063f-443f-c73e-87c98db12ece"
      },
      "source": [
        "print(\"Addition \", 1+1)\n",
        "print(\"Subtraction \", 5-2)\n",
        "print(\"Multiplication \", 2*3)\n",
        "print(\"Division\", 10/2)\n",
        "print(\"exponent\", 2**3)"
      ],
      "execution_count": null,
      "outputs": [
        {
          "output_type": "stream",
          "name": "stdout",
          "text": [
            "Addition  2\n",
            "Subtraction  3\n",
            "Multiplication  6\n",
            "Division 5.0\n",
            "exponent 8\n"
          ]
        }
      ]
    },
    {
      "cell_type": "code",
      "metadata": {
        "colab": {
          "base_uri": "https://localhost:8080/"
        },
        "id": "sU2xC8qvJMeH",
        "outputId": "13e52027-52fd-4773-d7ae-81b3933f1953"
      },
      "source": [
        "print(\"Suma \", 6+3)\n",
        "print(\"Resta \", 19-7)\n",
        "print(\"Multiplicación \", 6*9)\n",
        "print(\"División\", 21/3)\n",
        "print(\"Potencia\", 8**4)"
      ],
      "execution_count": null,
      "outputs": [
        {
          "output_type": "stream",
          "name": "stdout",
          "text": [
            "Suma  9\n",
            "Resta  12\n",
            "Multiplicación  54\n",
            "División 7.0\n",
            "Potencia 4096\n"
          ]
        }
      ]
    },
    {
      "cell_type": "markdown",
      "metadata": {
        "id": "GbVBosFLRESf"
      },
      "source": [
        "**Data Collections**\n",
        "\n",
        "**List**\n",
        "\n",
        "A list is an ordered collection of values. A list is mutable, which means you can change a list's value without changing the list itself. Creating a list is simply putting different comma-separated values between square brackets. "
      ]
    },
    {
      "cell_type": "code",
      "metadata": {
        "id": "RtLtBWIYJav2"
      },
      "source": [
        "my_list = ['Quant', 'Connect', 1,2,3]\n",
        "print(len(my_list))\n",
        "\n",
        "print(my_list[0])\n",
        "\n",
        "print(my_list[len(my_list) - 1])"
      ],
      "execution_count": null,
      "outputs": []
    },
    {
      "cell_type": "code",
      "metadata": {
        "colab": {
          "base_uri": "https://localhost:8080/"
        },
        "id": "ocGaD90ySZai",
        "outputId": "9c824d55-c69a-4601-f187-8349bdd3da36"
      },
      "source": [
        "mylist = ['Algoritmos', 'UN', 2021, 2, 1843, False]\n",
        "print(len(mylist))\n",
        "\n",
        "print(mylist[0])\n",
        "\n",
        "print(mylist[len(mylist) - 1])"
      ],
      "execution_count": null,
      "outputs": [
        {
          "output_type": "stream",
          "name": "stdout",
          "text": [
            "6\n",
            "Algoritmos\n",
            "False\n"
          ]
        }
      ]
    },
    {
      "cell_type": "markdown",
      "metadata": {
        "id": "xomHUbvcS0jq"
      },
      "source": [
        "You can also change the elements in the list by accessing an index and assigning a new value. "
      ]
    },
    {
      "cell_type": "code",
      "metadata": {
        "colab": {
          "base_uri": "https://localhost:8080/"
        },
        "id": "MCfr_7OdS1X5",
        "outputId": "60cd437c-d733-49a1-b902-dcbf8a1b56da"
      },
      "source": [
        "my_list = ['Quant','Connect',1,2,3]\n",
        "my_list[2] = 'go'\n",
        "print(my_list)"
      ],
      "execution_count": null,
      "outputs": [
        {
          "output_type": "stream",
          "name": "stdout",
          "text": [
            "['Quant', 'Connect', 'go', 2, 3]\n"
          ]
        }
      ]
    },
    {
      "cell_type": "code",
      "metadata": {
        "colab": {
          "base_uri": "https://localhost:8080/"
        },
        "id": "nesQBjnJTAG7",
        "outputId": "f364e3aa-dc70-4bbd-b2cb-6b090fed5c5e"
      },
      "source": [
        "mylist = ['Algoritmos', 'UN', 2021, 2, 1843, False]\n",
        "mylist[5] = True\n",
        "print(mylist)"
      ],
      "execution_count": null,
      "outputs": [
        {
          "output_type": "stream",
          "name": "stdout",
          "text": [
            "['Algoritmos', 'UN', 2021, 2, 1843, True]\n"
          ]
        }
      ]
    },
    {
      "cell_type": "markdown",
      "metadata": {
        "id": "86KGy1wHTOzy"
      },
      "source": [
        " A list can also be sliced with a colon: "
      ]
    },
    {
      "cell_type": "code",
      "metadata": {
        "id": "OuUIKYcTTPqt"
      },
      "source": [
        "my_list = ['Quant','Connect',1,2,3]\n",
        "print(my_list[1:3])"
      ],
      "execution_count": null,
      "outputs": []
    },
    {
      "cell_type": "code",
      "metadata": {
        "colab": {
          "base_uri": "https://localhost:8080/"
        },
        "id": "xADTto4FTR13",
        "outputId": "46b1dadb-8086-496c-dd87-a6fb6305ac0a"
      },
      "source": [
        "mylist = ['Algoritmos', 'UN', 2021, 2, 1843, False]\n",
        "print(mylist[2:5])"
      ],
      "execution_count": null,
      "outputs": [
        {
          "output_type": "stream",
          "name": "stdout",
          "text": [
            "[2021, 2, 1843]\n"
          ]
        }
      ]
    },
    {
      "cell_type": "markdown",
      "metadata": {
        "id": "BD3_koZXTaQP"
      },
      "source": [
        "The slice starts from the first element indicated, but excludes the last element indicated. Here we select all elements starting from index 1, which refers to the second element: "
      ]
    },
    {
      "cell_type": "code",
      "metadata": {
        "colab": {
          "base_uri": "https://localhost:8080/"
        },
        "id": "r1jkNK-FTYQ5",
        "outputId": "1857dfe3-96d8-4be6-bbb5-7ec4ba477e8a"
      },
      "source": [
        "print(my_list[1:])"
      ],
      "execution_count": null,
      "outputs": [
        {
          "output_type": "stream",
          "name": "stdout",
          "text": [
            "['Connect', 'go', 2, 3]\n"
          ]
        }
      ]
    },
    {
      "cell_type": "code",
      "metadata": {
        "colab": {
          "base_uri": "https://localhost:8080/"
        },
        "id": "RtJ4_uMkTh3e",
        "outputId": "a54d599a-eb5e-4d82-f8c5-a2427e6a54fe"
      },
      "source": [
        "print(mylist[2:])"
      ],
      "execution_count": null,
      "outputs": [
        {
          "output_type": "stream",
          "name": "stdout",
          "text": [
            "[2021, 2, 1843, False]\n"
          ]
        }
      ]
    },
    {
      "cell_type": "markdown",
      "metadata": {
        "id": "GB5MgufgTngH"
      },
      "source": [
        " And all elements up to but excluding index 3: "
      ]
    },
    {
      "cell_type": "code",
      "metadata": {
        "colab": {
          "base_uri": "https://localhost:8080/"
        },
        "id": "FpUtBTsYTuui",
        "outputId": "5a68a66e-003c-4887-bd5e-9f7acc03e691"
      },
      "source": [
        "print(my_list[:3])"
      ],
      "execution_count": null,
      "outputs": [
        {
          "output_type": "stream",
          "name": "stdout",
          "text": [
            "['Quant', 'Connect', 'go']\n"
          ]
        }
      ]
    },
    {
      "cell_type": "code",
      "metadata": {
        "colab": {
          "base_uri": "https://localhost:8080/"
        },
        "id": "UL-dCfjST0Bi",
        "outputId": "da190cda-8431-4a7f-bf4e-be5d76f815ca"
      },
      "source": [
        "print(mylist[:4])"
      ],
      "execution_count": null,
      "outputs": [
        {
          "output_type": "stream",
          "name": "stdout",
          "text": [
            "['Algoritmos', 'UN', 2021, 2]\n"
          ]
        }
      ]
    },
    {
      "cell_type": "markdown",
      "metadata": {
        "id": "F0yWyCzXT3Se"
      },
      "source": [
        "If you wish to add or remove an element from a list, you can use the **append()** and **remove()** methods for lists as follows: "
      ]
    },
    {
      "cell_type": "code",
      "metadata": {
        "colab": {
          "base_uri": "https://localhost:8080/"
        },
        "id": "-A16xmxBT9nF",
        "outputId": "fe3fddbd-d069-4266-dacd-4583265ce029"
      },
      "source": [
        "my_list = ['Hello', 'Quant']\n",
        "my_list.append('Hello')\n",
        "print(my_list)\n",
        "\n",
        "my_list.remove('Hello')\n",
        "print(my_list)"
      ],
      "execution_count": null,
      "outputs": [
        {
          "output_type": "stream",
          "name": "stdout",
          "text": [
            "['Hello', 'Quant', 'Hello']\n",
            "['Quant', 'Hello']\n"
          ]
        }
      ]
    },
    {
      "cell_type": "code",
      "metadata": {
        "colab": {
          "base_uri": "https://localhost:8080/"
        },
        "id": "geOf6bDLUEti",
        "outputId": "ff3399c2-6883-4f93-b7c5-89b153de70dc"
      },
      "source": [
        "mylist = ['Universidad', 'Nacional']\n",
        "mylist.append('Colombia')\n",
        "print(mylist)\n",
        "\n",
        "mylist.remove('Nacional')\n",
        "print(mylist)"
      ],
      "execution_count": null,
      "outputs": [
        {
          "output_type": "stream",
          "name": "stdout",
          "text": [
            "['Universidad', 'Nacional', 'Colombia']\n",
            "['Universidad', 'Colombia']\n"
          ]
        }
      ]
    },
    {
      "cell_type": "markdown",
      "metadata": {
        "id": "Zu_uD32LUYYZ"
      },
      "source": [
        "**Tuple**\n",
        "\n",
        "A tuple is a data structure type similar to a list. The difference is that a tuple is immutable, which means you can't change the elements in it once it's defined. We create a tuple by putting comma-separated values between parentheses. "
      ]
    },
    {
      "cell_type": "code",
      "metadata": {
        "id": "FDWxxQN1Uanq"
      },
      "source": [
        "my_tuple = ('Welcome','to','QuantConnect')"
      ],
      "execution_count": null,
      "outputs": []
    },
    {
      "cell_type": "code",
      "metadata": {
        "id": "soEM5_PqUcnr"
      },
      "source": [
        "mytuple = (\"Facultad\", \"de\", \"ingeniería\")"
      ],
      "execution_count": null,
      "outputs": []
    },
    {
      "cell_type": "markdown",
      "metadata": {
        "id": "On7Qd2WFUltO"
      },
      "source": [
        " Just like a list, a tuple can be sliced by using index. "
      ]
    },
    {
      "cell_type": "code",
      "metadata": {
        "colab": {
          "base_uri": "https://localhost:8080/"
        },
        "id": "0zTV3ipxUk3V",
        "outputId": "8f67d14d-b271-41e7-906d-940d1213be7c"
      },
      "source": [
        "my_tuple = ('Welcome','to','QuantConnect')\n",
        "print(my_tuple[1:])"
      ],
      "execution_count": null,
      "outputs": [
        {
          "output_type": "stream",
          "name": "stdout",
          "text": [
            "('to', 'QuantConnect')\n"
          ]
        }
      ]
    },
    {
      "cell_type": "code",
      "metadata": {
        "colab": {
          "base_uri": "https://localhost:8080/"
        },
        "id": "tQGpIEqnUsn3",
        "outputId": "ce7c0023-36b7-4f2d-db43-3bd45c943032"
      },
      "source": [
        "mytuple = (\"Facultad\", \"de\", \"ingeniería\")\n",
        "print(mytuple[2:])"
      ],
      "execution_count": null,
      "outputs": [
        {
          "output_type": "stream",
          "name": "stdout",
          "text": [
            "('ingeniería',)\n"
          ]
        }
      ]
    },
    {
      "cell_type": "markdown",
      "metadata": {
        "id": "rnwHzxwXU4So"
      },
      "source": [
        "**Set**\n",
        "\n",
        "A set is an unordered collection with no duplicate elements. The built-in function **set()** can be used to create sets. "
      ]
    },
    {
      "cell_type": "code",
      "metadata": {
        "colab": {
          "base_uri": "https://localhost:8080/"
        },
        "id": "2dHJU0pBU75n",
        "outputId": "9b5990d3-44ab-4b00-a512-ab4e11094902"
      },
      "source": [
        "stock_list = ['AAPL','GOOG','IBM','AAPL','IBM','FB','F','GOOG']\n",
        "stock_set = set(stock_list)\n",
        "print(stock_set)"
      ],
      "execution_count": null,
      "outputs": [
        {
          "output_type": "stream",
          "name": "stdout",
          "text": [
            "{'AAPL', 'FB', 'F', 'GOOG', 'IBM'}\n"
          ]
        }
      ]
    },
    {
      "cell_type": "code",
      "metadata": {
        "colab": {
          "base_uri": "https://localhost:8080/"
        },
        "id": "DB3BQt16VBGi",
        "outputId": "8f68310c-78a0-4491-ee5c-1887e4563ff5"
      },
      "source": [
        "country_list = ['CO', 'UK', 'ES', 'AR', 'CO', 'UK', 'US', 'US']\n",
        "country_set = set(country_list)\n",
        "print(country_set)"
      ],
      "execution_count": null,
      "outputs": [
        {
          "output_type": "stream",
          "name": "stdout",
          "text": [
            "{'UK', 'US', 'ES', 'AR', 'CO'}\n"
          ]
        }
      ]
    },
    {
      "cell_type": "markdown",
      "metadata": {
        "id": "NzapvGPUVYhF"
      },
      "source": [
        "**Dictionary**\n",
        "\n",
        "A dictionary is one of the most important data structures in Python. Unlike sequences which are indexed by integers, dictionaries are indexed by keys which can be either strings or floats.\n",
        "\n",
        "A dictionary is an unordered collection of key : value pairs, with the requirement that the keys are unique. We create a dictionary by placing a comma-separated list of key : value pairs within the braces. "
      ]
    },
    {
      "cell_type": "code",
      "metadata": {
        "id": "YYXp7r_VVcMa"
      },
      "source": [
        "my_dic = {'AAPL': 'Apple', 'FB': 'FaceBook', 'GOOG': 'Alphabet'}"
      ],
      "execution_count": null,
      "outputs": []
    },
    {
      "cell_type": "code",
      "metadata": {
        "id": "7-L6HPkhVl9R"
      },
      "source": [
        "ct_dic = {'UK': 'London', 'ES': 'Madrid', 'CO': 'Bogotá', 'MX': 'México'}"
      ],
      "execution_count": null,
      "outputs": []
    },
    {
      "cell_type": "markdown",
      "metadata": {
        "id": "p5BRfV1DV6CD"
      },
      "source": [
        "After defining a dictionary, we can access any value by indicating its key in brackets. "
      ]
    },
    {
      "cell_type": "code",
      "metadata": {
        "colab": {
          "base_uri": "https://localhost:8080/"
        },
        "id": "Pu3e1oTLV8BJ",
        "outputId": "cb561778-ef0b-4f6d-9ad2-09c8eed5ff63"
      },
      "source": [
        "print(my_dic['GOOG'])"
      ],
      "execution_count": null,
      "outputs": [
        {
          "output_type": "stream",
          "name": "stdout",
          "text": [
            "Alphabet\n"
          ]
        }
      ]
    },
    {
      "cell_type": "code",
      "metadata": {
        "colab": {
          "base_uri": "https://localhost:8080/"
        },
        "id": "ds5mJHrIWClr",
        "outputId": "ea22b930-e350-48e5-a9a3-0d546d848997"
      },
      "source": [
        "print(ct_dic['UK'])"
      ],
      "execution_count": null,
      "outputs": [
        {
          "output_type": "stream",
          "name": "stdout",
          "text": [
            "London\n"
          ]
        }
      ]
    },
    {
      "cell_type": "markdown",
      "metadata": {
        "id": "sub9tL7vWI56"
      },
      "source": [
        " We can also change the value associated with a specified key: "
      ]
    },
    {
      "cell_type": "code",
      "metadata": {
        "colab": {
          "base_uri": "https://localhost:8080/"
        },
        "id": "MKaLPP96WOPD",
        "outputId": "f30cf4fe-0d60-4acf-8116-7262e6ba1d38"
      },
      "source": [
        "my_dic['GOOG'] = 'Alphabet Company'\n",
        "print(my_dic['GOOG'])"
      ],
      "execution_count": null,
      "outputs": [
        {
          "output_type": "stream",
          "name": "stdout",
          "text": [
            "Alphabet Company\n"
          ]
        }
      ]
    },
    {
      "cell_type": "code",
      "metadata": {
        "colab": {
          "base_uri": "https://localhost:8080/"
        },
        "id": "Stwitkp6WQ50",
        "outputId": "2b7d9a03-22b2-4e44-99c4-a776889cd3b0"
      },
      "source": [
        "ct_dic['MX'] = 'Ciudad de México'\n",
        "print(ct_dic['MX'])"
      ],
      "execution_count": null,
      "outputs": [
        {
          "output_type": "stream",
          "name": "stdout",
          "text": [
            "Ciudad de México\n"
          ]
        }
      ]
    },
    {
      "cell_type": "markdown",
      "metadata": {
        "id": "9P4aPd_FWbGY"
      },
      "source": [
        "The built-in method of the dictionary object **dict.keys()** returns a list of all the keys used in the dictionary. "
      ]
    },
    {
      "cell_type": "code",
      "metadata": {
        "colab": {
          "base_uri": "https://localhost:8080/"
        },
        "id": "8Dzsdq1lWb3C",
        "outputId": "13bce513-6422-4cab-cd00-cd7ad03f90e5"
      },
      "source": [
        "print(my_dic.keys())"
      ],
      "execution_count": null,
      "outputs": [
        {
          "output_type": "stream",
          "name": "stdout",
          "text": [
            "dict_keys(['AAPL', 'FB', 'GOOG'])\n"
          ]
        }
      ]
    },
    {
      "cell_type": "code",
      "metadata": {
        "colab": {
          "base_uri": "https://localhost:8080/"
        },
        "id": "60wi8xhsWfyY",
        "outputId": "6089018a-c75e-43fa-9ea5-b83fc6180d81"
      },
      "source": [
        "print(ct_dic.keys())"
      ],
      "execution_count": null,
      "outputs": [
        {
          "output_type": "stream",
          "name": "stdout",
          "text": [
            "dict_keys(['UK', 'ES', 'CO', 'MX'])\n"
          ]
        }
      ]
    },
    {
      "cell_type": "markdown",
      "metadata": {
        "id": "4BLVVwuyWoF8"
      },
      "source": [
        "**Common String Operations**\n",
        "\n",
        "A string is an immutable sequence of characters. It can be sliced by index just like a tuple: "
      ]
    },
    {
      "cell_type": "code",
      "metadata": {
        "colab": {
          "base_uri": "https://localhost:8080/"
        },
        "id": "BaVEr70uWk3A",
        "outputId": "b36247fc-0e2a-4f07-bd2a-0e965af0e294"
      },
      "source": [
        "my_str = 'Welcome to QuantConnect'\n",
        "print(my_str[8:])"
      ],
      "execution_count": null,
      "outputs": [
        {
          "output_type": "stream",
          "name": "stdout",
          "text": [
            "to QuantConnect\n"
          ]
        }
      ]
    },
    {
      "cell_type": "code",
      "metadata": {
        "colab": {
          "base_uri": "https://localhost:8080/"
        },
        "id": "xa6gpDEiWwIl",
        "outputId": "62f9525f-79b9-489f-c164-a5214cccd6ea"
      },
      "source": [
        "mystr = \"Bienvenidos a los strings en python\"\n",
        "print(mystr[14:])"
      ],
      "execution_count": null,
      "outputs": [
        {
          "output_type": "stream",
          "name": "stdout",
          "text": [
            "los strings en python\n"
          ]
        }
      ]
    },
    {
      "cell_type": "markdown",
      "metadata": {
        "id": "Z8pDbybAXG8U"
      },
      "source": [
        "There are many methods associated with strings. We can use string.count() to count the occurrences of a character in a string, use string.find() to return the index of a specific character, and use string.replace() to replace characters. "
      ]
    },
    {
      "cell_type": "code",
      "metadata": {
        "colab": {
          "base_uri": "https://localhost:8080/"
        },
        "id": "i4d9B-eJXJ-z",
        "outputId": "746bd806-a5ca-46ad-ea50-e82ec3fbd742"
      },
      "source": [
        "print(\"Counting the number of e's in this sentence\".count('e'))\n",
        "\n",
        "print('The first time e appears in this sentence'.find('e'))\n",
        "\n",
        "print('all the a in this sentence now becomes e'.replace('a','e'))"
      ],
      "execution_count": null,
      "outputs": [
        {
          "output_type": "stream",
          "name": "stdout",
          "text": [
            "6\n",
            "2\n",
            "ell the e in this sentence now becomes e\n"
          ]
        }
      ]
    },
    {
      "cell_type": "code",
      "metadata": {
        "colab": {
          "base_uri": "https://localhost:8080/"
        },
        "id": "UZFeeT-7XSG0",
        "outputId": "c77e851b-2b64-45c1-e797-b174c433ce33"
      },
      "source": [
        "print(\"En esta cadena hay muchas llllllllllll\".count('l'))\n",
        "\n",
        "print(\"La letra d puede aparecer en cualquier momento\".find('d'))\n",
        "\n",
        "print(\"Ojala no cambien muchas letras en la oración\".replace('a', 'i'))"
      ],
      "execution_count": null,
      "outputs": [
        {
          "output_type": "stream",
          "name": "stdout",
          "text": [
            "12\n",
            "9\n",
            "Ojili no cimbien muchis letris en li orición\n"
          ]
        }
      ]
    },
    {
      "cell_type": "markdown",
      "metadata": {
        "id": "UIus4mc0XvQz"
      },
      "source": [
        "The most commonly used method for strings is string.split(). This method will split the string by the indicated character and return a list: "
      ]
    },
    {
      "cell_type": "code",
      "metadata": {
        "colab": {
          "base_uri": "https://localhost:8080/"
        },
        "id": "dRJZ2kQwXx2s",
        "outputId": "c0a03e90-d7b6-4a65-fc5a-0e873598aedf"
      },
      "source": [
        "Time = '2016-04-01 09:43:00'\n",
        "splited_list = Time.split(' ')\n",
        "date = splited_list[0]\n",
        "time = splited_list[1]\n",
        "print(date, time)\n",
        "\n",
        "hour = time.split(':')[0]\n",
        "print(hour)"
      ],
      "execution_count": null,
      "outputs": [
        {
          "output_type": "stream",
          "name": "stdout",
          "text": [
            "2016-04-01 09:43:00\n",
            "09\n"
          ]
        }
      ]
    },
    {
      "cell_type": "code",
      "metadata": {
        "colab": {
          "base_uri": "https://localhost:8080/"
        },
        "id": "4r9A2U8yX31h",
        "outputId": "371709c1-cb44-4fb7-9ea3-aff654e3243e"
      },
      "source": [
        "lab = 'Laboratorio Facultad#123'\n",
        "s_list = lab.split(' ')\n",
        "tipo = s_list[0]\n",
        "facultad = s_list[1]\n",
        "print(tipo, facultad)\n",
        "\n",
        "numero = facultad.split('#')[1]\n",
        "print(numero)"
      ],
      "execution_count": null,
      "outputs": [
        {
          "output_type": "stream",
          "name": "stdout",
          "text": [
            "Laboratorio Facultad#123\n",
            "123\n"
          ]
        }
      ]
    },
    {
      "cell_type": "markdown",
      "metadata": {
        "id": "cyAJVjEiYuGS"
      },
      "source": [
        "We can replace parts of a string by our variable. This is called string formatting. "
      ]
    },
    {
      "cell_type": "code",
      "metadata": {
        "colab": {
          "base_uri": "https://localhost:8080/"
        },
        "id": "BB2MHlK2Ypbg",
        "outputId": "f9197fe3-6aea-409b-df09-e73b8d9fdf3b"
      },
      "source": [
        "my_time = 'Hour: {}, Minute: {}'.format(9, 43)\n",
        "print(my_time)"
      ],
      "execution_count": null,
      "outputs": [
        {
          "output_type": "stream",
          "name": "stdout",
          "text": [
            "Hour: 9, Minute: 43\n"
          ]
        }
      ]
    },
    {
      "cell_type": "code",
      "metadata": {
        "colab": {
          "base_uri": "https://localhost:8080/"
        },
        "id": "HOhNtVzuYyid",
        "outputId": "3eb24a8e-cca8-404e-e549-0273d5f0fe86"
      },
      "source": [
        "result = 'El partido termino: Local {} - {} Visitante'.format(4,2)\n",
        "print(result)"
      ],
      "execution_count": null,
      "outputs": [
        {
          "output_type": "stream",
          "name": "stdout",
          "text": [
            "El partido termino: Local 4 - 2 Visitante\n"
          ]
        }
      ]
    },
    {
      "cell_type": "markdown",
      "metadata": {
        "id": "gAn9_pCtZCvI"
      },
      "source": [
        " Another way to format a string is to use the % symbol. "
      ]
    },
    {
      "cell_type": "code",
      "metadata": {
        "colab": {
          "base_uri": "https://localhost:8080/"
        },
        "id": "W1MWqaQ0ZBtP",
        "outputId": "cec92059-2df6-4538-8ffc-39a6456756b6"
      },
      "source": [
        "print('pi is %f' % 3.14)\n",
        "\n",
        "print('%s to %s' % ('Welcome', 'QuantConnect'))"
      ],
      "execution_count": null,
      "outputs": [
        {
          "output_type": "stream",
          "name": "stdout",
          "text": [
            "pi is 3.140000\n",
            "Welcome to QuantConnect\n"
          ]
        }
      ]
    },
    {
      "cell_type": "code",
      "metadata": {
        "colab": {
          "base_uri": "https://localhost:8080/"
        },
        "id": "nY96S0yiZNcL",
        "outputId": "915fc853-260e-4d62-8f07-4d319229b376"
      },
      "source": [
        "print(\"Hay %d maneras de resolver el problema\" % 435)\n",
        "\n",
        "print(\"La probabilidad de %s es %f\" % (\"ganar\", 23.6))"
      ],
      "execution_count": null,
      "outputs": [
        {
          "output_type": "stream",
          "name": "stdout",
          "text": [
            "Hay 435 maneras de resolver el problema\n",
            "La probabilidad de ganar es 23.600000\n"
          ]
        }
      ]
    },
    {
      "cell_type": "markdown",
      "metadata": {
        "id": "QOCF86BhZnm1"
      },
      "source": [
        "#  Logical Operations and Loops\n",
        "\n",
        "# Logical Operations\n",
        "\n",
        "Like most programming languages, Python has comparison operators: "
      ]
    },
    {
      "cell_type": "code",
      "metadata": {
        "colab": {
          "base_uri": "https://localhost:8080/"
        },
        "id": "JefC-8XOZ5Iw",
        "outputId": "e6ba8b40-94c5-41ae-cd64-62632dccf4e9"
      },
      "source": [
        "print(1 == 0)    # 1 equals 0\n",
        "print(1 == 1)    # 1 equals 1\n",
        "print(1 != 0)    # 1 is not equal to 0\n",
        "print(5 >= 5)    # 5 is greater than or equal to 5\n",
        "print(5 >= 6)    # 5 is greater than or equal to 6"
      ],
      "execution_count": null,
      "outputs": [
        {
          "output_type": "stream",
          "name": "stdout",
          "text": [
            "False\n",
            "True\n",
            "True\n",
            "True\n",
            "False\n"
          ]
        }
      ]
    },
    {
      "cell_type": "code",
      "metadata": {
        "colab": {
          "base_uri": "https://localhost:8080/"
        },
        "id": "et9483G4aA8m",
        "outputId": "72628f37-b7c9-4e3e-fa0d-95e140c884d4"
      },
      "source": [
        "print(8 == 9)    # 8 equals 9\n",
        "print(0 == 0)    # 0 equals 0\n",
        "print(36 != 63)    # 36 is not equal to 63\n",
        "print(38 >= 35)    # 38 is greater than or equal to 35\n",
        "print(1 >= 2)    # 1 is greater than or equal to 2"
      ],
      "execution_count": null,
      "outputs": [
        {
          "output_type": "stream",
          "name": "stdout",
          "text": [
            "False\n",
            "True\n",
            "True\n",
            "True\n",
            "False\n"
          ]
        }
      ]
    },
    {
      "cell_type": "markdown",
      "metadata": {
        "id": "e7TUuW7Jabe6"
      },
      "source": [
        "Each statement above has a boolean value, which must be either True or False, but not both.\n",
        "\n",
        "We can combine simple statements P and Q to form complex statements using logical operators: "
      ]
    },
    {
      "cell_type": "code",
      "metadata": {
        "colab": {
          "base_uri": "https://localhost:8080/"
        },
        "id": "GFHzyxJqaVz0",
        "outputId": "22e41c80-f1f7-4282-fc68-047bc8d6f88e"
      },
      "source": [
        "print(2 > 1 and 3 > 2)\n",
        "print(2 > 1 and 3 < 2)\n",
        "print(2 > 1 or  3 < 2)\n",
        "print(2 < 1 and 3 < 2)"
      ],
      "execution_count": null,
      "outputs": [
        {
          "output_type": "stream",
          "name": "stdout",
          "text": [
            "True\n",
            "False\n",
            "True\n",
            "False\n"
          ]
        }
      ]
    },
    {
      "cell_type": "code",
      "metadata": {
        "colab": {
          "base_uri": "https://localhost:8080/"
        },
        "id": "ouYsu21ea2Jn",
        "outputId": "cbcd680f-9228-4282-c051-4054678d8a4b"
      },
      "source": [
        "print(5 > 6 and 8 > 3)\n",
        "print(4 > 2 and 4 < 8)\n",
        "print(3 > 6 or  0 < 2)\n",
        "print(8 < 4 and 3 < 4)"
      ],
      "execution_count": null,
      "outputs": [
        {
          "output_type": "stream",
          "name": "stdout",
          "text": [
            "False\n",
            "True\n",
            "True\n",
            "False\n"
          ]
        }
      ]
    },
    {
      "cell_type": "markdown",
      "metadata": {
        "id": "7-s0-DGtskGC"
      },
      "source": [
        "When dealing with a very complex logical statement that involves in several statements, we can use brackets to separate and combine them. "
      ]
    },
    {
      "cell_type": "code",
      "metadata": {
        "colab": {
          "base_uri": "https://localhost:8080/"
        },
        "id": "cRy_kXiXso0I",
        "outputId": "23b44da0-4fad-4a62-f703-edd2b7206ca0"
      },
      "source": [
        "print((3 > 2 or 1 < 3) and (1!=3 and 4>3) and not ( 3 < 2 or 1 < 3 and (1!=3 and 4>3)))\n",
        "print(3 > 2 or 1 < 3 and (1!=3 and 4>3) and not ( 3 < 2 or 1 < 3 and (1!=3 and 4>3)))"
      ],
      "execution_count": null,
      "outputs": [
        {
          "output_type": "stream",
          "name": "stdout",
          "text": [
            "False\n",
            "True\n"
          ]
        }
      ]
    },
    {
      "cell_type": "code",
      "metadata": {
        "colab": {
          "base_uri": "https://localhost:8080/"
        },
        "id": "wjfTgYhvsv6L",
        "outputId": "d741066e-325d-48eb-fa7c-740b8737f563"
      },
      "source": [
        "print((-3 > -8 or 0 < 56) and (5 != 7 and 9 > 1) and not ( -8 < 6 or 3 < 1 and (0 != 0 and 8 > 2)))\n",
        "print(9 > -3 or 7 < 3 and (24 != 42 and 8 > 4) and not ( 6 < 5 or 2 < 9 and (21 != 4 and 8 > 2)))"
      ],
      "execution_count": null,
      "outputs": [
        {
          "output_type": "stream",
          "name": "stdout",
          "text": [
            "False\n",
            "True\n"
          ]
        }
      ]
    },
    {
      "cell_type": "markdown",
      "metadata": {
        "id": "1zLUBdKmtYSO"
      },
      "source": [
        "**If Statement**\n",
        "\n",
        "An if statement executes a segment of code only if its condition is true. A standard if statement consists of 3 segments: if, elif and else. \n",
        "\n",
        "```python\n",
        "if condition1:\n",
        "    # if condition1 is true, execute the code here\n",
        "    # and ignore the rest of this if statement\n",
        "elif condition2:\n",
        "    # if condition1 is false, and condition2 is true, execute the code here\n",
        "    # and ignore the rest of this if statement\n",
        "else:\n",
        "    # if none of the above conditions is True, execute the code here\n",
        "```\n",
        "\n",
        "An if statement doesn't necessarily has elif and else part. If it's not specified, the indented block of code will be executed when the condition is true, otherwise the whole if statement will be skipped. "
      ]
    },
    {
      "cell_type": "code",
      "metadata": {
        "colab": {
          "base_uri": "https://localhost:8080/"
        },
        "id": "odM31eAptGc4",
        "outputId": "9202fb57-7b46-4ced-c888-b8eab22927aa"
      },
      "source": [
        "i = 0\n",
        "if i == 0: print('i == 0 is True')"
      ],
      "execution_count": null,
      "outputs": [
        {
          "output_type": "stream",
          "name": "stdout",
          "text": [
            "i == 0 is True\n"
          ]
        }
      ]
    },
    {
      "cell_type": "code",
      "metadata": {
        "colab": {
          "base_uri": "https://localhost:8080/"
        },
        "id": "3MPRntBguHGt",
        "outputId": "1800950d-eccc-4030-ed42-53fb7fd99499"
      },
      "source": [
        "color = 'white'\n",
        "if color == 'white': print('The color is white')"
      ],
      "execution_count": null,
      "outputs": [
        {
          "output_type": "stream",
          "name": "stdout",
          "text": [
            "The color is white\n"
          ]
        }
      ]
    },
    {
      "cell_type": "markdown",
      "metadata": {
        "id": "V4EHeERFuUrV"
      },
      "source": [
        " As we mentioned above, we can write some complex statements here: "
      ]
    },
    {
      "cell_type": "code",
      "metadata": {
        "colab": {
          "base_uri": "https://localhost:8080/"
        },
        "id": "iQ6Oke1_uRXc",
        "outputId": "d399300d-5a67-473a-eff3-f6b58b5e7502"
      },
      "source": [
        "p = 1 > 0\n",
        "q = 2 > 3\n",
        "if p and q:\n",
        "    print('p and q is true')\n",
        "elif p and not q:\n",
        "    print('q is false')\n",
        "elif q and not p:\n",
        "    print('p is false')\n",
        "else:\n",
        "    print('None of p and q is true')"
      ],
      "execution_count": null,
      "outputs": [
        {
          "output_type": "stream",
          "name": "stdout",
          "text": [
            "q is false\n"
          ]
        }
      ]
    },
    {
      "cell_type": "code",
      "metadata": {
        "colab": {
          "base_uri": "https://localhost:8080/"
        },
        "id": "SkCRGvpBug3s",
        "outputId": "1bebe0d6-4347-490f-dabd-2c091752b393"
      },
      "source": [
        "p = 4 % 2 == 0\n",
        "q = 4 % 3 == 0\n",
        "r = 4 % 4 == 0\n",
        "\n",
        "if p and q:\n",
        "  print('4 es par y múltiplo de 3')\n",
        "elif p and not r:\n",
        "  print('4 es par y no es múltiplo de 4')\n",
        "elif p and r:\n",
        "  print('4 es par y múltiplo de 4')\n",
        "else:\n",
        "  print('4 es impar')"
      ],
      "execution_count": null,
      "outputs": [
        {
          "output_type": "stream",
          "name": "stdout",
          "text": [
            "4 es par y múltiplo de 4\n"
          ]
        }
      ]
    },
    {
      "cell_type": "markdown",
      "metadata": {
        "id": "_ViKaA-Jt-hU"
      },
      "source": [
        "**Loop Structure**\n",
        "\n",
        "Loops are an essential part of programming. The \"for\" and \"while\" loops run a block of code repeatedly.\n",
        "\n",
        "**While Loop**\n",
        "\n",
        "A \"while\" loop will run repeatedly until a certain condition has been met. "
      ]
    },
    {
      "cell_type": "code",
      "metadata": {
        "colab": {
          "base_uri": "https://localhost:8080/"
        },
        "id": "fOlUoZypvlWX",
        "outputId": "0cc8a418-265d-4f61-e5a4-84b2e8c33ead"
      },
      "source": [
        "i = 0\n",
        "while i < 5:\n",
        "    print(i)\n",
        "    i += 1"
      ],
      "execution_count": null,
      "outputs": [
        {
          "output_type": "stream",
          "name": "stdout",
          "text": [
            "0\n",
            "1\n",
            "2\n",
            "3\n",
            "4\n"
          ]
        }
      ]
    },
    {
      "cell_type": "code",
      "metadata": {
        "colab": {
          "base_uri": "https://localhost:8080/"
        },
        "id": "8R4pYqArv189",
        "outputId": "b7c43328-23e3-4da0-f004-de0f6eda51b8"
      },
      "source": [
        "x = 10\n",
        "\n",
        "while x > 0:\n",
        "  print(x)\n",
        "  x -= 2"
      ],
      "execution_count": null,
      "outputs": [
        {
          "output_type": "stream",
          "name": "stdout",
          "text": [
            "10\n",
            "8\n",
            "6\n",
            "4\n",
            "2\n"
          ]
        }
      ]
    },
    {
      "cell_type": "markdown",
      "metadata": {
        "id": "MrCphZuKwIr4"
      },
      "source": [
        "**For Loop**\n",
        "\n",
        "A \"for\" loop will iterate over a sequence of value and terminate when the sequence has ended. "
      ]
    },
    {
      "cell_type": "code",
      "metadata": {
        "colab": {
          "base_uri": "https://localhost:8080/"
        },
        "id": "m2q6leNCwLQL",
        "outputId": "9e201692-5069-4461-9c8f-bd86d9dd6d38"
      },
      "source": [
        "for x in [1,2,3,4,5]: print (x)"
      ],
      "execution_count": null,
      "outputs": [
        {
          "output_type": "stream",
          "name": "stdout",
          "text": [
            "1\n",
            "2\n",
            "3\n",
            "4\n",
            "5\n"
          ]
        }
      ]
    },
    {
      "cell_type": "code",
      "metadata": {
        "colab": {
          "base_uri": "https://localhost:8080/"
        },
        "id": "m1MQmaIDwPVa",
        "outputId": "bb717e2c-ebfc-46d0-8ad4-d0a3455af1d8"
      },
      "source": [
        "for w in ['a', 'b', 'c', 'd', 'e']: print(w)"
      ],
      "execution_count": null,
      "outputs": [
        {
          "output_type": "stream",
          "name": "stdout",
          "text": [
            "a\n",
            "b\n",
            "c\n",
            "d\n",
            "e\n"
          ]
        }
      ]
    },
    {
      "cell_type": "markdown",
      "metadata": {
        "id": "A1pdLL1bweBT"
      },
      "source": [
        "We can also add if statements in a for loop. Here is a real example from our pairs trading algorithm: "
      ]
    },
    {
      "cell_type": "code",
      "metadata": {
        "colab": {
          "base_uri": "https://localhost:8080/"
        },
        "id": "9R9RVDQVwZEZ",
        "outputId": "cc913b19-79e8-4f22-f356-f889c0ce183c"
      },
      "source": [
        "stocks = ['AAPL','GOOG','IBM','FB','F','V', 'G', 'GE']\n",
        "selected = ['AAPL','IBM']\n",
        "new_list = []\n",
        "for stock in stocks:\n",
        "    if stock not in selected:\n",
        "        new_list.append(stock)\n",
        "print(new_list)"
      ],
      "execution_count": null,
      "outputs": [
        {
          "output_type": "stream",
          "name": "stdout",
          "text": [
            "['GOOG', 'FB', 'F', 'V', 'G', 'GE']\n"
          ]
        }
      ]
    },
    {
      "cell_type": "code",
      "metadata": {
        "colab": {
          "base_uri": "https://localhost:8080/"
        },
        "id": "5NG0eVPAwmVV",
        "outputId": "f27a446e-d347-4f4d-8d37-b5f0c8646673"
      },
      "source": [
        "numbers = [0, 1, 2, 3, 4, 5, 6, 7, 8, 9, 10]\n",
        "\n",
        "for n in numbers:\n",
        "  print(n)\n",
        "  if n % 2 == 0:\n",
        "    print('El número es par')\n",
        "  else:\n",
        "    print('El número es impar')"
      ],
      "execution_count": null,
      "outputs": [
        {
          "output_type": "stream",
          "name": "stdout",
          "text": [
            "0\n",
            "El número es par\n",
            "1\n",
            "El número es impar\n",
            "2\n",
            "El número es par\n",
            "3\n",
            "El número es impar\n",
            "4\n",
            "El número es par\n",
            "5\n",
            "El número es impar\n",
            "6\n",
            "El número es par\n",
            "7\n",
            "El número es impar\n",
            "8\n",
            "El número es par\n",
            "9\n",
            "El número es impar\n",
            "10\n",
            "El número es par\n"
          ]
        }
      ]
    },
    {
      "cell_type": "markdown",
      "metadata": {
        "id": "5XeG0_y4w-vx"
      },
      "source": [
        "**Break and continue**\n",
        "\n",
        "These are two commonly used commands in a for loop. If \"break\" is triggered while a loop is executing, the loop will terminate immediately: "
      ]
    },
    {
      "cell_type": "code",
      "metadata": {
        "colab": {
          "base_uri": "https://localhost:8080/"
        },
        "id": "3gNw4hBOxBkS",
        "outputId": "c2d08528-6607-4307-849f-0d55f94ebad6"
      },
      "source": [
        "stocks = ['AAPL','GOOG','IBM','FB','F','V', 'G', 'GE']\n",
        "for stock in stocks:\n",
        "    print(stock)\n",
        "    if stock == 'FB': break"
      ],
      "execution_count": null,
      "outputs": [
        {
          "output_type": "stream",
          "name": "stdout",
          "text": [
            "AAPL\n",
            "GOOG\n",
            "IBM\n",
            "FB\n"
          ]
        }
      ]
    },
    {
      "cell_type": "code",
      "metadata": {
        "colab": {
          "base_uri": "https://localhost:8080/"
        },
        "id": "jwWqBK0ixLUM",
        "outputId": "5af084ee-bf26-436c-85fb-0c6c1d4bf478"
      },
      "source": [
        "numbers = [1, 2, 3, 4, 5, 6, 7, 8, 9, 10]\n",
        "\n",
        "for n in numbers:\n",
        "  print(n)\n",
        "  if n % 4 == 0:\n",
        "    break"
      ],
      "execution_count": null,
      "outputs": [
        {
          "output_type": "stream",
          "name": "stdout",
          "text": [
            "1\n",
            "2\n",
            "3\n",
            "4\n"
          ]
        }
      ]
    },
    {
      "cell_type": "markdown",
      "metadata": {
        "id": "PudRlBX3xthC"
      },
      "source": [
        "The \"continue\" command tells the loop to end this iteration and skip to the next iteration: "
      ]
    },
    {
      "cell_type": "code",
      "metadata": {
        "colab": {
          "base_uri": "https://localhost:8080/"
        },
        "id": "n1SUfWETxslC",
        "outputId": "1c0b9363-dc71-4bc6-f7a2-5d7abb97023c"
      },
      "source": [
        "stocks = ['AAPL','GOOG','IBM','FB','F','V', 'G', 'GE']\n",
        "for stock in stocks:\n",
        "    if stock == 'FB': continue\n",
        "    print(stock)"
      ],
      "execution_count": null,
      "outputs": [
        {
          "output_type": "stream",
          "name": "stdout",
          "text": [
            "AAPL\n",
            "GOOG\n",
            "IBM\n",
            "F\n",
            "V\n",
            "G\n",
            "GE\n"
          ]
        }
      ]
    },
    {
      "cell_type": "code",
      "metadata": {
        "colab": {
          "base_uri": "https://localhost:8080/"
        },
        "id": "d19f2OtLxfCV",
        "outputId": "d019341b-b114-436d-a326-5a57b663d516"
      },
      "source": [
        "numbers = [1, 2, 3, 4, 5, 6, 7, 8, 9, 10]\n",
        "\n",
        "for n in numbers:\n",
        "  if n % 8 == 0:\n",
        "    continue\n",
        "  print(n)"
      ],
      "execution_count": null,
      "outputs": [
        {
          "output_type": "stream",
          "name": "stdout",
          "text": [
            "1\n",
            "2\n",
            "3\n",
            "4\n",
            "5\n",
            "6\n",
            "7\n",
            "9\n",
            "10\n"
          ]
        }
      ]
    },
    {
      "cell_type": "markdown",
      "metadata": {
        "id": "C0JrY6zhx9sC"
      },
      "source": [
        "**List Comprehension**\n",
        "\n",
        "List comprehension is a Pythonic way to create lists. Common applications are to make new lists where each element is the result of some operations applied to each member of another sequence. For example, if we want to create a list of squares using for loop: "
      ]
    },
    {
      "cell_type": "code",
      "metadata": {
        "colab": {
          "base_uri": "https://localhost:8080/"
        },
        "id": "f1SBpXN3yFXN",
        "outputId": "15fc6755-5419-4142-f24d-5f7600f2e803"
      },
      "source": [
        "squares = []\n",
        "for i in [1,2,3,4,5]:\n",
        "    squares.append(i**2)\n",
        "print(squares)"
      ],
      "execution_count": null,
      "outputs": [
        {
          "output_type": "stream",
          "name": "stdout",
          "text": [
            "[1, 4, 9, 16, 25]\n"
          ]
        }
      ]
    },
    {
      "cell_type": "code",
      "metadata": {
        "colab": {
          "base_uri": "https://localhost:8080/"
        },
        "id": "X8zWXsXCyQV3",
        "outputId": "86702392-64c8-4b4a-9137-693b063771d7"
      },
      "source": [
        "m5 = []\n",
        "for x in [1, 2, 3, 4, 5, 6, 7, 8, 9, 10]:\n",
        "  m5.append(x*5)\n",
        "\n",
        "print(m5)"
      ],
      "execution_count": null,
      "outputs": [
        {
          "output_type": "stream",
          "name": "stdout",
          "text": [
            "[5, 10, 15, 20, 25, 30, 35, 40, 45, 50]\n"
          ]
        }
      ]
    },
    {
      "cell_type": "markdown",
      "metadata": {
        "id": "vmxkbiaoyn71"
      },
      "source": [
        " Using list comprehension: "
      ]
    },
    {
      "cell_type": "code",
      "metadata": {
        "colab": {
          "base_uri": "https://localhost:8080/"
        },
        "id": "sDLZB5D4ynoG",
        "outputId": "00e8df7d-c298-4aa4-a1ad-2d82dddcfcab"
      },
      "source": [
        "foo = [1,2,3,4,5]\n",
        "squares = [x**2 for x in foo]\n",
        "print(squares)"
      ],
      "execution_count": null,
      "outputs": [
        {
          "output_type": "stream",
          "name": "stdout",
          "text": [
            "[1, 4, 9, 16, 25]\n"
          ]
        }
      ]
    },
    {
      "cell_type": "code",
      "metadata": {
        "colab": {
          "base_uri": "https://localhost:8080/"
        },
        "id": "qrin9TfdywDq",
        "outputId": "d92d4282-4f92-4d2c-dd34-5f628255185a"
      },
      "source": [
        "numbers = [1, 2, 3, 4, 5, 6, 7, 8, 9, 10]\n",
        "m5 = [x*5 for x in numbers]\n",
        "print(m5)"
      ],
      "execution_count": null,
      "outputs": [
        {
          "output_type": "stream",
          "name": "stdout",
          "text": [
            "[5, 10, 15, 20, 25, 30, 35, 40, 45, 50]\n"
          ]
        }
      ]
    },
    {
      "cell_type": "markdown",
      "metadata": {
        "id": "vlre3Qzny_ur"
      },
      "source": [
        "Recall the example above where we used a for loop to select stocks. Here we use list comprehension: "
      ]
    },
    {
      "cell_type": "code",
      "metadata": {
        "colab": {
          "base_uri": "https://localhost:8080/"
        },
        "id": "vN4bzZeDzEr0",
        "outputId": "a34e5590-5eea-4e69-d971-a305ac3e43bd"
      },
      "source": [
        "stocks = ['AAPL','GOOG','IBM','FB','F','V', 'G', 'GE']\n",
        "selected = ['AAPL','IBM']\n",
        "new_list = [x for x in stocks if x not in selected]\n",
        "print(new_list)"
      ],
      "execution_count": null,
      "outputs": [
        {
          "output_type": "stream",
          "name": "stdout",
          "text": [
            "['GOOG', 'FB', 'F', 'V', 'G', 'GE']\n"
          ]
        }
      ]
    },
    {
      "cell_type": "code",
      "metadata": {
        "colab": {
          "base_uri": "https://localhost:8080/"
        },
        "id": "RsrFuF-ezRtw",
        "outputId": "8e7d9756-cf33-4dbb-9543-339261a75821"
      },
      "source": [
        "numbers = [1, 2, 3, 4, 5, 6, 7, 8, 9, 10]\n",
        "even = [x for x in numbers if x % 2 == 0]\n",
        "print(even)"
      ],
      "execution_count": null,
      "outputs": [
        {
          "output_type": "stream",
          "name": "stdout",
          "text": [
            "[2, 4, 6, 8, 10]\n"
          ]
        }
      ]
    },
    {
      "cell_type": "markdown",
      "metadata": {
        "id": "m9HltddDzmjr"
      },
      "source": [
        "A list comprehension consists of square brackets containing an expression followed by a \"for\" clause, and possibly \"for\" or \"if\" clauses. For example: "
      ]
    },
    {
      "cell_type": "code",
      "metadata": {
        "colab": {
          "base_uri": "https://localhost:8080/"
        },
        "id": "wdG_2hTnznjI",
        "outputId": "c6c744af-e782-4ef4-ca1d-a787ba3dd9c8"
      },
      "source": [
        "print([(x, y) for x in [1,2,3] for y in [3,1,4] if x != y])\n",
        "print([str(x) + ' vs ' + str(y) for x in ['AAPL','GOOG','IBM','FB'] for y in ['F','V','G','GE'] if x != y])"
      ],
      "execution_count": null,
      "outputs": [
        {
          "output_type": "stream",
          "name": "stdout",
          "text": [
            "[(1, 3), (1, 4), (2, 3), (2, 1), (2, 4), (3, 1), (3, 4)]\n",
            "['AAPL vs F', 'AAPL vs V', 'AAPL vs G', 'AAPL vs GE', 'GOOG vs F', 'GOOG vs V', 'GOOG vs G', 'GOOG vs GE', 'IBM vs F', 'IBM vs V', 'IBM vs G', 'IBM vs GE', 'FB vs F', 'FB vs V', 'FB vs G', 'FB vs GE']\n"
          ]
        }
      ]
    },
    {
      "cell_type": "code",
      "metadata": {
        "colab": {
          "base_uri": "https://localhost:8080/"
        },
        "id": "7MkqOD8Kzy8i",
        "outputId": "1cfae15c-66a7-427a-f882-35a9b02573aa"
      },
      "source": [
        "print([(x, y) for x in ['Azul', 'Rojo', 'Amarillo'] for y in ['Amarillo', 'Rojo', 'Azul', 'Verde'] if x != y])\n",
        "print([str(x) + ' vs ' + str(y) for x in ['CO','AR','UK','US', 'MX'] for y in ['US','UK','MX','BR', 'LD'] if x != y])"
      ],
      "execution_count": null,
      "outputs": [
        {
          "output_type": "stream",
          "name": "stdout",
          "text": [
            "[('Azul', 'Amarillo'), ('Azul', 'Rojo'), ('Azul', 'Verde'), ('Rojo', 'Amarillo'), ('Rojo', 'Azul'), ('Rojo', 'Verde'), ('Amarillo', 'Rojo'), ('Amarillo', 'Azul'), ('Amarillo', 'Verde')]\n",
            "['CO vs US', 'CO vs UK', 'CO vs MX', 'CO vs BR', 'CO vs LD', 'AR vs US', 'AR vs UK', 'AR vs MX', 'AR vs BR', 'AR vs LD', 'UK vs US', 'UK vs MX', 'UK vs BR', 'UK vs LD', 'US vs UK', 'US vs MX', 'US vs BR', 'US vs LD', 'MX vs US', 'MX vs UK', 'MX vs BR', 'MX vs LD']\n"
          ]
        }
      ]
    },
    {
      "cell_type": "markdown",
      "metadata": {
        "id": "e00WN70H0nEs"
      },
      "source": [
        "# Functions and Objective-Oriented Programming\n",
        "\n",
        "**Functions**\n",
        "\n",
        "A function is a reusable block of code. We can use a function to output a value, or do anything else we want. We can easily define our own function by using the keyword \"def\". "
      ]
    },
    {
      "cell_type": "code",
      "metadata": {
        "colab": {
          "base_uri": "https://localhost:8080/"
        },
        "id": "cV0Ld88b06CM",
        "outputId": "9e995521-8986-46f6-8939-457e741d640d"
      },
      "source": [
        "def product(x,y):\n",
        "    return x*y\n",
        "print(product(2,3))\n",
        "print(product(5,10))"
      ],
      "execution_count": null,
      "outputs": [
        {
          "output_type": "stream",
          "name": "stdout",
          "text": [
            "6\n",
            "50\n"
          ]
        }
      ]
    },
    {
      "cell_type": "code",
      "metadata": {
        "colab": {
          "base_uri": "https://localhost:8080/"
        },
        "id": "j5l42Ec_1A7C",
        "outputId": "f5274381-7538-48d4-e5ad-05626426d524"
      },
      "source": [
        "def square(n):\n",
        "  return n**2\n",
        "\n",
        "print(square(5))\n",
        "print(square(12))"
      ],
      "execution_count": null,
      "outputs": [
        {
          "output_type": "stream",
          "name": "stdout",
          "text": [
            "25\n",
            "144\n"
          ]
        }
      ]
    },
    {
      "cell_type": "markdown",
      "metadata": {
        "id": "NhgkP96z1R-C"
      },
      "source": [
        "The keyword \"def\" is followed by the function name and the parenthesized list of formal parameters. The statements that form the body of the function start at the next line, and must be indented. The product() function above has \"x\" and \"y\" as its parameters. A function doesn't necessarily have parameters: "
      ]
    },
    {
      "cell_type": "code",
      "metadata": {
        "colab": {
          "base_uri": "https://localhost:8080/"
        },
        "id": "uTvuNUyA1amS",
        "outputId": "f6dd9ae5-38eb-4377-f441-7f1b1a725008"
      },
      "source": [
        "def say_hi():\n",
        "    print(\"Welcome to QuantConnect\")\n",
        "\n",
        "say_hi()"
      ],
      "execution_count": null,
      "outputs": [
        {
          "output_type": "stream",
          "name": "stdout",
          "text": [
            "Welcome to QuantConnect\n"
          ]
        }
      ]
    },
    {
      "cell_type": "code",
      "metadata": {
        "colab": {
          "base_uri": "https://localhost:8080/"
        },
        "id": "OAXg1-H91jyu",
        "outputId": "511e7940-3f9a-410f-bc5e-330816f4c1ba"
      },
      "source": [
        "def fav_number():\n",
        "    print('Your fav number is 8')\n",
        "\n",
        "fav_number()"
      ],
      "execution_count": null,
      "outputs": [
        {
          "output_type": "stream",
          "name": "stdout",
          "text": [
            "Your fav number is 8\n"
          ]
        }
      ]
    },
    {
      "cell_type": "markdown",
      "metadata": {
        "id": "MMpA3aBa1-pz"
      },
      "source": [
        "**Built-in Function**\n",
        "\n",
        "range() is a function that creates a list containing an arithmetic sequence. It's often used in for loops. The arguments must be integers. If the \"step\" argument is omitted, it defaults to 1. "
      ]
    },
    {
      "cell_type": "code",
      "metadata": {
        "colab": {
          "base_uri": "https://localhost:8080/"
        },
        "id": "7JHH88BB2OQ1",
        "outputId": "2195bd95-39e8-4499-9a30-6ee049050497"
      },
      "source": [
        "print(*range(10))\n",
        "\n",
        "print(*range(1, 11))\n",
        "\n",
        "print(*range(1, 11, 2))"
      ],
      "execution_count": null,
      "outputs": [
        {
          "output_type": "stream",
          "name": "stdout",
          "text": [
            "0 1 2 3 4 5 6 7 8 9\n",
            "1 2 3 4 5 6 7 8 9 10\n",
            "1 3 5 7 9\n"
          ]
        }
      ]
    },
    {
      "cell_type": "code",
      "metadata": {
        "colab": {
          "base_uri": "https://localhost:8080/"
        },
        "id": "B7Kxn1vg2kqd",
        "outputId": "16491202-7443-4fb8-a7c7-8d2d694f0063"
      },
      "source": [
        "print(*range(22))\n",
        "\n",
        "print(*range(10, 18))\n",
        "\n",
        "print(*range(-30, 20, 5))"
      ],
      "execution_count": null,
      "outputs": [
        {
          "output_type": "stream",
          "name": "stdout",
          "text": [
            "0 1 2 3 4 5 6 7 8 9 10 11 12 13 14 15 16 17 18 19 20 21\n",
            "10 11 12 13 14 15 16 17\n",
            "-30 -25 -20 -15 -10 -5 0 5 10 15\n"
          ]
        }
      ]
    },
    {
      "cell_type": "markdown",
      "metadata": {
        "id": "27HT7ArF3L4_"
      },
      "source": [
        "**len()** is another function used together with range() to create a for loop. This function returns the length of an object. The argument must be a sequence or a collection. "
      ]
    },
    {
      "cell_type": "code",
      "metadata": {
        "colab": {
          "base_uri": "https://localhost:8080/"
        },
        "id": "bjAUbTAJ3ORq",
        "outputId": "007910cc-dccb-439c-8bb3-be39f1c52884"
      },
      "source": [
        "tickers = ['AAPL', 'GOOGL', 'IBM', 'FB', 'F', 'V', 'G', 'GE']\n",
        "print(\"The number of tickers is {}\".format(len(tickers)))\n",
        "for k in range(len(tickers)):\n",
        "    print(k + 1, tickers[k])"
      ],
      "execution_count": null,
      "outputs": [
        {
          "output_type": "stream",
          "name": "stdout",
          "text": [
            "The number of tickers is 8\n",
            "1 AAPL\n",
            "2 GOOGL\n",
            "3 IBM\n",
            "4 FB\n",
            "5 F\n",
            "6 V\n",
            "7 G\n",
            "8 GE\n"
          ]
        }
      ]
    },
    {
      "cell_type": "code",
      "metadata": {
        "colab": {
          "base_uri": "https://localhost:8080/"
        },
        "id": "7q6BkQHj3axY",
        "outputId": "93cb8926-3fa2-4920-b7a5-56d2800a32c3"
      },
      "source": [
        "ct = ['UK', 'US', 'CA', 'MX', 'FR']\n",
        "print(\"Hay {} paises participantes\".format(len(ct)))\n",
        "for c in range(len(ct)):\n",
        "  print(\"El número %d corresponde a %s\" % (c+1, ct[c]))"
      ],
      "execution_count": null,
      "outputs": [
        {
          "output_type": "stream",
          "name": "stdout",
          "text": [
            "Hay 5 paises participantes\n",
            "El número 1 corresponde a UK\n",
            "El número 2 corresponde a US\n",
            "El número 3 corresponde a CA\n",
            "El número 4 corresponde a MX\n",
            "El número 5 corresponde a FR\n"
          ]
        }
      ]
    },
    {
      "cell_type": "markdown",
      "metadata": {
        "id": "yDkIZ8Vi4rzS"
      },
      "source": [
        "**map()** is a function that applies a specific function to every item of a sequence or collection, and returns a list of the results. "
      ]
    },
    {
      "cell_type": "code",
      "metadata": {
        "colab": {
          "base_uri": "https://localhost:8080/"
        },
        "id": "tFuMcgK94vyQ",
        "outputId": "cb58881d-aa78-4ae8-e2c1-d63c37097848"
      },
      "source": [
        "tickers = ['AAPL','GOOG','IBM','FB','F','V', 'G', 'GE']\n",
        "print(list(map(len,tickers)))"
      ],
      "execution_count": null,
      "outputs": [
        {
          "output_type": "stream",
          "name": "stdout",
          "text": [
            "[4, 4, 3, 2, 1, 1, 1, 2]\n"
          ]
        }
      ]
    },
    {
      "cell_type": "code",
      "metadata": {
        "colab": {
          "base_uri": "https://localhost:8080/"
        },
        "id": "NTaZc7iQ5M4k",
        "outputId": "0d7063aa-a9ff-43b6-b937-9a02ccced618"
      },
      "source": [
        "integers = [2, 4, 5, 8, 12]\n",
        "print(list(map(float, integers)))"
      ],
      "execution_count": null,
      "outputs": [
        {
          "output_type": "stream",
          "name": "stdout",
          "text": [
            "[2.0, 4.0, 5.0, 8.0, 12.0]\n"
          ]
        }
      ]
    },
    {
      "cell_type": "markdown",
      "metadata": {
        "id": "eL-F7x155ahV"
      },
      "source": [
        "The lambda operator is a way to create small anonymous functions. These functions are just needed where they have been created. For example:"
      ]
    },
    {
      "cell_type": "code",
      "metadata": {
        "colab": {
          "base_uri": "https://localhost:8080/"
        },
        "id": "5an7_Nl75dt9",
        "outputId": "ee170a18-8506-49d1-edf3-9bf7a760081f"
      },
      "source": [
        "print(list(map(lambda x: x**2, range(10))))"
      ],
      "execution_count": null,
      "outputs": [
        {
          "output_type": "stream",
          "name": "stdout",
          "text": [
            "[0, 1, 4, 9, 16, 25, 36, 49, 64, 81]\n"
          ]
        }
      ]
    },
    {
      "cell_type": "code",
      "metadata": {
        "colab": {
          "base_uri": "https://localhost:8080/"
        },
        "id": "4ZUHqoSi5eqo",
        "outputId": "d7416563-4857-4250-b1bf-3fdcf234a81d"
      },
      "source": [
        "print(list(map(lambda x: x+1, range(10))))"
      ],
      "execution_count": null,
      "outputs": [
        {
          "output_type": "stream",
          "name": "stdout",
          "text": [
            "[1, 2, 3, 4, 5, 6, 7, 8, 9, 10]\n"
          ]
        }
      ]
    },
    {
      "cell_type": "markdown",
      "metadata": {
        "id": "zcdjaQXZ5uEs"
      },
      "source": [
        "map() can be applied to more than one list. The lists have to have the same length. "
      ]
    },
    {
      "cell_type": "code",
      "metadata": {
        "colab": {
          "base_uri": "https://localhost:8080/"
        },
        "id": "pjd20bD15vhz",
        "outputId": "930af8df-fd34-4e95-e56e-cf055edad724"
      },
      "source": [
        "print(list(map(lambda x, y: x+y, [1,2,3,4,5], [5,4,3,2,1])))"
      ],
      "execution_count": null,
      "outputs": [
        {
          "output_type": "stream",
          "name": "stdout",
          "text": [
            "[6, 6, 6, 6, 6]\n"
          ]
        }
      ]
    },
    {
      "cell_type": "code",
      "metadata": {
        "colab": {
          "base_uri": "https://localhost:8080/"
        },
        "id": "RwtjMQYS5x8V",
        "outputId": "0482b302-3e20-4410-d29f-76e810e4e000"
      },
      "source": [
        "print(list(map(lambda x, y: x**y, [1,2,3,4,5], [8,7,6,5,4])))"
      ],
      "execution_count": null,
      "outputs": [
        {
          "output_type": "stream",
          "name": "stdout",
          "text": [
            "[1, 128, 729, 1024, 625]\n"
          ]
        }
      ]
    },
    {
      "cell_type": "markdown",
      "metadata": {
        "id": "EP9MCq7d6Hjn"
      },
      "source": [
        " sorted() takes a list or set and returns a new sorted list: "
      ]
    },
    {
      "cell_type": "code",
      "metadata": {
        "colab": {
          "base_uri": "https://localhost:8080/"
        },
        "id": "8j8r0y9P6J-D",
        "outputId": "38bfcb64-eb2c-4887-c290-7dbc1209092c"
      },
      "source": [
        "sorted([5,2,3,4,1])"
      ],
      "execution_count": null,
      "outputs": [
        {
          "output_type": "execute_result",
          "data": {
            "text/plain": [
              "[1, 2, 3, 4, 5]"
            ]
          },
          "metadata": {},
          "execution_count": 131
        }
      ]
    },
    {
      "cell_type": "code",
      "metadata": {
        "colab": {
          "base_uri": "https://localhost:8080/"
        },
        "id": "bkiZHavw6MGQ",
        "outputId": "33ec10ff-6376-4fb0-f8ec-84fadf98b23e"
      },
      "source": [
        "sorted(['B','A','D','F','Z', 'L'])"
      ],
      "execution_count": null,
      "outputs": [
        {
          "output_type": "execute_result",
          "data": {
            "text/plain": [
              "['A', 'B', 'D', 'F', 'L', 'Z']"
            ]
          },
          "metadata": {},
          "execution_count": 132
        }
      ]
    },
    {
      "cell_type": "markdown",
      "metadata": {
        "id": "cNp5Rl2V6n1f"
      },
      "source": [
        "We can add a \"key\" parameter to specify a function to be called on each list element prior to making comparisons. For example: "
      ]
    },
    {
      "cell_type": "code",
      "metadata": {
        "colab": {
          "base_uri": "https://localhost:8080/"
        },
        "id": "hDvGPynx6pDi",
        "outputId": "8cc371ff-98fb-4e1a-ecce-cbbb48f8461d"
      },
      "source": [
        "price_list = [('AAPL', 144.09), ('GOOGL', 911.71), ('MSFT', 69), ('FB', 150), ('WMT', 75.32)]\n",
        "sorted(price_list, key = lambda x: x[1])"
      ],
      "execution_count": null,
      "outputs": [
        {
          "output_type": "execute_result",
          "data": {
            "text/plain": [
              "[('MSFT', 69),\n",
              " ('WMT', 75.32),\n",
              " ('AAPL', 144.09),\n",
              " ('FB', 150),\n",
              " ('GOOGL', 911.71)]"
            ]
          },
          "metadata": {},
          "execution_count": 133
        }
      ]
    },
    {
      "cell_type": "code",
      "metadata": {
        "colab": {
          "base_uri": "https://localhost:8080/"
        },
        "id": "aJLl0C2A67mW",
        "outputId": "7c796e51-05e0-4cd9-e1e2-ab1557474342"
      },
      "source": [
        "clist = [('A', 90), ('Z', 5), ('H', 65), ('J', 2)]\n",
        "sorted(clist, key = lambda x: x[0])"
      ],
      "execution_count": null,
      "outputs": [
        {
          "output_type": "execute_result",
          "data": {
            "text/plain": [
              "[('A', 90), ('H', 65), ('J', 2), ('Z', 5)]"
            ]
          },
          "metadata": {},
          "execution_count": 136
        }
      ]
    },
    {
      "cell_type": "markdown",
      "metadata": {
        "id": "HOcAGc-u7WRT"
      },
      "source": [
        "By default the values are sorted by ascending order. We can change it to descending by adding an optional parameter \"reverse'. "
      ]
    },
    {
      "cell_type": "code",
      "metadata": {
        "colab": {
          "base_uri": "https://localhost:8080/"
        },
        "id": "VpXPginE7Xjn",
        "outputId": "0d6a6969-a526-4a92-b5bf-a6d580369edf"
      },
      "source": [
        "price_list = [('AAPL', 144.09), ('GOOGL', 911.71), ('MSFT', 69), ('FB', 150), ('WMT', 75.32)]\n",
        "sorted(price_list, key = lambda x: x[1], reverse = True)"
      ],
      "execution_count": null,
      "outputs": [
        {
          "output_type": "execute_result",
          "data": {
            "text/plain": [
              "[('GOOGL', 911.71),\n",
              " ('FB', 150),\n",
              " ('AAPL', 144.09),\n",
              " ('WMT', 75.32),\n",
              " ('MSFT', 69)]"
            ]
          },
          "metadata": {},
          "execution_count": 137
        }
      ]
    },
    {
      "cell_type": "code",
      "metadata": {
        "colab": {
          "base_uri": "https://localhost:8080/"
        },
        "id": "C9xPuofm7g4i",
        "outputId": "ac2a07d5-6362-4dec-842d-9142e1d17922"
      },
      "source": [
        "clist = [('A', 90), ('Z', 5), ('H', 65), ('J', 2)]\n",
        "sorted(clist, key = lambda x: x[1], reverse = True)"
      ],
      "execution_count": null,
      "outputs": [
        {
          "output_type": "execute_result",
          "data": {
            "text/plain": [
              "[('A', 90), ('H', 65), ('Z', 5), ('J', 2)]"
            ]
          },
          "metadata": {},
          "execution_count": 138
        }
      ]
    },
    {
      "cell_type": "markdown",
      "metadata": {
        "id": "USrLVSgL7qAK"
      },
      "source": [
        "Lists also have a function list.sort(). This function takes the same \"key\" and \"reverse\" arguments as sorted(), but it doesn't return a new list. "
      ]
    },
    {
      "cell_type": "code",
      "metadata": {
        "colab": {
          "base_uri": "https://localhost:8080/"
        },
        "id": "PPSP7RHF7tGB",
        "outputId": "6c4b6465-4162-4925-92c7-bad5f09f5f60"
      },
      "source": [
        "price_list = [('AAPL', 144.09), ('GOOGL', 911.71), ('MSFT', 69), ('FB', 150), ('WMT', 75.32)]\n",
        "price_list.sort(key = lambda x: x[1])\n",
        "print(price_list)"
      ],
      "execution_count": null,
      "outputs": [
        {
          "output_type": "stream",
          "name": "stdout",
          "text": [
            "[('MSFT', 69), ('WMT', 75.32), ('AAPL', 144.09), ('FB', 150), ('GOOGL', 911.71)]\n"
          ]
        }
      ]
    },
    {
      "cell_type": "code",
      "metadata": {
        "colab": {
          "base_uri": "https://localhost:8080/"
        },
        "id": "L5zYR2Ka7yKD",
        "outputId": "90bbe38f-6112-4e4c-88cb-23a5f748f942"
      },
      "source": [
        "clist = [('A', 90), ('Z', 5), ('H', 65), ('J', 2)]\n",
        "clist.sort(key = lambda x: x[0], reverse = True)\n",
        "print(clist)"
      ],
      "execution_count": null,
      "outputs": [
        {
          "output_type": "stream",
          "name": "stdout",
          "text": [
            "[('Z', 5), ('J', 2), ('H', 65), ('A', 90)]\n"
          ]
        }
      ]
    },
    {
      "cell_type": "markdown",
      "metadata": {
        "id": "0DmERJSK8IqU"
      },
      "source": [
        "**Object-Oriented Programming**\n",
        "\n",
        "Python is an object-oriented programming language. It's important to understand the concept of \"objects\" because almost every kind of data from QuantConnect API is an object.\n",
        "\n",
        "**Class**\n",
        "\n",
        "A class is a type of data, just like a string, float, or list. When we create an object of that data type, we call it an instance of a class.\n",
        "\n",
        "In Python, everything is an object - everything is an instance of some class. The data stored inside an object are called attributes, and the functions which are associated with the object are called methods.\n",
        "\n",
        "For example, as mentioned above, a list is an object of the \"list\" class, and it has a method list.sort().\n",
        "\n",
        "We can create our own objects by defining a class. We would do this when it's helpful to group certain functions together. For example, we define a class named \"Stock\" here: "
      ]
    },
    {
      "cell_type": "code",
      "metadata": {
        "id": "Vi2N8xMM8MsY"
      },
      "source": [
        "class Stock:\n",
        "    def __init__(self, ticker, open, close, volume):\n",
        "        self.ticker = ticker\n",
        "        self.open = open\n",
        "        self.close = close\n",
        "        self.volume = volume\n",
        "        self.rate_return = float(close)/open - 1\n",
        "\n",
        "    def update(self, open, close):\n",
        "        self.open = open\n",
        "        self.close = close\n",
        "        self.rate_return = float(self.close)/self.open - 1\n",
        "\n",
        "    def print_return(self):\n",
        "        print(self.rate_return)"
      ],
      "execution_count": null,
      "outputs": []
    },
    {
      "cell_type": "code",
      "metadata": {
        "id": "uPKfwK4Xc6yZ"
      },
      "source": [
        "class Animal:\n",
        "  def __init__(self, kingdom, genus, specie, extinct):\n",
        "    self.kingdom = kingdom\n",
        "    self.genus = genus\n",
        "    self.specie = specie\n",
        "    self.extinct = extinct\n",
        "    self.full_name = genus + \" \" + specie\n",
        "\n",
        "  def setExtinct(self, extinct):\n",
        "    self.extinct = extinct\n",
        "\n",
        "  def getFullName(self):\n",
        "    return self.full_name\n",
        "  \n",
        "  def getExtinct(self):\n",
        "    if self.extinct:\n",
        "      print(\"Extinct\")\n",
        "    else:\n",
        "      print(\"No Extinct\")"
      ],
      "execution_count": null,
      "outputs": []
    },
    {
      "cell_type": "markdown",
      "metadata": {
        "id": "hZEtaFRTf-BN"
      },
      "source": [
        "Here we create two Stock objects named \"apple\" and \"google\"."
      ]
    },
    {
      "cell_type": "code",
      "metadata": {
        "id": "ryiiGXkFf_JU"
      },
      "source": [
        "apple  = Stock('AAPL', 143.69, 144.09, 20109375)\n",
        "google = Stock('GOOGL', 898.7, 911.7, 1561616)"
      ],
      "execution_count": null,
      "outputs": []
    },
    {
      "cell_type": "code",
      "metadata": {
        "id": "kaYXaXUqgGux"
      },
      "source": [
        "lion = Animal(\"Animalia\", \"Panthera\", \"Leo\", False)\n",
        "dodo = Animal(\"Animalia\", \"Raphus\", \"Cucullatus\", True)"
      ],
      "execution_count": null,
      "outputs": []
    },
    {
      "cell_type": "markdown",
      "metadata": {
        "id": "9L9Vfd2CgsYf"
      },
      "source": [
        "Stock objects also have two other methods: update() and print_return(). We can access the attribues of a Stock object and call its methods:"
      ]
    },
    {
      "cell_type": "code",
      "metadata": {
        "colab": {
          "base_uri": "https://localhost:8080/"
        },
        "id": "C5x2efgfgtLs",
        "outputId": "2fe16363-e966-44d0-9e45-1036772beefa"
      },
      "source": [
        "print(apple.ticker)\n",
        "google.print_return()\n",
        "\n",
        "google.update(912.8,913.4)\n",
        "google.print_return()"
      ],
      "execution_count": null,
      "outputs": [
        {
          "output_type": "stream",
          "name": "stdout",
          "text": [
            "AAPL\n",
            "0.014465338822744034\n",
            "0.0006573181419806673\n"
          ]
        }
      ]
    },
    {
      "cell_type": "code",
      "metadata": {
        "colab": {
          "base_uri": "https://localhost:8080/"
        },
        "id": "5NEBAsLRg5Q1",
        "outputId": "22ce0e94-05bc-4840-8499-e91c36109841"
      },
      "source": [
        "print(dodo.kingdom)\n",
        "print(lion.getFullName())\n",
        "\n",
        "dodo.setExtinct(False)\n",
        "dodo.getExtinct()"
      ],
      "execution_count": null,
      "outputs": [
        {
          "output_type": "stream",
          "name": "stdout",
          "text": [
            "Animalia\n",
            "Panthera Leo\n",
            "No Extinct\n"
          ]
        }
      ]
    },
    {
      "cell_type": "markdown",
      "metadata": {
        "id": "v5d3EI9Oh36N"
      },
      "source": [
        "We can add an attribute to an object anywhere:"
      ]
    },
    {
      "cell_type": "code",
      "metadata": {
        "colab": {
          "base_uri": "https://localhost:8080/",
          "height": 35
        },
        "id": "CCOh3FhSh3Aq",
        "outputId": "e6f781a4-7059-47cc-f90a-a459e87991cf"
      },
      "source": [
        "apple.ceo = 'Tim Cook'\n",
        "apple.ceo"
      ],
      "execution_count": null,
      "outputs": [
        {
          "output_type": "execute_result",
          "data": {
            "application/vnd.google.colaboratory.intrinsic+json": {
              "type": "string"
            },
            "text/plain": [
              "'Tim Cook'"
            ]
          },
          "metadata": {},
          "execution_count": 22
        }
      ]
    },
    {
      "cell_type": "code",
      "metadata": {
        "colab": {
          "base_uri": "https://localhost:8080/",
          "height": 35
        },
        "id": "KfQ3atPWiBQX",
        "outputId": "6f65f14d-d99b-4bf6-d963-a7f226fa8928"
      },
      "source": [
        "dodo.habitat = \"Air\"\n",
        "dodo.habitat"
      ],
      "execution_count": null,
      "outputs": [
        {
          "output_type": "execute_result",
          "data": {
            "application/vnd.google.colaboratory.intrinsic+json": {
              "type": "string"
            },
            "text/plain": [
              "'Air'"
            ]
          },
          "metadata": {},
          "execution_count": 23
        }
      ]
    },
    {
      "cell_type": "markdown",
      "metadata": {
        "id": "DiN3K2rniM4Z"
      },
      "source": [
        "We can check what names (i.e. attributes and methods) are defined on an object using the dir() function:"
      ]
    },
    {
      "cell_type": "code",
      "metadata": {
        "colab": {
          "base_uri": "https://localhost:8080/"
        },
        "id": "0CEjURldiQHS",
        "outputId": "f58ae7e8-895b-4ec0-8b69-de43a16129bf"
      },
      "source": [
        "dir(apple)"
      ],
      "execution_count": null,
      "outputs": [
        {
          "output_type": "execute_result",
          "data": {
            "text/plain": [
              "['__class__',\n",
              " '__delattr__',\n",
              " '__dict__',\n",
              " '__dir__',\n",
              " '__doc__',\n",
              " '__eq__',\n",
              " '__format__',\n",
              " '__ge__',\n",
              " '__getattribute__',\n",
              " '__gt__',\n",
              " '__hash__',\n",
              " '__init__',\n",
              " '__init_subclass__',\n",
              " '__le__',\n",
              " '__lt__',\n",
              " '__module__',\n",
              " '__ne__',\n",
              " '__new__',\n",
              " '__reduce__',\n",
              " '__reduce_ex__',\n",
              " '__repr__',\n",
              " '__setattr__',\n",
              " '__sizeof__',\n",
              " '__str__',\n",
              " '__subclasshook__',\n",
              " '__weakref__',\n",
              " 'ceo',\n",
              " 'close',\n",
              " 'open',\n",
              " 'print_return',\n",
              " 'rate_return',\n",
              " 'ticker',\n",
              " 'update',\n",
              " 'volume']"
            ]
          },
          "metadata": {},
          "execution_count": 24
        }
      ]
    },
    {
      "cell_type": "code",
      "metadata": {
        "colab": {
          "base_uri": "https://localhost:8080/"
        },
        "id": "dptQgxoPiSM9",
        "outputId": "98b79235-38ec-49b1-8761-13ba4786a64e"
      },
      "source": [
        "dir(dodo)"
      ],
      "execution_count": null,
      "outputs": [
        {
          "output_type": "execute_result",
          "data": {
            "text/plain": [
              "['__class__',\n",
              " '__delattr__',\n",
              " '__dict__',\n",
              " '__dir__',\n",
              " '__doc__',\n",
              " '__eq__',\n",
              " '__format__',\n",
              " '__ge__',\n",
              " '__getattribute__',\n",
              " '__gt__',\n",
              " '__hash__',\n",
              " '__init__',\n",
              " '__init_subclass__',\n",
              " '__le__',\n",
              " '__lt__',\n",
              " '__module__',\n",
              " '__ne__',\n",
              " '__new__',\n",
              " '__reduce__',\n",
              " '__reduce_ex__',\n",
              " '__repr__',\n",
              " '__setattr__',\n",
              " '__sizeof__',\n",
              " '__str__',\n",
              " '__subclasshook__',\n",
              " '__weakref__',\n",
              " 'extinct',\n",
              " 'full_name',\n",
              " 'genus',\n",
              " 'getExtinct',\n",
              " 'getFullName',\n",
              " 'habitat',\n",
              " 'kingdom',\n",
              " 'setExtinct',\n",
              " 'specie']"
            ]
          },
          "metadata": {},
          "execution_count": 25
        }
      ]
    },
    {
      "cell_type": "markdown",
      "metadata": {
        "id": "PLFzdvGCiUyK"
      },
      "source": [
        "**Inheritance**\n",
        "\n",
        "Inheritance is a way of arranging classes in a hierarchy from the most general to the most specific. A \"child\" class is a more specific type of a \"parent\" class because a child class will inherit all the attribues and methods of its parent. For example, we define a class named \"Child\" which inherits \"Stock\":"
      ]
    },
    {
      "cell_type": "code",
      "metadata": {
        "id": "2k0FCda-ikwr"
      },
      "source": [
        "class Child(Stock):\n",
        "    def __init__(self, name):\n",
        "        self.name = name"
      ],
      "execution_count": null,
      "outputs": []
    },
    {
      "cell_type": "code",
      "metadata": {
        "id": "4sX6f0IwjO3p"
      },
      "source": [
        "class Mammal(Animal):\n",
        "    def __init__(self, food):\n",
        "      self.food = food"
      ],
      "execution_count": null,
      "outputs": []
    },
    {
      "cell_type": "markdown",
      "metadata": {
        "id": "ldXQJA2MixQ9"
      },
      "source": [
        "Then we create an object:"
      ]
    },
    {
      "cell_type": "code",
      "metadata": {
        "colab": {
          "base_uri": "https://localhost:8080/"
        },
        "id": "_pDQK9CPiwoK",
        "outputId": "4e605c37-70dc-4739-9b23-1eb4719897a5"
      },
      "source": [
        "aa = Child('AA')\n",
        "print(aa.name)\n",
        "\n",
        "aa.update(100, 102)\n",
        "\n",
        "print(aa.open)\n",
        "\n",
        "print(aa.close)\n",
        "\n",
        "aa.print_return()\n"
      ],
      "execution_count": null,
      "outputs": [
        {
          "output_type": "stream",
          "name": "stdout",
          "text": [
            "AA\n",
            "100\n",
            "102\n",
            "0.020000000000000018\n"
          ]
        }
      ]
    },
    {
      "cell_type": "code",
      "metadata": {
        "colab": {
          "base_uri": "https://localhost:8080/"
        },
        "id": "N7KlOC_2jOOn",
        "outputId": "feb12eb7-69a8-4bb2-b75e-b99bc8a70d94"
      },
      "source": [
        "dog = Mammal(\"Meat\")\n",
        "\n",
        "print(dog.food)\n",
        "\n",
        "dog.setExtinct(False)\n",
        "\n",
        "dog.getExtinct()"
      ],
      "execution_count": null,
      "outputs": [
        {
          "output_type": "stream",
          "name": "stdout",
          "text": [
            "Meat\n",
            "No Extinct\n"
          ]
        }
      ]
    },
    {
      "cell_type": "markdown",
      "metadata": {
        "id": "GDTpvv7BkAbG"
      },
      "source": [
        "# NumPy and Basic Pandas\n",
        "\n",
        "**NumPy**\n",
        "\n",
        "NumPy is the core library for scientific computing in Python. It provides a high-performance multidimensional array object, and tools for working with these arrays. It also has strong integration with Pandas, which is another powerful tool for manipulating financial data.\n",
        "\n",
        "Python packages like NumPy and Pandas contain classes and methods which we can use by importing the package:"
      ]
    },
    {
      "cell_type": "code",
      "metadata": {
        "id": "UJbMSuoekRMS"
      },
      "source": [
        "import numpy as np"
      ],
      "execution_count": null,
      "outputs": []
    },
    {
      "cell_type": "markdown",
      "metadata": {
        "id": "ANoKXUZrkTi2"
      },
      "source": [
        "**Basic NumPy Arrays**\n",
        "\n",
        "A NumPy array is a grid of values, all of the same type, and is indexed by a tuple of nonnegative integers. Here we make an array by passing a list of Apple stock prices:"
      ]
    },
    {
      "cell_type": "code",
      "metadata": {
        "colab": {
          "base_uri": "https://localhost:8080/"
        },
        "id": "ZukEJnJ_kgUt",
        "outputId": "f5fdacf9-8fb3-4bca-e55d-f20ca407ed3a"
      },
      "source": [
        "price_list = [143.73, 145.83, 143.68, 144.02, 143.5, 142.62]\n",
        "price_array = np.array(price_list)\n",
        "print(price_array, type(price_array))"
      ],
      "execution_count": null,
      "outputs": [
        {
          "output_type": "stream",
          "name": "stdout",
          "text": [
            "[143.73 145.83 143.68 144.02 143.5  142.62] <class 'numpy.ndarray'>\n"
          ]
        }
      ]
    },
    {
      "cell_type": "code",
      "metadata": {
        "colab": {
          "base_uri": "https://localhost:8080/"
        },
        "id": "TPYbsHn5kpnb",
        "outputId": "37832dff-6060-42d0-f467-553368f78d64"
      },
      "source": [
        "idh_list = [0.734, 0.753, 0.756, 0.760, 0.763, 0.764, 0.767]\n",
        "idh_array = np.array(idh_list)\n",
        "print(idh_array, type(idh_array))"
      ],
      "execution_count": null,
      "outputs": [
        {
          "output_type": "stream",
          "name": "stdout",
          "text": [
            "[0.734 0.753 0.756 0.76  0.763 0.764 0.767] <class 'numpy.ndarray'>\n"
          ]
        }
      ]
    },
    {
      "cell_type": "markdown",
      "metadata": {
        "id": "pR3fvkA6lRfo"
      },
      "source": [
        "Notice that the type of array is \"ndarray\" which is a multi-dimensional array. If we pass np.array() a list of lists, it will create a 2-dimensional array."
      ]
    },
    {
      "cell_type": "code",
      "metadata": {
        "colab": {
          "base_uri": "https://localhost:8080/"
        },
        "id": "JTsx2LTglS2Y",
        "outputId": "f8c2d46b-6fb9-4165-cb7c-9a800427ca23"
      },
      "source": [
        "Ar = np.array([[1,3], [2,4]])\n",
        "print(Ar, type(Ar))"
      ],
      "execution_count": null,
      "outputs": [
        {
          "output_type": "stream",
          "name": "stdout",
          "text": [
            "[[1 3]\n",
            " [2 4]] <class 'numpy.ndarray'>\n"
          ]
        }
      ]
    },
    {
      "cell_type": "code",
      "metadata": {
        "colab": {
          "base_uri": "https://localhost:8080/"
        },
        "id": "7lqQBu1kldw2",
        "outputId": "9fa570ca-20f4-4444-bf6a-70cfd07482c8"
      },
      "source": [
        "bAr = np.array([[0,1], [1,0]])\n",
        "\n",
        "print(bAr, type(bAr))"
      ],
      "execution_count": null,
      "outputs": [
        {
          "output_type": "stream",
          "name": "stdout",
          "text": [
            "[[0 1]\n",
            " [1 0]] <class 'numpy.ndarray'>\n"
          ]
        }
      ]
    },
    {
      "cell_type": "markdown",
      "metadata": {
        "id": "P0a5wzPOlpTT"
      },
      "source": [
        "We get the dimensions of an ndarray using the .shape attribute:\n",
        "\n"
      ]
    },
    {
      "cell_type": "code",
      "metadata": {
        "colab": {
          "base_uri": "https://localhost:8080/"
        },
        "id": "NvC-ZWP4lyC8",
        "outputId": "5b9e705d-64d2-4f35-8293-ca75c8c57670"
      },
      "source": [
        "Ar.shape"
      ],
      "execution_count": null,
      "outputs": [
        {
          "output_type": "execute_result",
          "data": {
            "text/plain": [
              "(2, 2)"
            ]
          },
          "metadata": {},
          "execution_count": 39
        }
      ]
    },
    {
      "cell_type": "code",
      "metadata": {
        "colab": {
          "base_uri": "https://localhost:8080/"
        },
        "id": "iW1XYXaBl3PL",
        "outputId": "196eba22-0231-4553-f54a-6cad90f4aa52"
      },
      "source": [
        "bAr.shape"
      ],
      "execution_count": null,
      "outputs": [
        {
          "output_type": "execute_result",
          "data": {
            "text/plain": [
              "(2, 2)"
            ]
          },
          "metadata": {},
          "execution_count": 40
        }
      ]
    },
    {
      "cell_type": "markdown",
      "metadata": {
        "id": "jxitDt99mAkT"
      },
      "source": [
        "If we create an 2-dimensional array (i.e. matrix), each row can be accessed by index:"
      ]
    },
    {
      "cell_type": "code",
      "metadata": {
        "colab": {
          "base_uri": "https://localhost:8080/"
        },
        "id": "it9aI2qFmB0S",
        "outputId": "2825b11d-4b1a-4db6-c903-e57e337329a3"
      },
      "source": [
        "print(Ar[0])\n",
        "\n",
        "print(Ar[1])"
      ],
      "execution_count": null,
      "outputs": [
        {
          "output_type": "stream",
          "name": "stdout",
          "text": [
            "[1 3]\n",
            "[2 4]\n"
          ]
        }
      ]
    },
    {
      "cell_type": "code",
      "metadata": {
        "colab": {
          "base_uri": "https://localhost:8080/"
        },
        "id": "k5sqt2RMmLfk",
        "outputId": "b1edfc9f-330d-44a8-e685-7f4677acd6ce"
      },
      "source": [
        "print(bAr[0])\n",
        "\n",
        "print(bAr[1])"
      ],
      "execution_count": null,
      "outputs": [
        {
          "output_type": "stream",
          "name": "stdout",
          "text": [
            "[0 1]\n",
            "[1 0]\n"
          ]
        }
      ]
    },
    {
      "cell_type": "markdown",
      "metadata": {
        "id": "5YaAr5kWmSSo"
      },
      "source": [
        "If we want to access the matrix by column instead:"
      ]
    },
    {
      "cell_type": "code",
      "metadata": {
        "colab": {
          "base_uri": "https://localhost:8080/"
        },
        "id": "oQh1d-bHmTWE",
        "outputId": "11c92363-5222-4696-c614-97d2ca5ebf90"
      },
      "source": [
        "print('First column:', Ar[:,0])\n",
        "\n",
        "print('Second column:', Ar[:,1])"
      ],
      "execution_count": null,
      "outputs": [
        {
          "output_type": "stream",
          "name": "stdout",
          "text": [
            "First column: [1 2]\n",
            "Second column: [3 4]\n"
          ]
        }
      ]
    },
    {
      "cell_type": "code",
      "metadata": {
        "colab": {
          "base_uri": "https://localhost:8080/"
        },
        "id": "JU3xSWN-mbOE",
        "outputId": "ff5b462d-5255-46a5-9d52-8c9a1ca98f27"
      },
      "source": [
        "print('First column:', bAr[:,0])\n",
        "\n",
        "print('Second column:', bAr[:,1])"
      ],
      "execution_count": null,
      "outputs": [
        {
          "output_type": "stream",
          "name": "stdout",
          "text": [
            "First column: [0 1]\n",
            "Second column: [1 0]\n"
          ]
        }
      ]
    },
    {
      "cell_type": "markdown",
      "metadata": {
        "id": "bpyX1shimpBM"
      },
      "source": [
        "**Array Functions**\n",
        "\n",
        "Some functions built in NumPy that allow us to perform calculations on arrays. For example, we can apply the natural logarithm to each element of an array:"
      ]
    },
    {
      "cell_type": "code",
      "metadata": {
        "colab": {
          "base_uri": "https://localhost:8080/"
        },
        "id": "WptgVzYcmtV_",
        "outputId": "1efed996-1290-4e5d-c8b4-6accd6cd389f"
      },
      "source": [
        "np.log(price_array)"
      ],
      "execution_count": null,
      "outputs": [
        {
          "output_type": "execute_result",
          "data": {
            "text/plain": [
              "array([4.96793654, 4.98244156, 4.9675886 , 4.96995218, 4.96633504,\n",
              "       4.96018375])"
            ]
          },
          "metadata": {},
          "execution_count": 46
        }
      ]
    },
    {
      "cell_type": "code",
      "metadata": {
        "colab": {
          "base_uri": "https://localhost:8080/"
        },
        "id": "NXd0jE4mm3oX",
        "outputId": "46e3a4bd-2454-4292-9c0e-2a724be87144"
      },
      "source": [
        "np.log(idh_array)"
      ],
      "execution_count": null,
      "outputs": [
        {
          "output_type": "execute_result",
          "data": {
            "text/plain": [
              "array([-0.30924625, -0.28369005, -0.2797139 , -0.27443685, -0.27049725,\n",
              "       -0.26918749, -0.26526848])"
            ]
          },
          "metadata": {},
          "execution_count": 47
        }
      ]
    },
    {
      "cell_type": "markdown",
      "metadata": {
        "id": "H3acpiqem7N8"
      },
      "source": [
        "Other functions return a single value:"
      ]
    },
    {
      "cell_type": "code",
      "metadata": {
        "colab": {
          "base_uri": "https://localhost:8080/"
        },
        "id": "CHZT-Ggzm9U_",
        "outputId": "2eae12c7-3a13-46e5-bddf-5bd81987a40e"
      },
      "source": [
        "print(np.mean(price_array))\n",
        "print(np.std(price_array))\n",
        "print(np.sum(price_array))\n",
        "print(np.max(price_array))"
      ],
      "execution_count": null,
      "outputs": [
        {
          "output_type": "stream",
          "name": "stdout",
          "text": [
            "143.89666666666668\n",
            "0.9673790478515796\n",
            "863.38\n",
            "145.83\n"
          ]
        }
      ]
    },
    {
      "cell_type": "code",
      "metadata": {
        "colab": {
          "base_uri": "https://localhost:8080/"
        },
        "id": "hHYR4gDdnMDl",
        "outputId": "95db8fe9-0e65-46d6-faf4-72e26ad19fbb"
      },
      "source": [
        "print(np.mean(idh_array))\n",
        "print(np.std(idh_array))\n",
        "print(np.sum(idh_array))\n",
        "print(np.max(idh_array))"
      ],
      "execution_count": null,
      "outputs": [
        {
          "output_type": "stream",
          "name": "stdout",
          "text": [
            "0.7567142857142858\n",
            "0.010277774713488553\n",
            "5.297000000000001\n",
            "0.767\n"
          ]
        }
      ]
    },
    {
      "cell_type": "markdown",
      "metadata": {
        "id": "VKjLESl3nWIY"
      },
      "source": [
        "**Pandas**\n",
        "\n",
        "Pandas is one of the most powerful tools for dealing with financial data. First we need to import Pandas:"
      ]
    },
    {
      "cell_type": "code",
      "metadata": {
        "id": "19wisGN-nYUE"
      },
      "source": [
        "import pandas as pd"
      ],
      "execution_count": null,
      "outputs": []
    },
    {
      "cell_type": "markdown",
      "metadata": {
        "id": "u0Gi20oXnhKV"
      },
      "source": [
        "**Series**\n",
        "\n",
        "Series is a one-dimensional labeled array capable of holding any data type (integers, strings, float, Python object, etc.)\n",
        "\n",
        "We create a Series by calling pd.Series(data), where data can be a dictionary, an array or just a scalar value."
      ]
    },
    {
      "cell_type": "code",
      "metadata": {
        "colab": {
          "base_uri": "https://localhost:8080/"
        },
        "id": "TxRH2jkSnjb3",
        "outputId": "4e789e5d-75fa-4863-ec89-a720d5de4127"
      },
      "source": [
        "price = [143.73, 145.83, 143.68, 144.02, 143.5, 142.62]\n",
        "s = pd.Series(price)\n",
        "print(s)"
      ],
      "execution_count": null,
      "outputs": [
        {
          "output_type": "stream",
          "name": "stdout",
          "text": [
            "0    143.73\n",
            "1    145.83\n",
            "2    143.68\n",
            "3    144.02\n",
            "4    143.50\n",
            "5    142.62\n",
            "dtype: float64\n"
          ]
        }
      ]
    },
    {
      "cell_type": "code",
      "metadata": {
        "colab": {
          "base_uri": "https://localhost:8080/"
        },
        "id": "CNe9cYRPnslT",
        "outputId": "24239680-f655-4436-a6a3-a1a37ce442ac"
      },
      "source": [
        "idh = [0.734, 0.753, 0.756, 0.760, 0.763, 0.764, 0.767]\n",
        "\n",
        "idhs = pd.Series(idh)\n",
        "\n",
        "print(idhs)"
      ],
      "execution_count": null,
      "outputs": [
        {
          "output_type": "stream",
          "name": "stdout",
          "text": [
            "0    0.734\n",
            "1    0.753\n",
            "2    0.756\n",
            "3    0.760\n",
            "4    0.763\n",
            "5    0.764\n",
            "6    0.767\n",
            "dtype: float64\n"
          ]
        }
      ]
    },
    {
      "cell_type": "markdown",
      "metadata": {
        "id": "LHJdVeken9zy"
      },
      "source": [
        "We can customize the indices of a new Series:"
      ]
    },
    {
      "cell_type": "code",
      "metadata": {
        "colab": {
          "base_uri": "https://localhost:8080/"
        },
        "id": "zkTdyBPIn9k3",
        "outputId": "472a578c-b87f-46b9-9b8e-fce95e9536d5"
      },
      "source": [
        "s = pd.Series(price, index = ['a', 'b', 'c', 'd', 'e', 'f'])\n",
        "print(s)"
      ],
      "execution_count": null,
      "outputs": [
        {
          "output_type": "stream",
          "name": "stdout",
          "text": [
            "a    143.73\n",
            "b    145.83\n",
            "c    143.68\n",
            "d    144.02\n",
            "e    143.50\n",
            "f    142.62\n",
            "dtype: float64\n"
          ]
        }
      ]
    },
    {
      "cell_type": "code",
      "metadata": {
        "colab": {
          "base_uri": "https://localhost:8080/"
        },
        "id": "CBJFpLu5oDjB",
        "outputId": "0517379b-5538-4364-a02d-92ac7c52b149"
      },
      "source": [
        "idhs = pd.Series(idh, index = [\"2013\", \"2014\", \"2015\", \"2016\", \"2017\", \"2018\", \"2019\"])\n",
        "print(idhs)"
      ],
      "execution_count": null,
      "outputs": [
        {
          "output_type": "stream",
          "name": "stdout",
          "text": [
            "2013    0.734\n",
            "2014    0.753\n",
            "2015    0.756\n",
            "2016    0.760\n",
            "2017    0.763\n",
            "2018    0.764\n",
            "2019    0.767\n",
            "dtype: float64\n"
          ]
        }
      ]
    },
    {
      "cell_type": "markdown",
      "metadata": {
        "id": "heTf-lskoloC"
      },
      "source": [
        "Or we can change the indices of an existing Series:"
      ]
    },
    {
      "cell_type": "code",
      "metadata": {
        "id": "S15hVHLWojMD"
      },
      "source": [
        "s.index = [6,5,4,3,2,1]\n",
        "print(s)"
      ],
      "execution_count": null,
      "outputs": []
    },
    {
      "cell_type": "code",
      "metadata": {
        "colab": {
          "base_uri": "https://localhost:8080/"
        },
        "id": "pgg2BxUlpL_R",
        "outputId": "2a54f00c-f7e0-46ef-aecf-4f5c6f521119"
      },
      "source": [
        "idhs.index = ['2019', '2018', '2017', '2016', '2015', '2014', '2013']\n",
        "print(idhs)"
      ],
      "execution_count": null,
      "outputs": [
        {
          "output_type": "stream",
          "name": "stdout",
          "text": [
            "2019    0.734\n",
            "2018    0.753\n",
            "2017    0.756\n",
            "2016    0.760\n",
            "2015    0.763\n",
            "2014    0.764\n",
            "2013    0.767\n",
            "dtype: float64\n"
          ]
        }
      ]
    },
    {
      "cell_type": "markdown",
      "metadata": {
        "id": "5rSrx0hYpLDn"
      },
      "source": [
        "Series is like a list since it can be sliced by index:"
      ]
    },
    {
      "cell_type": "code",
      "metadata": {
        "colab": {
          "base_uri": "https://localhost:8080/"
        },
        "id": "lz2Kx8PJrFgy",
        "outputId": "ef3649a3-75de-4621-8f24-b5f24b610048"
      },
      "source": [
        "print(s[1:])\n",
        "print(s[:-2])"
      ],
      "execution_count": null,
      "outputs": [
        {
          "output_type": "stream",
          "name": "stdout",
          "text": [
            "b    145.83\n",
            "c    143.68\n",
            "d    144.02\n",
            "e    143.50\n",
            "f    142.62\n",
            "dtype: float64\n",
            "a    143.73\n",
            "b    145.83\n",
            "c    143.68\n",
            "d    144.02\n",
            "dtype: float64\n"
          ]
        }
      ]
    },
    {
      "cell_type": "code",
      "metadata": {
        "colab": {
          "base_uri": "https://localhost:8080/"
        },
        "id": "LvIlIxumrVX4",
        "outputId": "488023ec-335a-468c-cb91-08401504dbf7"
      },
      "source": [
        "print(idhs[4:])\n",
        "print(idhs[:-3])"
      ],
      "execution_count": null,
      "outputs": [
        {
          "output_type": "stream",
          "name": "stdout",
          "text": [
            "2015    0.763\n",
            "2014    0.764\n",
            "2013    0.767\n",
            "dtype: float64\n",
            "2019    0.734\n",
            "2018    0.753\n",
            "2017    0.756\n",
            "2016    0.760\n",
            "dtype: float64\n"
          ]
        }
      ]
    },
    {
      "cell_type": "markdown",
      "metadata": {
        "id": "L8YuT5Ewrbc-"
      },
      "source": [
        "Series is also like a dictionary whose values can be set or fetched by index label:"
      ]
    },
    {
      "cell_type": "code",
      "metadata": {
        "colab": {
          "base_uri": "https://localhost:8080/"
        },
        "id": "11XB09T7reQm",
        "outputId": "68c56c7b-e6f4-4533-ef0f-23fc807d67d6"
      },
      "source": [
        "print(s[4])\n",
        "s[4] = 0\n",
        "print(s)"
      ],
      "execution_count": null,
      "outputs": [
        {
          "output_type": "stream",
          "name": "stdout",
          "text": [
            "143.5\n",
            "a    143.73\n",
            "b    145.83\n",
            "c    143.68\n",
            "d    144.02\n",
            "e      0.00\n",
            "f    142.62\n",
            "dtype: float64\n"
          ]
        }
      ]
    },
    {
      "cell_type": "code",
      "metadata": {
        "colab": {
          "base_uri": "https://localhost:8080/"
        },
        "id": "G6mUwFmormfO",
        "outputId": "0c3f3bcc-a95b-4557-e723-9475f43f1fac"
      },
      "source": [
        "print(idhs[\"2019\"])\n",
        "\n",
        "idhs[4] = 0.770\n",
        "\n",
        "print(idhs)"
      ],
      "execution_count": null,
      "outputs": [
        {
          "output_type": "stream",
          "name": "stdout",
          "text": [
            "0.734\n",
            "2019    0.734\n",
            "2018    0.753\n",
            "2017    0.756\n",
            "2016    0.760\n",
            "2015    0.770\n",
            "2014    0.764\n",
            "2013    0.767\n",
            "dtype: float64\n"
          ]
        }
      ]
    },
    {
      "cell_type": "markdown",
      "metadata": {
        "id": "op4xr3oMr3fE"
      },
      "source": [
        "Series can also have a name attribute, which will be used when we make up a Pandas DataFrame using several series."
      ]
    },
    {
      "cell_type": "code",
      "metadata": {
        "colab": {
          "base_uri": "https://localhost:8080/"
        },
        "id": "6jU5X4hsr4WN",
        "outputId": "45bda04f-ff3b-4411-b105-b9a6cff09af0"
      },
      "source": [
        "s = pd.Series(price, name = 'Apple Prices')\n",
        "print(s)\n",
        "print(s.name)"
      ],
      "execution_count": null,
      "outputs": [
        {
          "output_type": "stream",
          "name": "stdout",
          "text": [
            "0    143.73\n",
            "1    145.83\n",
            "2    143.68\n",
            "3    144.02\n",
            "4    143.50\n",
            "5    142.62\n",
            "Name: Apple Prices, dtype: float64\n",
            "Apple Prices\n"
          ]
        }
      ]
    },
    {
      "cell_type": "code",
      "metadata": {
        "colab": {
          "base_uri": "https://localhost:8080/"
        },
        "id": "IN9tup8Rr-O4",
        "outputId": "8011b53b-3aa6-4cae-ffe7-11ed575914fa"
      },
      "source": [
        "idhs = pd.Series(idh, name = \"IDH Colombia\")\n",
        "print(idhs)\n",
        "print(idhs.name)"
      ],
      "execution_count": null,
      "outputs": [
        {
          "output_type": "stream",
          "name": "stdout",
          "text": [
            "0    0.734\n",
            "1    0.753\n",
            "2    0.756\n",
            "3    0.760\n",
            "4    0.763\n",
            "5    0.764\n",
            "6    0.767\n",
            "Name: IDH Colombia, dtype: float64\n",
            "IDH Colombia\n"
          ]
        }
      ]
    },
    {
      "cell_type": "markdown",
      "metadata": {
        "id": "Q06xD55DsOoZ"
      },
      "source": [
        "We can get the statistical summaries of a Series:\n"
      ]
    },
    {
      "cell_type": "code",
      "metadata": {
        "colab": {
          "base_uri": "https://localhost:8080/"
        },
        "id": "gswY4qz4sQYW",
        "outputId": "7f201bb5-ebda-4a9e-8f57-355b56d06d84"
      },
      "source": [
        "print(s.describe())"
      ],
      "execution_count": null,
      "outputs": [
        {
          "output_type": "stream",
          "name": "stdout",
          "text": [
            "count      6.000000\n",
            "mean     143.896667\n",
            "std        1.059711\n",
            "min      142.620000\n",
            "25%      143.545000\n",
            "50%      143.705000\n",
            "75%      143.947500\n",
            "max      145.830000\n",
            "Name: Apple Prices, dtype: float64\n"
          ]
        }
      ]
    },
    {
      "cell_type": "code",
      "metadata": {
        "colab": {
          "base_uri": "https://localhost:8080/"
        },
        "id": "sjZDwHcZsVAC",
        "outputId": "f465f67a-c9c4-4e79-f65e-f200d7d6ab6c"
      },
      "source": [
        "print(idhs.describe())"
      ],
      "execution_count": null,
      "outputs": [
        {
          "output_type": "stream",
          "name": "stdout",
          "text": [
            "count    7.000000\n",
            "mean     0.756714\n",
            "std      0.011101\n",
            "min      0.734000\n",
            "25%      0.754500\n",
            "50%      0.760000\n",
            "75%      0.763500\n",
            "max      0.767000\n",
            "Name: IDH Colombia, dtype: float64\n"
          ]
        }
      ]
    },
    {
      "cell_type": "markdown",
      "metadata": {
        "id": "Rutc5z7zsZyF"
      },
      "source": [
        "**Time Index**\n",
        "\n",
        "Pandas has a built-in function specifically for creating date indices: pd.date_range(). We use it to create a new index for our Series:"
      ]
    },
    {
      "cell_type": "code",
      "metadata": {
        "colab": {
          "base_uri": "https://localhost:8080/"
        },
        "id": "cs1sPfJCsi0H",
        "outputId": "2c75128e-7ab9-4841-ac9a-951ca643848f"
      },
      "source": [
        "time_index = pd.date_range('2017-01-01', periods = len(s), freq = 'D')\n",
        "print(time_index)\n",
        "s.index = time_index\n",
        "print(s)"
      ],
      "execution_count": null,
      "outputs": [
        {
          "output_type": "stream",
          "name": "stdout",
          "text": [
            "DatetimeIndex(['2017-01-01', '2017-01-02', '2017-01-03', '2017-01-04',\n",
            "               '2017-01-05', '2017-01-06'],\n",
            "              dtype='datetime64[ns]', freq='D')\n",
            "2017-01-01    143.73\n",
            "2017-01-02    145.83\n",
            "2017-01-03    143.68\n",
            "2017-01-04    144.02\n",
            "2017-01-05    143.50\n",
            "2017-01-06    142.62\n",
            "Freq: D, Name: Apple Prices, dtype: float64\n"
          ]
        }
      ]
    },
    {
      "cell_type": "code",
      "metadata": {
        "colab": {
          "base_uri": "https://localhost:8080/"
        },
        "id": "BZloe5JktLDl",
        "outputId": "3d2f21ed-36eb-4081-d3a8-2bbc5b77d81b"
      },
      "source": [
        "year_index = pd.date_range(\"2013-12-31\", periods = len(idh), freq= \"Y\")\n",
        "print(year_index)\n",
        "\n",
        "idhs.index = year_index\n",
        "\n",
        "print(idhs)"
      ],
      "execution_count": null,
      "outputs": [
        {
          "output_type": "stream",
          "name": "stdout",
          "text": [
            "DatetimeIndex(['2013-12-31', '2014-12-31', '2015-12-31', '2016-12-31',\n",
            "               '2017-12-31', '2018-12-31', '2019-12-31'],\n",
            "              dtype='datetime64[ns]', freq='A-DEC')\n",
            "2013-12-31    0.734\n",
            "2014-12-31    0.753\n",
            "2015-12-31    0.756\n",
            "2016-12-31    0.760\n",
            "2017-12-31    0.763\n",
            "2018-12-31    0.764\n",
            "2019-12-31    0.767\n",
            "Freq: A-DEC, Name: IDH Colombia, dtype: float64\n"
          ]
        }
      ]
    },
    {
      "cell_type": "markdown",
      "metadata": {
        "id": "5Bx7Akxvt1_f"
      },
      "source": [
        "Series are usually accessed using the iloc[] and loc[] methods. iloc[] is used to access elements by integer index, and loc[] is used to access the index of the series.\n",
        "\n",
        "iloc[] is necessary when the index of a series are integers, take our previous defined series as example:"
      ]
    },
    {
      "cell_type": "code",
      "metadata": {
        "colab": {
          "base_uri": "https://localhost:8080/"
        },
        "id": "2_v0h0mPt3W7",
        "outputId": "8d642fdd-23df-4154-d64d-08d1af30fa78"
      },
      "source": [
        "s.index = [6,5,4,3,2,1]\n",
        "print(s)\n",
        "print(s[1])"
      ],
      "execution_count": null,
      "outputs": [
        {
          "output_type": "stream",
          "name": "stdout",
          "text": [
            "6    143.73\n",
            "5    145.83\n",
            "4    143.68\n",
            "3    144.02\n",
            "2    143.50\n",
            "1    142.62\n",
            "Name: Apple Prices, dtype: float64\n",
            "142.62\n"
          ]
        }
      ]
    },
    {
      "cell_type": "code",
      "metadata": {
        "colab": {
          "base_uri": "https://localhost:8080/"
        },
        "id": "ta0c07-rt8T8",
        "outputId": "d97a2c23-9d88-40e6-98c0-762489d9f83f"
      },
      "source": [
        "idhs.index = [7,6,5,4,3,2,1]\n",
        "print(idhs)\n",
        "print(idhs[3])"
      ],
      "execution_count": null,
      "outputs": [
        {
          "output_type": "stream",
          "name": "stdout",
          "text": [
            "7    0.734\n",
            "6    0.753\n",
            "5    0.756\n",
            "4    0.760\n",
            "3    0.763\n",
            "2    0.764\n",
            "1    0.767\n",
            "Name: IDH Colombia, dtype: float64\n",
            "0.763\n"
          ]
        }
      ]
    },
    {
      "cell_type": "markdown",
      "metadata": {
        "id": "LbrV-QCwuTjZ"
      },
      "source": [
        "If we intended to take the second element of the series, we would make a mistake here, because the index are integers. In order to access to the element we want, we use iloc[] here:"
      ]
    },
    {
      "cell_type": "code",
      "metadata": {
        "colab": {
          "base_uri": "https://localhost:8080/"
        },
        "id": "RxEsvPZUuUr1",
        "outputId": "c42201fd-0b78-4ec1-ecf8-705cf0f08f93"
      },
      "source": [
        "print(s.iloc[1])"
      ],
      "execution_count": null,
      "outputs": [
        {
          "output_type": "stream",
          "name": "stdout",
          "text": [
            "145.83\n"
          ]
        }
      ]
    },
    {
      "cell_type": "code",
      "metadata": {
        "colab": {
          "base_uri": "https://localhost:8080/"
        },
        "id": "dFzUpGotuZ3u",
        "outputId": "621aec93-bb15-42a7-fec0-f45646d377df"
      },
      "source": [
        "print(idhs.iloc[0])"
      ],
      "execution_count": null,
      "outputs": [
        {
          "output_type": "stream",
          "name": "stdout",
          "text": [
            "0.734\n"
          ]
        }
      ]
    },
    {
      "cell_type": "markdown",
      "metadata": {
        "id": "X5fJVB3Xuqcy"
      },
      "source": [
        "While working with time series data, we often use time as the index. Pandas provides us with various methods to access the data by time index."
      ]
    },
    {
      "cell_type": "code",
      "metadata": {
        "colab": {
          "base_uri": "https://localhost:8080/"
        },
        "id": "ggbHUvi3uoJc",
        "outputId": "c3d6646e-0539-47c5-c676-8ae1a1baeba4"
      },
      "source": [
        "s.index = time_index\n",
        "print(s['2017-01-03'])"
      ],
      "execution_count": null,
      "outputs": [
        {
          "output_type": "stream",
          "name": "stdout",
          "text": [
            "143.68\n"
          ]
        }
      ]
    },
    {
      "cell_type": "code",
      "metadata": {
        "colab": {
          "base_uri": "https://localhost:8080/"
        },
        "id": "iPI4ImRku-lF",
        "outputId": "fdada76d-5b2b-4197-ec04-af9623dddc3f"
      },
      "source": [
        "idhs.index = year_index\n",
        "\n",
        "print(idhs[\"2016-12-31\"])"
      ],
      "execution_count": null,
      "outputs": [
        {
          "output_type": "stream",
          "name": "stdout",
          "text": [
            "0.76\n"
          ]
        }
      ]
    },
    {
      "cell_type": "markdown",
      "metadata": {
        "id": "7fXgmZhlvJcH"
      },
      "source": [
        "We can even access to a range of dates:"
      ]
    },
    {
      "cell_type": "code",
      "metadata": {
        "colab": {
          "base_uri": "https://localhost:8080/"
        },
        "id": "aIi75j9JvK63",
        "outputId": "4d355516-ab3c-49d4-aacb-c457f688aa08"
      },
      "source": [
        "print(s['2017-01-02':'2017-01-05'])"
      ],
      "execution_count": null,
      "outputs": [
        {
          "output_type": "stream",
          "name": "stdout",
          "text": [
            "2017-01-02    145.83\n",
            "2017-01-03    143.68\n",
            "2017-01-04    144.02\n",
            "2017-01-05    143.50\n",
            "Freq: D, Name: Apple Prices, dtype: float64\n"
          ]
        }
      ]
    },
    {
      "cell_type": "code",
      "metadata": {
        "colab": {
          "base_uri": "https://localhost:8080/"
        },
        "id": "eqay8b5UvQmA",
        "outputId": "8747d671-19b9-4deb-a1ea-3a3ae42d6843"
      },
      "source": [
        "print(idhs['2014-01-15':'2019-08-08'])"
      ],
      "execution_count": null,
      "outputs": [
        {
          "output_type": "stream",
          "name": "stdout",
          "text": [
            "2014-12-31    0.753\n",
            "2015-12-31    0.756\n",
            "2016-12-31    0.760\n",
            "2017-12-31    0.763\n",
            "2018-12-31    0.764\n",
            "Freq: A-DEC, Name: IDH Colombia, dtype: float64\n"
          ]
        }
      ]
    },
    {
      "cell_type": "markdown",
      "metadata": {
        "id": "bDmGfPm6vb6L"
      },
      "source": [
        "Series[] provides us a very flexible way to index data. We can add any condition in the square brackets:"
      ]
    },
    {
      "cell_type": "code",
      "metadata": {
        "colab": {
          "base_uri": "https://localhost:8080/"
        },
        "id": "rdu0HdJGvcxM",
        "outputId": "29b97338-cac3-45cb-90b9-db8f714927c4"
      },
      "source": [
        "print(s[s < np.mean(s)])\n",
        "print(s[(s > np.mean(s)) & (s < np.mean(s) + 1.64*np.std(s))])"
      ],
      "execution_count": null,
      "outputs": [
        {
          "output_type": "stream",
          "name": "stdout",
          "text": [
            "2017-01-01    143.73\n",
            "2017-01-03    143.68\n",
            "2017-01-05    143.50\n",
            "2017-01-06    142.62\n",
            "Name: Apple Prices, dtype: float64\n",
            "2017-01-04    144.02\n",
            "Freq: D, Name: Apple Prices, dtype: float64\n"
          ]
        }
      ]
    },
    {
      "cell_type": "code",
      "metadata": {
        "colab": {
          "base_uri": "https://localhost:8080/"
        },
        "id": "xn3lAd6mvkxw",
        "outputId": "07bf509d-bbc2-42b8-906e-22922d8b689e"
      },
      "source": [
        "print(idhs[idhs < np.mean(idhs)])\n",
        "print(idhs[(idhs > np.mean(idhs)) & (idhs < np.mean(idhs) + 0.34*np.std(idhs))])"
      ],
      "execution_count": null,
      "outputs": [
        {
          "output_type": "stream",
          "name": "stdout",
          "text": [
            "2013-12-31    0.734\n",
            "2014-12-31    0.753\n",
            "2015-12-31    0.756\n",
            "Freq: A-DEC, Name: IDH Colombia, dtype: float64\n",
            "2016-12-31    0.76\n",
            "Freq: A-DEC, Name: IDH Colombia, dtype: float64\n"
          ]
        }
      ]
    }
  ]
}