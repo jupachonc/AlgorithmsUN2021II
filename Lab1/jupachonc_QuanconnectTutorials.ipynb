{
  "cells": [
    {
      "cell_type": "markdown",
      "metadata": {
        "id": "mTJ3hKLVANNW"
      },
      "source": [
        "# Laboratorio 1"
      ]
    },
    {
      "cell_type": "markdown",
      "metadata": {
        "id": "q9OBiVIHAqkd"
      },
      "source": [
        "#  Data Types and Data Structures \n",
        "\n",
        "#  Basic Variable Types \n",
        "\n",
        "The basic types of variables in Python are: strings, integers, floating point numbers and booleans.\n",
        "\n",
        "**Strings** in python are identified as a contiguous set of characters represented in either single quotes (' ') or double quotes (\" \").\n"
      ]
    },
    {
      "cell_type": "code",
      "execution_count": null,
      "metadata": {
        "colab": {
          "base_uri": "https://localhost:8080/"
        },
        "id": "czoJGRiYArGo",
        "outputId": "b98fd094-7a30-47e1-b6f5-33635c1e3e71"
      },
      "outputs": [
        {
          "name": "stdout",
          "output_type": "stream",
          "text": [
            "Welcome to QuantConnect\n"
          ]
        }
      ],
      "source": [
        "my_string1 = 'Welcome to'\n",
        "my_string2 = \"QuantConnect\"\n",
        "print(my_string1 + ' ' + my_string2)"
      ]
    },
    {
      "cell_type": "code",
      "execution_count": null,
      "metadata": {
        "colab": {
          "base_uri": "https://localhost:8080/"
        },
        "id": "D2hZyPeYBJXT",
        "outputId": "8c6e861e-09a2-4739-ea82-41d20d334e9b"
      },
      "outputs": [
        {
          "name": "stdout",
          "output_type": "stream",
          "text": [
            "Esto es una cadena escrita en Python\n"
          ]
        }
      ],
      "source": [
        "my_str1 = 'Esto es una cadena'\n",
        "my_str2 = \"escrita en Python\"\n",
        "print(my_str1 + \" \" + my_str2)"
      ]
    },
    {
      "cell_type": "markdown",
      "metadata": {
        "id": "NuAdP3P2Br0_"
      },
      "source": [
        " An **integer** is a round number with no values after the decimal point. "
      ]
    },
    {
      "cell_type": "code",
      "execution_count": null,
      "metadata": {
        "colab": {
          "base_uri": "https://localhost:8080/"
        },
        "id": "im6aZLh7B3PC",
        "outputId": "509edf25-524e-453e-c843-7b77e110afbd"
      },
      "outputs": [
        {
          "name": "stdout",
          "output_type": "stream",
          "text": [
            "10\n",
            "<class 'int'>\n"
          ]
        }
      ],
      "source": [
        "my_int = 10\n",
        "print(my_int)\n",
        "print(type(my_int))"
      ]
    },
    {
      "cell_type": "code",
      "execution_count": null,
      "metadata": {
        "colab": {
          "base_uri": "https://localhost:8080/"
        },
        "id": "mZAvnQHnCNHk",
        "outputId": "0b9c066f-59ba-427a-adac-038fc409d81b"
      },
      "outputs": [
        {
          "name": "stdout",
          "output_type": "stream",
          "text": [
            "21\n",
            "<class 'int'>\n"
          ]
        }
      ],
      "source": [
        "int_2 = 21\n",
        "print(int_2)\n",
        "print(type(int_2))"
      ]
    },
    {
      "cell_type": "markdown",
      "metadata": {
        "id": "XdKQ8QMVCbd8"
      },
      "source": [
        " The built-in function **int()** can convert a string into an integer. "
      ]
    },
    {
      "cell_type": "code",
      "execution_count": null,
      "metadata": {
        "colab": {
          "base_uri": "https://localhost:8080/"
        },
        "id": "q3U4laBLChWR",
        "outputId": "33c27991-ff3f-400b-a525-cbb4ccedb2be"
      },
      "outputs": [
        {
          "name": "stdout",
          "output_type": "stream",
          "text": [
            "<class 'str'>\n",
            "<class 'int'>\n"
          ]
        }
      ],
      "source": [
        "my_string = \"100\"\n",
        "print(type(my_string))\n",
        "\n",
        "my_int = int(my_string)\n",
        "print(type(my_int))"
      ]
    },
    {
      "cell_type": "code",
      "execution_count": null,
      "metadata": {
        "colab": {
          "base_uri": "https://localhost:8080/"
        },
        "id": "EV2mL-enDzT2",
        "outputId": "2bf0baf5-1ebd-4e16-a3fe-4931aad0fb86"
      },
      "outputs": [
        {
          "name": "stdout",
          "output_type": "stream",
          "text": [
            "<class 'str'>\n",
            "<class 'int'>\n"
          ]
        }
      ],
      "source": [
        "mystring = \"821\"\n",
        "print(type(mystring))\n",
        "\n",
        "myint = int(mystring)\n",
        "print(type(myint))"
      ]
    },
    {
      "cell_type": "markdown",
      "metadata": {
        "id": "71gQghF4GBxs"
      },
      "source": [
        "A floating point number, or a float, is a real number in mathematics. In Python we need to include a value after a decimal point to define it as a **float**. "
      ]
    },
    {
      "cell_type": "code",
      "execution_count": null,
      "metadata": {
        "colab": {
          "base_uri": "https://localhost:8080/"
        },
        "id": "1F65nu2LGJxB",
        "outputId": "e847610d-5b3c-4f21-f117-ff8c3ee2a221"
      },
      "outputs": [
        {
          "name": "stdout",
          "output_type": "stream",
          "text": [
            "<class 'float'>\n",
            "<class 'int'>\n"
          ]
        }
      ],
      "source": [
        "my_float = 1.0\n",
        "print(type(my_float))\n",
        "\n",
        "my_int = 1\n",
        "print(type(my_int))"
      ]
    },
    {
      "cell_type": "code",
      "execution_count": null,
      "metadata": {
        "colab": {
          "base_uri": "https://localhost:8080/"
        },
        "id": "3Yu-XJS1HFJd",
        "outputId": "c743d8f2-81db-471d-87b0-752f0ab5ac52"
      },
      "outputs": [
        {
          "name": "stdout",
          "output_type": "stream",
          "text": [
            "<class 'float'>\n",
            "<class 'int'>\n"
          ]
        }
      ],
      "source": [
        "flt = 128.0\n",
        "print(type(flt))\n",
        "\n",
        "mint = 128\n",
        "print(type(mint)) "
      ]
    },
    {
      "cell_type": "markdown",
      "metadata": {
        "id": "9ARBGQaEHSXq"
      },
      "source": [
        "As you can see above, if we don't include a decimal value, the variable would be defined as an integer. The built-in function **float()** can convert a string or an integer into a float. "
      ]
    },
    {
      "cell_type": "code",
      "execution_count": null,
      "metadata": {
        "colab": {
          "base_uri": "https://localhost:8080/"
        },
        "id": "m1H3rdxZGncb",
        "outputId": "392b8fbf-2b77-4c07-eaab-0bea4348de79"
      },
      "outputs": [
        {
          "name": "stdout",
          "output_type": "stream",
          "text": [
            "<class 'float'>\n"
          ]
        }
      ],
      "source": [
        "my_string = \"100\"\n",
        "my_float = float(my_string)\n",
        "print(type(my_float))"
      ]
    },
    {
      "cell_type": "code",
      "execution_count": null,
      "metadata": {
        "colab": {
          "base_uri": "https://localhost:8080/"
        },
        "id": "yx-0SqFcHZYb",
        "outputId": "734e7f20-393c-4592-8a3d-becb5c290760"
      },
      "outputs": [
        {
          "name": "stdout",
          "output_type": "stream",
          "text": [
            "<class 'float'>\n",
            "<class 'float'>\n"
          ]
        }
      ],
      "source": [
        "mystr = \"832\"\n",
        "myflt = float(mystr)\n",
        "print(type(myflt))\n",
        "\n",
        "myint_2 = 189\n",
        "myflt_2 = float(myint_2)\n",
        "print(type(myflt_2))"
      ]
    },
    {
      "cell_type": "markdown",
      "metadata": {
        "id": "X-PB2G5IHX3-"
      },
      "source": [
        "A boolean, or **bool**, is a binary variable. Its value can only be True or False. It is useful when we do some logic operations, which would be covered in our next chapter. "
      ]
    },
    {
      "cell_type": "code",
      "execution_count": null,
      "metadata": {
        "colab": {
          "base_uri": "https://localhost:8080/"
        },
        "id": "3qpY4htjIFHf",
        "outputId": "0477e34f-a7b3-4394-f3b0-a126eaaea1eb"
      },
      "outputs": [
        {
          "name": "stdout",
          "output_type": "stream",
          "text": [
            "False\n",
            "<class 'bool'>\n"
          ]
        }
      ],
      "source": [
        "my_bool = False\n",
        "print(my_bool)\n",
        "\n",
        "print(type(my_bool))"
      ]
    },
    {
      "cell_type": "code",
      "execution_count": null,
      "metadata": {
        "colab": {
          "base_uri": "https://localhost:8080/"
        },
        "id": "eA8VBllWINOE",
        "outputId": "f3538b24-e7dd-43e3-8f21-a8526b66fc14"
      },
      "outputs": [
        {
          "name": "stdout",
          "output_type": "stream",
          "text": [
            "True\n",
            "<class 'bool'>\n"
          ]
        }
      ],
      "source": [
        "boolean = True\n",
        "print(boolean)\n",
        "print(type(boolean))"
      ]
    },
    {
      "cell_type": "markdown",
      "metadata": {
        "id": "9XvJ3afmI3qa"
      },
      "source": [
        "**Basic Math Operations**\n",
        "\n",
        " The basic math operators in python are demonstrated below: \n"
      ]
    },
    {
      "cell_type": "code",
      "execution_count": null,
      "metadata": {
        "colab": {
          "base_uri": "https://localhost:8080/"
        },
        "id": "uzJeV8kUJHoz",
        "outputId": "2da67973-063f-443f-c73e-87c98db12ece"
      },
      "outputs": [
        {
          "name": "stdout",
          "output_type": "stream",
          "text": [
            "Addition  2\n",
            "Subtraction  3\n",
            "Multiplication  6\n",
            "Division 5.0\n",
            "exponent 8\n"
          ]
        }
      ],
      "source": [
        "print(\"Addition \", 1+1)\n",
        "print(\"Subtraction \", 5-2)\n",
        "print(\"Multiplication \", 2*3)\n",
        "print(\"Division\", 10/2)\n",
        "print(\"exponent\", 2**3)"
      ]
    },
    {
      "cell_type": "code",
      "execution_count": null,
      "metadata": {
        "colab": {
          "base_uri": "https://localhost:8080/"
        },
        "id": "sU2xC8qvJMeH",
        "outputId": "13e52027-52fd-4773-d7ae-81b3933f1953"
      },
      "outputs": [
        {
          "name": "stdout",
          "output_type": "stream",
          "text": [
            "Suma  9\n",
            "Resta  12\n",
            "Multiplicación  54\n",
            "División 7.0\n",
            "Potencia 4096\n"
          ]
        }
      ],
      "source": [
        "print(\"Suma \", 6+3)\n",
        "print(\"Resta \", 19-7)\n",
        "print(\"Multiplicación \", 6*9)\n",
        "print(\"División\", 21/3)\n",
        "print(\"Potencia\", 8**4)"
      ]
    },
    {
      "cell_type": "markdown",
      "metadata": {
        "id": "GbVBosFLRESf"
      },
      "source": [
        "**Data Collections**\n",
        "\n",
        "**List**\n",
        "\n",
        "A list is an ordered collection of values. A list is mutable, which means you can change a list's value without changing the list itself. Creating a list is simply putting different comma-separated values between square brackets. "
      ]
    },
    {
      "cell_type": "code",
      "execution_count": null,
      "metadata": {
        "id": "RtLtBWIYJav2"
      },
      "outputs": [],
      "source": [
        "my_list = ['Quant', 'Connect', 1,2,3]\n",
        "print(len(my_list))\n",
        "\n",
        "print(my_list[0])\n",
        "\n",
        "print(my_list[len(my_list) - 1])"
      ]
    },
    {
      "cell_type": "code",
      "execution_count": null,
      "metadata": {
        "colab": {
          "base_uri": "https://localhost:8080/"
        },
        "id": "ocGaD90ySZai",
        "outputId": "9c824d55-c69a-4601-f187-8349bdd3da36"
      },
      "outputs": [
        {
          "name": "stdout",
          "output_type": "stream",
          "text": [
            "6\n",
            "Algoritmos\n",
            "False\n"
          ]
        }
      ],
      "source": [
        "mylist = ['Algoritmos', 'UN', 2021, 2, 1843, False]\n",
        "print(len(mylist))\n",
        "\n",
        "print(mylist[0])\n",
        "\n",
        "print(mylist[len(mylist) - 1])"
      ]
    },
    {
      "cell_type": "markdown",
      "metadata": {
        "id": "xomHUbvcS0jq"
      },
      "source": [
        "You can also change the elements in the list by accessing an index and assigning a new value. "
      ]
    },
    {
      "cell_type": "code",
      "execution_count": null,
      "metadata": {
        "colab": {
          "base_uri": "https://localhost:8080/"
        },
        "id": "MCfr_7OdS1X5",
        "outputId": "60cd437c-d733-49a1-b902-dcbf8a1b56da"
      },
      "outputs": [
        {
          "name": "stdout",
          "output_type": "stream",
          "text": [
            "['Quant', 'Connect', 'go', 2, 3]\n"
          ]
        }
      ],
      "source": [
        "my_list = ['Quant','Connect',1,2,3]\n",
        "my_list[2] = 'go'\n",
        "print(my_list)"
      ]
    },
    {
      "cell_type": "code",
      "execution_count": null,
      "metadata": {
        "colab": {
          "base_uri": "https://localhost:8080/"
        },
        "id": "nesQBjnJTAG7",
        "outputId": "f364e3aa-dc70-4bbd-b2cb-6b090fed5c5e"
      },
      "outputs": [
        {
          "name": "stdout",
          "output_type": "stream",
          "text": [
            "['Algoritmos', 'UN', 2021, 2, 1843, True]\n"
          ]
        }
      ],
      "source": [
        "mylist = ['Algoritmos', 'UN', 2021, 2, 1843, False]\n",
        "mylist[5] = True\n",
        "print(mylist)"
      ]
    },
    {
      "cell_type": "markdown",
      "metadata": {
        "id": "86KGy1wHTOzy"
      },
      "source": [
        " A list can also be sliced with a colon: "
      ]
    },
    {
      "cell_type": "code",
      "execution_count": null,
      "metadata": {
        "id": "OuUIKYcTTPqt"
      },
      "outputs": [],
      "source": [
        "my_list = ['Quant','Connect',1,2,3]\n",
        "print(my_list[1:3])"
      ]
    },
    {
      "cell_type": "code",
      "execution_count": null,
      "metadata": {
        "colab": {
          "base_uri": "https://localhost:8080/"
        },
        "id": "xADTto4FTR13",
        "outputId": "46b1dadb-8086-496c-dd87-a6fb6305ac0a"
      },
      "outputs": [
        {
          "name": "stdout",
          "output_type": "stream",
          "text": [
            "[2021, 2, 1843]\n"
          ]
        }
      ],
      "source": [
        "mylist = ['Algoritmos', 'UN', 2021, 2, 1843, False]\n",
        "print(mylist[2:5])"
      ]
    },
    {
      "cell_type": "markdown",
      "metadata": {
        "id": "BD3_koZXTaQP"
      },
      "source": [
        "The slice starts from the first element indicated, but excludes the last element indicated. Here we select all elements starting from index 1, which refers to the second element: "
      ]
    },
    {
      "cell_type": "code",
      "execution_count": null,
      "metadata": {
        "colab": {
          "base_uri": "https://localhost:8080/"
        },
        "id": "r1jkNK-FTYQ5",
        "outputId": "1857dfe3-96d8-4be6-bbb5-7ec4ba477e8a"
      },
      "outputs": [
        {
          "name": "stdout",
          "output_type": "stream",
          "text": [
            "['Connect', 'go', 2, 3]\n"
          ]
        }
      ],
      "source": [
        "print(my_list[1:])"
      ]
    },
    {
      "cell_type": "code",
      "execution_count": null,
      "metadata": {
        "colab": {
          "base_uri": "https://localhost:8080/"
        },
        "id": "RtJ4_uMkTh3e",
        "outputId": "a54d599a-eb5e-4d82-f8c5-a2427e6a54fe"
      },
      "outputs": [
        {
          "name": "stdout",
          "output_type": "stream",
          "text": [
            "[2021, 2, 1843, False]\n"
          ]
        }
      ],
      "source": [
        "print(mylist[2:])"
      ]
    },
    {
      "cell_type": "markdown",
      "metadata": {
        "id": "GB5MgufgTngH"
      },
      "source": [
        " And all elements up to but excluding index 3: "
      ]
    },
    {
      "cell_type": "code",
      "execution_count": null,
      "metadata": {
        "colab": {
          "base_uri": "https://localhost:8080/"
        },
        "id": "FpUtBTsYTuui",
        "outputId": "5a68a66e-003c-4887-bd5e-9f7acc03e691"
      },
      "outputs": [
        {
          "name": "stdout",
          "output_type": "stream",
          "text": [
            "['Quant', 'Connect', 'go']\n"
          ]
        }
      ],
      "source": [
        "print(my_list[:3])"
      ]
    },
    {
      "cell_type": "code",
      "execution_count": null,
      "metadata": {
        "colab": {
          "base_uri": "https://localhost:8080/"
        },
        "id": "UL-dCfjST0Bi",
        "outputId": "da190cda-8431-4a7f-bf4e-be5d76f815ca"
      },
      "outputs": [
        {
          "name": "stdout",
          "output_type": "stream",
          "text": [
            "['Algoritmos', 'UN', 2021, 2]\n"
          ]
        }
      ],
      "source": [
        "print(mylist[:4])"
      ]
    },
    {
      "cell_type": "markdown",
      "metadata": {
        "id": "F0yWyCzXT3Se"
      },
      "source": [
        "If you wish to add or remove an element from a list, you can use the **append()** and **remove()** methods for lists as follows: "
      ]
    },
    {
      "cell_type": "code",
      "execution_count": null,
      "metadata": {
        "colab": {
          "base_uri": "https://localhost:8080/"
        },
        "id": "-A16xmxBT9nF",
        "outputId": "fe3fddbd-d069-4266-dacd-4583265ce029"
      },
      "outputs": [
        {
          "name": "stdout",
          "output_type": "stream",
          "text": [
            "['Hello', 'Quant', 'Hello']\n",
            "['Quant', 'Hello']\n"
          ]
        }
      ],
      "source": [
        "my_list = ['Hello', 'Quant']\n",
        "my_list.append('Hello')\n",
        "print(my_list)\n",
        "\n",
        "my_list.remove('Hello')\n",
        "print(my_list)"
      ]
    },
    {
      "cell_type": "code",
      "execution_count": null,
      "metadata": {
        "colab": {
          "base_uri": "https://localhost:8080/"
        },
        "id": "geOf6bDLUEti",
        "outputId": "ff3399c2-6883-4f93-b7c5-89b153de70dc"
      },
      "outputs": [
        {
          "name": "stdout",
          "output_type": "stream",
          "text": [
            "['Universidad', 'Nacional', 'Colombia']\n",
            "['Universidad', 'Colombia']\n"
          ]
        }
      ],
      "source": [
        "mylist = ['Universidad', 'Nacional']\n",
        "mylist.append('Colombia')\n",
        "print(mylist)\n",
        "\n",
        "mylist.remove('Nacional')\n",
        "print(mylist)"
      ]
    },
    {
      "cell_type": "markdown",
      "metadata": {
        "id": "Zu_uD32LUYYZ"
      },
      "source": [
        "**Tuple**\n",
        "\n",
        "A tuple is a data structure type similar to a list. The difference is that a tuple is immutable, which means you can't change the elements in it once it's defined. We create a tuple by putting comma-separated values between parentheses. "
      ]
    },
    {
      "cell_type": "code",
      "execution_count": null,
      "metadata": {
        "id": "FDWxxQN1Uanq"
      },
      "outputs": [],
      "source": [
        "my_tuple = ('Welcome','to','QuantConnect')"
      ]
    },
    {
      "cell_type": "code",
      "execution_count": null,
      "metadata": {
        "id": "soEM5_PqUcnr"
      },
      "outputs": [],
      "source": [
        "mytuple = (\"Facultad\", \"de\", \"ingeniería\")"
      ]
    },
    {
      "cell_type": "markdown",
      "metadata": {
        "id": "On7Qd2WFUltO"
      },
      "source": [
        " Just like a list, a tuple can be sliced by using index. "
      ]
    },
    {
      "cell_type": "code",
      "execution_count": null,
      "metadata": {
        "colab": {
          "base_uri": "https://localhost:8080/"
        },
        "id": "0zTV3ipxUk3V",
        "outputId": "8f67d14d-b271-41e7-906d-940d1213be7c"
      },
      "outputs": [
        {
          "name": "stdout",
          "output_type": "stream",
          "text": [
            "('to', 'QuantConnect')\n"
          ]
        }
      ],
      "source": [
        "my_tuple = ('Welcome','to','QuantConnect')\n",
        "print(my_tuple[1:])"
      ]
    },
    {
      "cell_type": "code",
      "execution_count": null,
      "metadata": {
        "colab": {
          "base_uri": "https://localhost:8080/"
        },
        "id": "tQGpIEqnUsn3",
        "outputId": "ce7c0023-36b7-4f2d-db43-3bd45c943032"
      },
      "outputs": [
        {
          "name": "stdout",
          "output_type": "stream",
          "text": [
            "('ingeniería',)\n"
          ]
        }
      ],
      "source": [
        "mytuple = (\"Facultad\", \"de\", \"ingeniería\")\n",
        "print(mytuple[2:])"
      ]
    },
    {
      "cell_type": "markdown",
      "metadata": {
        "id": "rnwHzxwXU4So"
      },
      "source": [
        "**Set**\n",
        "\n",
        "A set is an unordered collection with no duplicate elements. The built-in function **set()** can be used to create sets. "
      ]
    },
    {
      "cell_type": "code",
      "execution_count": null,
      "metadata": {
        "colab": {
          "base_uri": "https://localhost:8080/"
        },
        "id": "2dHJU0pBU75n",
        "outputId": "9b5990d3-44ab-4b00-a512-ab4e11094902"
      },
      "outputs": [
        {
          "name": "stdout",
          "output_type": "stream",
          "text": [
            "{'AAPL', 'FB', 'F', 'GOOG', 'IBM'}\n"
          ]
        }
      ],
      "source": [
        "stock_list = ['AAPL','GOOG','IBM','AAPL','IBM','FB','F','GOOG']\n",
        "stock_set = set(stock_list)\n",
        "print(stock_set)"
      ]
    },
    {
      "cell_type": "code",
      "execution_count": null,
      "metadata": {
        "colab": {
          "base_uri": "https://localhost:8080/"
        },
        "id": "DB3BQt16VBGi",
        "outputId": "8f68310c-78a0-4491-ee5c-1887e4563ff5"
      },
      "outputs": [
        {
          "name": "stdout",
          "output_type": "stream",
          "text": [
            "{'UK', 'US', 'ES', 'AR', 'CO'}\n"
          ]
        }
      ],
      "source": [
        "country_list = ['CO', 'UK', 'ES', 'AR', 'CO', 'UK', 'US', 'US']\n",
        "country_set = set(country_list)\n",
        "print(country_set)"
      ]
    },
    {
      "cell_type": "markdown",
      "metadata": {
        "id": "NzapvGPUVYhF"
      },
      "source": [
        "**Dictionary**\n",
        "\n",
        "A dictionary is one of the most important data structures in Python. Unlike sequences which are indexed by integers, dictionaries are indexed by keys which can be either strings or floats.\n",
        "\n",
        "A dictionary is an unordered collection of key : value pairs, with the requirement that the keys are unique. We create a dictionary by placing a comma-separated list of key : value pairs within the braces. "
      ]
    },
    {
      "cell_type": "code",
      "execution_count": null,
      "metadata": {
        "id": "YYXp7r_VVcMa"
      },
      "outputs": [],
      "source": [
        "my_dic = {'AAPL': 'Apple', 'FB': 'FaceBook', 'GOOG': 'Alphabet'}"
      ]
    },
    {
      "cell_type": "code",
      "execution_count": null,
      "metadata": {
        "id": "7-L6HPkhVl9R"
      },
      "outputs": [],
      "source": [
        "ct_dic = {'UK': 'London', 'ES': 'Madrid', 'CO': 'Bogotá', 'MX': 'México'}"
      ]
    },
    {
      "cell_type": "markdown",
      "metadata": {
        "id": "p5BRfV1DV6CD"
      },
      "source": [
        "After defining a dictionary, we can access any value by indicating its key in brackets. "
      ]
    },
    {
      "cell_type": "code",
      "execution_count": null,
      "metadata": {
        "colab": {
          "base_uri": "https://localhost:8080/"
        },
        "id": "Pu3e1oTLV8BJ",
        "outputId": "cb561778-ef0b-4f6d-9ad2-09c8eed5ff63"
      },
      "outputs": [
        {
          "name": "stdout",
          "output_type": "stream",
          "text": [
            "Alphabet\n"
          ]
        }
      ],
      "source": [
        "print(my_dic['GOOG'])"
      ]
    },
    {
      "cell_type": "code",
      "execution_count": null,
      "metadata": {
        "colab": {
          "base_uri": "https://localhost:8080/"
        },
        "id": "ds5mJHrIWClr",
        "outputId": "ea22b930-e350-48e5-a9a3-0d546d848997"
      },
      "outputs": [
        {
          "name": "stdout",
          "output_type": "stream",
          "text": [
            "London\n"
          ]
        }
      ],
      "source": [
        "print(ct_dic['UK'])"
      ]
    },
    {
      "cell_type": "markdown",
      "metadata": {
        "id": "sub9tL7vWI56"
      },
      "source": [
        " We can also change the value associated with a specified key: "
      ]
    },
    {
      "cell_type": "code",
      "execution_count": null,
      "metadata": {
        "colab": {
          "base_uri": "https://localhost:8080/"
        },
        "id": "MKaLPP96WOPD",
        "outputId": "f30cf4fe-0d60-4acf-8116-7262e6ba1d38"
      },
      "outputs": [
        {
          "name": "stdout",
          "output_type": "stream",
          "text": [
            "Alphabet Company\n"
          ]
        }
      ],
      "source": [
        "my_dic['GOOG'] = 'Alphabet Company'\n",
        "print(my_dic['GOOG'])"
      ]
    },
    {
      "cell_type": "code",
      "execution_count": null,
      "metadata": {
        "colab": {
          "base_uri": "https://localhost:8080/"
        },
        "id": "Stwitkp6WQ50",
        "outputId": "2b7d9a03-22b2-4e44-99c4-a776889cd3b0"
      },
      "outputs": [
        {
          "name": "stdout",
          "output_type": "stream",
          "text": [
            "Ciudad de México\n"
          ]
        }
      ],
      "source": [
        "ct_dic['MX'] = 'Ciudad de México'\n",
        "print(ct_dic['MX'])"
      ]
    },
    {
      "cell_type": "markdown",
      "metadata": {
        "id": "9P4aPd_FWbGY"
      },
      "source": [
        "The built-in method of the dictionary object **dict.keys()** returns a list of all the keys used in the dictionary. "
      ]
    },
    {
      "cell_type": "code",
      "execution_count": null,
      "metadata": {
        "colab": {
          "base_uri": "https://localhost:8080/"
        },
        "id": "8Dzsdq1lWb3C",
        "outputId": "13bce513-6422-4cab-cd00-cd7ad03f90e5"
      },
      "outputs": [
        {
          "name": "stdout",
          "output_type": "stream",
          "text": [
            "dict_keys(['AAPL', 'FB', 'GOOG'])\n"
          ]
        }
      ],
      "source": [
        "print(my_dic.keys())"
      ]
    },
    {
      "cell_type": "code",
      "execution_count": null,
      "metadata": {
        "colab": {
          "base_uri": "https://localhost:8080/"
        },
        "id": "60wi8xhsWfyY",
        "outputId": "6089018a-c75e-43fa-9ea5-b83fc6180d81"
      },
      "outputs": [
        {
          "name": "stdout",
          "output_type": "stream",
          "text": [
            "dict_keys(['UK', 'ES', 'CO', 'MX'])\n"
          ]
        }
      ],
      "source": [
        "print(ct_dic.keys())"
      ]
    },
    {
      "cell_type": "markdown",
      "metadata": {
        "id": "4BLVVwuyWoF8"
      },
      "source": [
        "**Common String Operations**\n",
        "\n",
        "A string is an immutable sequence of characters. It can be sliced by index just like a tuple: "
      ]
    },
    {
      "cell_type": "code",
      "execution_count": null,
      "metadata": {
        "colab": {
          "base_uri": "https://localhost:8080/"
        },
        "id": "BaVEr70uWk3A",
        "outputId": "b36247fc-0e2a-4f07-bd2a-0e965af0e294"
      },
      "outputs": [
        {
          "name": "stdout",
          "output_type": "stream",
          "text": [
            "to QuantConnect\n"
          ]
        }
      ],
      "source": [
        "my_str = 'Welcome to QuantConnect'\n",
        "print(my_str[8:])"
      ]
    },
    {
      "cell_type": "code",
      "execution_count": null,
      "metadata": {
        "colab": {
          "base_uri": "https://localhost:8080/"
        },
        "id": "xa6gpDEiWwIl",
        "outputId": "62f9525f-79b9-489f-c164-a5214cccd6ea"
      },
      "outputs": [
        {
          "name": "stdout",
          "output_type": "stream",
          "text": [
            "los strings en python\n"
          ]
        }
      ],
      "source": [
        "mystr = \"Bienvenidos a los strings en python\"\n",
        "print(mystr[14:])"
      ]
    },
    {
      "cell_type": "markdown",
      "metadata": {
        "id": "Z8pDbybAXG8U"
      },
      "source": [
        "There are many methods associated with strings. We can use string.count() to count the occurrences of a character in a string, use string.find() to return the index of a specific character, and use string.replace() to replace characters. "
      ]
    },
    {
      "cell_type": "code",
      "execution_count": null,
      "metadata": {
        "colab": {
          "base_uri": "https://localhost:8080/"
        },
        "id": "i4d9B-eJXJ-z",
        "outputId": "746bd806-a5ca-46ad-ea50-e82ec3fbd742"
      },
      "outputs": [
        {
          "name": "stdout",
          "output_type": "stream",
          "text": [
            "6\n",
            "2\n",
            "ell the e in this sentence now becomes e\n"
          ]
        }
      ],
      "source": [
        "print(\"Counting the number of e's in this sentence\".count('e'))\n",
        "\n",
        "print('The first time e appears in this sentence'.find('e'))\n",
        "\n",
        "print('all the a in this sentence now becomes e'.replace('a','e'))"
      ]
    },
    {
      "cell_type": "code",
      "execution_count": null,
      "metadata": {
        "colab": {
          "base_uri": "https://localhost:8080/"
        },
        "id": "UZFeeT-7XSG0",
        "outputId": "c77e851b-2b64-45c1-e797-b174c433ce33"
      },
      "outputs": [
        {
          "name": "stdout",
          "output_type": "stream",
          "text": [
            "12\n",
            "9\n",
            "Ojili no cimbien muchis letris en li orición\n"
          ]
        }
      ],
      "source": [
        "print(\"En esta cadena hay muchas llllllllllll\".count('l'))\n",
        "\n",
        "print(\"La letra d puede aparecer en cualquier momento\".find('d'))\n",
        "\n",
        "print(\"Ojala no cambien muchas letras en la oración\".replace('a', 'i'))"
      ]
    },
    {
      "cell_type": "markdown",
      "metadata": {
        "id": "UIus4mc0XvQz"
      },
      "source": [
        "The most commonly used method for strings is string.split(). This method will split the string by the indicated character and return a list: "
      ]
    },
    {
      "cell_type": "code",
      "execution_count": null,
      "metadata": {
        "colab": {
          "base_uri": "https://localhost:8080/"
        },
        "id": "dRJZ2kQwXx2s",
        "outputId": "c0a03e90-d7b6-4a65-fc5a-0e873598aedf"
      },
      "outputs": [
        {
          "name": "stdout",
          "output_type": "stream",
          "text": [
            "2016-04-01 09:43:00\n",
            "09\n"
          ]
        }
      ],
      "source": [
        "Time = '2016-04-01 09:43:00'\n",
        "splited_list = Time.split(' ')\n",
        "date = splited_list[0]\n",
        "time = splited_list[1]\n",
        "print(date, time)\n",
        "\n",
        "hour = time.split(':')[0]\n",
        "print(hour)"
      ]
    },
    {
      "cell_type": "code",
      "execution_count": null,
      "metadata": {
        "colab": {
          "base_uri": "https://localhost:8080/"
        },
        "id": "4r9A2U8yX31h",
        "outputId": "371709c1-cb44-4fb7-9ea3-aff654e3243e"
      },
      "outputs": [
        {
          "name": "stdout",
          "output_type": "stream",
          "text": [
            "Laboratorio Facultad#123\n",
            "123\n"
          ]
        }
      ],
      "source": [
        "lab = 'Laboratorio Facultad#123'\n",
        "s_list = lab.split(' ')\n",
        "tipo = s_list[0]\n",
        "facultad = s_list[1]\n",
        "print(tipo, facultad)\n",
        "\n",
        "numero = facultad.split('#')[1]\n",
        "print(numero)"
      ]
    },
    {
      "cell_type": "markdown",
      "metadata": {
        "id": "cyAJVjEiYuGS"
      },
      "source": [
        "We can replace parts of a string by our variable. This is called string formatting. "
      ]
    },
    {
      "cell_type": "code",
      "execution_count": null,
      "metadata": {
        "colab": {
          "base_uri": "https://localhost:8080/"
        },
        "id": "BB2MHlK2Ypbg",
        "outputId": "f9197fe3-6aea-409b-df09-e73b8d9fdf3b"
      },
      "outputs": [
        {
          "name": "stdout",
          "output_type": "stream",
          "text": [
            "Hour: 9, Minute: 43\n"
          ]
        }
      ],
      "source": [
        "my_time = 'Hour: {}, Minute: {}'.format(9, 43)\n",
        "print(my_time)"
      ]
    },
    {
      "cell_type": "code",
      "execution_count": null,
      "metadata": {
        "colab": {
          "base_uri": "https://localhost:8080/"
        },
        "id": "HOhNtVzuYyid",
        "outputId": "3eb24a8e-cca8-404e-e549-0273d5f0fe86"
      },
      "outputs": [
        {
          "name": "stdout",
          "output_type": "stream",
          "text": [
            "El partido termino: Local 4 - 2 Visitante\n"
          ]
        }
      ],
      "source": [
        "result = 'El partido termino: Local {} - {} Visitante'.format(4,2)\n",
        "print(result)"
      ]
    },
    {
      "cell_type": "markdown",
      "metadata": {
        "id": "gAn9_pCtZCvI"
      },
      "source": [
        " Another way to format a string is to use the % symbol. "
      ]
    },
    {
      "cell_type": "code",
      "execution_count": null,
      "metadata": {
        "colab": {
          "base_uri": "https://localhost:8080/"
        },
        "id": "W1MWqaQ0ZBtP",
        "outputId": "cec92059-2df6-4538-8ffc-39a6456756b6"
      },
      "outputs": [
        {
          "name": "stdout",
          "output_type": "stream",
          "text": [
            "pi is 3.140000\n",
            "Welcome to QuantConnect\n"
          ]
        }
      ],
      "source": [
        "print('pi is %f' % 3.14)\n",
        "\n",
        "print('%s to %s' % ('Welcome', 'QuantConnect'))"
      ]
    },
    {
      "cell_type": "code",
      "execution_count": null,
      "metadata": {
        "colab": {
          "base_uri": "https://localhost:8080/"
        },
        "id": "nY96S0yiZNcL",
        "outputId": "915fc853-260e-4d62-8f07-4d319229b376"
      },
      "outputs": [
        {
          "name": "stdout",
          "output_type": "stream",
          "text": [
            "Hay 435 maneras de resolver el problema\n",
            "La probabilidad de ganar es 23.600000\n"
          ]
        }
      ],
      "source": [
        "print(\"Hay %d maneras de resolver el problema\" % 435)\n",
        "\n",
        "print(\"La probabilidad de %s es %f\" % (\"ganar\", 23.6))"
      ]
    },
    {
      "cell_type": "markdown",
      "metadata": {
        "id": "QOCF86BhZnm1"
      },
      "source": [
        "#  Logical Operations and Loops\n",
        "\n",
        "# Logical Operations\n",
        "\n",
        "Like most programming languages, Python has comparison operators: "
      ]
    },
    {
      "cell_type": "code",
      "execution_count": null,
      "metadata": {
        "colab": {
          "base_uri": "https://localhost:8080/"
        },
        "id": "JefC-8XOZ5Iw",
        "outputId": "e6ba8b40-94c5-41ae-cd64-62632dccf4e9"
      },
      "outputs": [
        {
          "name": "stdout",
          "output_type": "stream",
          "text": [
            "False\n",
            "True\n",
            "True\n",
            "True\n",
            "False\n"
          ]
        }
      ],
      "source": [
        "print(1 == 0)    # 1 equals 0\n",
        "print(1 == 1)    # 1 equals 1\n",
        "print(1 != 0)    # 1 is not equal to 0\n",
        "print(5 >= 5)    # 5 is greater than or equal to 5\n",
        "print(5 >= 6)    # 5 is greater than or equal to 6"
      ]
    },
    {
      "cell_type": "code",
      "execution_count": null,
      "metadata": {
        "colab": {
          "base_uri": "https://localhost:8080/"
        },
        "id": "et9483G4aA8m",
        "outputId": "72628f37-b7c9-4e3e-fa0d-95e140c884d4"
      },
      "outputs": [
        {
          "name": "stdout",
          "output_type": "stream",
          "text": [
            "False\n",
            "True\n",
            "True\n",
            "True\n",
            "False\n"
          ]
        }
      ],
      "source": [
        "print(8 == 9)    # 8 equals 9\n",
        "print(0 == 0)    # 0 equals 0\n",
        "print(36 != 63)    # 36 is not equal to 63\n",
        "print(38 >= 35)    # 38 is greater than or equal to 35\n",
        "print(1 >= 2)    # 1 is greater than or equal to 2"
      ]
    },
    {
      "cell_type": "markdown",
      "metadata": {
        "id": "e7TUuW7Jabe6"
      },
      "source": [
        "Each statement above has a boolean value, which must be either True or False, but not both.\n",
        "\n",
        "We can combine simple statements P and Q to form complex statements using logical operators: "
      ]
    },
    {
      "cell_type": "code",
      "execution_count": null,
      "metadata": {
        "colab": {
          "base_uri": "https://localhost:8080/"
        },
        "id": "GFHzyxJqaVz0",
        "outputId": "22e41c80-f1f7-4282-fc68-047bc8d6f88e"
      },
      "outputs": [
        {
          "name": "stdout",
          "output_type": "stream",
          "text": [
            "True\n",
            "False\n",
            "True\n",
            "False\n"
          ]
        }
      ],
      "source": [
        "print(2 > 1 and 3 > 2)\n",
        "print(2 > 1 and 3 < 2)\n",
        "print(2 > 1 or  3 < 2)\n",
        "print(2 < 1 and 3 < 2)"
      ]
    },
    {
      "cell_type": "code",
      "execution_count": null,
      "metadata": {
        "colab": {
          "base_uri": "https://localhost:8080/"
        },
        "id": "ouYsu21ea2Jn",
        "outputId": "cbcd680f-9228-4282-c051-4054678d8a4b"
      },
      "outputs": [
        {
          "name": "stdout",
          "output_type": "stream",
          "text": [
            "False\n",
            "True\n",
            "True\n",
            "False\n"
          ]
        }
      ],
      "source": [
        "print(5 > 6 and 8 > 3)\n",
        "print(4 > 2 and 4 < 8)\n",
        "print(3 > 6 or  0 < 2)\n",
        "print(8 < 4 and 3 < 4)"
      ]
    },
    {
      "cell_type": "markdown",
      "metadata": {
        "id": "7-s0-DGtskGC"
      },
      "source": [
        "When dealing with a very complex logical statement that involves in several statements, we can use brackets to separate and combine them. "
      ]
    },
    {
      "cell_type": "code",
      "execution_count": null,
      "metadata": {
        "colab": {
          "base_uri": "https://localhost:8080/"
        },
        "id": "cRy_kXiXso0I",
        "outputId": "23b44da0-4fad-4a62-f703-edd2b7206ca0"
      },
      "outputs": [
        {
          "name": "stdout",
          "output_type": "stream",
          "text": [
            "False\n",
            "True\n"
          ]
        }
      ],
      "source": [
        "print((3 > 2 or 1 < 3) and (1!=3 and 4>3) and not ( 3 < 2 or 1 < 3 and (1!=3 and 4>3)))\n",
        "print(3 > 2 or 1 < 3 and (1!=3 and 4>3) and not ( 3 < 2 or 1 < 3 and (1!=3 and 4>3)))"
      ]
    },
    {
      "cell_type": "code",
      "execution_count": null,
      "metadata": {
        "colab": {
          "base_uri": "https://localhost:8080/"
        },
        "id": "wjfTgYhvsv6L",
        "outputId": "d741066e-325d-48eb-fa7c-740b8737f563"
      },
      "outputs": [
        {
          "name": "stdout",
          "output_type": "stream",
          "text": [
            "False\n",
            "True\n"
          ]
        }
      ],
      "source": [
        "print((-3 > -8 or 0 < 56) and (5 != 7 and 9 > 1) and not ( -8 < 6 or 3 < 1 and (0 != 0 and 8 > 2)))\n",
        "print(9 > -3 or 7 < 3 and (24 != 42 and 8 > 4) and not ( 6 < 5 or 2 < 9 and (21 != 4 and 8 > 2)))"
      ]
    },
    {
      "cell_type": "markdown",
      "metadata": {
        "id": "1zLUBdKmtYSO"
      },
      "source": [
        "**If Statement**\n",
        "\n",
        "An if statement executes a segment of code only if its condition is true. A standard if statement consists of 3 segments: if, elif and else. \n",
        "\n",
        "```python\n",
        "if condition1:\n",
        "    # if condition1 is true, execute the code here\n",
        "    # and ignore the rest of this if statement\n",
        "elif condition2:\n",
        "    # if condition1 is false, and condition2 is true, execute the code here\n",
        "    # and ignore the rest of this if statement\n",
        "else:\n",
        "    # if none of the above conditions is True, execute the code here\n",
        "```\n",
        "\n",
        "An if statement doesn't necessarily has elif and else part. If it's not specified, the indented block of code will be executed when the condition is true, otherwise the whole if statement will be skipped. "
      ]
    },
    {
      "cell_type": "code",
      "execution_count": null,
      "metadata": {
        "colab": {
          "base_uri": "https://localhost:8080/"
        },
        "id": "odM31eAptGc4",
        "outputId": "9202fb57-7b46-4ced-c888-b8eab22927aa"
      },
      "outputs": [
        {
          "name": "stdout",
          "output_type": "stream",
          "text": [
            "i == 0 is True\n"
          ]
        }
      ],
      "source": [
        "i = 0\n",
        "if i == 0: print('i == 0 is True')"
      ]
    },
    {
      "cell_type": "code",
      "execution_count": null,
      "metadata": {
        "colab": {
          "base_uri": "https://localhost:8080/"
        },
        "id": "3MPRntBguHGt",
        "outputId": "1800950d-eccc-4030-ed42-53fb7fd99499"
      },
      "outputs": [
        {
          "name": "stdout",
          "output_type": "stream",
          "text": [
            "The color is white\n"
          ]
        }
      ],
      "source": [
        "color = 'white'\n",
        "if color == 'white': print('The color is white')"
      ]
    },
    {
      "cell_type": "markdown",
      "metadata": {
        "id": "V4EHeERFuUrV"
      },
      "source": [
        " As we mentioned above, we can write some complex statements here: "
      ]
    },
    {
      "cell_type": "code",
      "execution_count": null,
      "metadata": {
        "colab": {
          "base_uri": "https://localhost:8080/"
        },
        "id": "iQ6Oke1_uRXc",
        "outputId": "d399300d-5a67-473a-eff3-f6b58b5e7502"
      },
      "outputs": [
        {
          "name": "stdout",
          "output_type": "stream",
          "text": [
            "q is false\n"
          ]
        }
      ],
      "source": [
        "p = 1 > 0\n",
        "q = 2 > 3\n",
        "if p and q:\n",
        "    print('p and q is true')\n",
        "elif p and not q:\n",
        "    print('q is false')\n",
        "elif q and not p:\n",
        "    print('p is false')\n",
        "else:\n",
        "    print('None of p and q is true')"
      ]
    },
    {
      "cell_type": "code",
      "execution_count": null,
      "metadata": {
        "colab": {
          "base_uri": "https://localhost:8080/"
        },
        "id": "SkCRGvpBug3s",
        "outputId": "1bebe0d6-4347-490f-dabd-2c091752b393"
      },
      "outputs": [
        {
          "name": "stdout",
          "output_type": "stream",
          "text": [
            "4 es par y múltiplo de 4\n"
          ]
        }
      ],
      "source": [
        "p = 4 % 2 == 0\n",
        "q = 4 % 3 == 0\n",
        "r = 4 % 4 == 0\n",
        "\n",
        "if p and q:\n",
        "  print('4 es par y múltiplo de 3')\n",
        "elif p and not r:\n",
        "  print('4 es par y no es múltiplo de 4')\n",
        "elif p and r:\n",
        "  print('4 es par y múltiplo de 4')\n",
        "else:\n",
        "  print('4 es impar')"
      ]
    },
    {
      "cell_type": "markdown",
      "metadata": {
        "id": "_ViKaA-Jt-hU"
      },
      "source": [
        "**Loop Structure**\n",
        "\n",
        "Loops are an essential part of programming. The \"for\" and \"while\" loops run a block of code repeatedly.\n",
        "\n",
        "**While Loop**\n",
        "\n",
        "A \"while\" loop will run repeatedly until a certain condition has been met. "
      ]
    },
    {
      "cell_type": "code",
      "execution_count": null,
      "metadata": {
        "colab": {
          "base_uri": "https://localhost:8080/"
        },
        "id": "fOlUoZypvlWX",
        "outputId": "0cc8a418-265d-4f61-e5a4-84b2e8c33ead"
      },
      "outputs": [
        {
          "name": "stdout",
          "output_type": "stream",
          "text": [
            "0\n",
            "1\n",
            "2\n",
            "3\n",
            "4\n"
          ]
        }
      ],
      "source": [
        "i = 0\n",
        "while i < 5:\n",
        "    print(i)\n",
        "    i += 1"
      ]
    },
    {
      "cell_type": "code",
      "execution_count": null,
      "metadata": {
        "colab": {
          "base_uri": "https://localhost:8080/"
        },
        "id": "8R4pYqArv189",
        "outputId": "b7c43328-23e3-4da0-f004-de0f6eda51b8"
      },
      "outputs": [
        {
          "name": "stdout",
          "output_type": "stream",
          "text": [
            "10\n",
            "8\n",
            "6\n",
            "4\n",
            "2\n"
          ]
        }
      ],
      "source": [
        "x = 10\n",
        "\n",
        "while x > 0:\n",
        "  print(x)\n",
        "  x -= 2"
      ]
    },
    {
      "cell_type": "markdown",
      "metadata": {
        "id": "MrCphZuKwIr4"
      },
      "source": [
        "**For Loop**\n",
        "\n",
        "A \"for\" loop will iterate over a sequence of value and terminate when the sequence has ended. "
      ]
    },
    {
      "cell_type": "code",
      "execution_count": null,
      "metadata": {
        "colab": {
          "base_uri": "https://localhost:8080/"
        },
        "id": "m2q6leNCwLQL",
        "outputId": "9e201692-5069-4461-9c8f-bd86d9dd6d38"
      },
      "outputs": [
        {
          "name": "stdout",
          "output_type": "stream",
          "text": [
            "1\n",
            "2\n",
            "3\n",
            "4\n",
            "5\n"
          ]
        }
      ],
      "source": [
        "for x in [1,2,3,4,5]: print (x)"
      ]
    },
    {
      "cell_type": "code",
      "execution_count": null,
      "metadata": {
        "colab": {
          "base_uri": "https://localhost:8080/"
        },
        "id": "m1MQmaIDwPVa",
        "outputId": "bb717e2c-ebfc-46d0-8ad4-d0a3455af1d8"
      },
      "outputs": [
        {
          "name": "stdout",
          "output_type": "stream",
          "text": [
            "a\n",
            "b\n",
            "c\n",
            "d\n",
            "e\n"
          ]
        }
      ],
      "source": [
        "for w in ['a', 'b', 'c', 'd', 'e']: print(w)"
      ]
    },
    {
      "cell_type": "markdown",
      "metadata": {
        "id": "A1pdLL1bweBT"
      },
      "source": [
        "We can also add if statements in a for loop. Here is a real example from our pairs trading algorithm: "
      ]
    },
    {
      "cell_type": "code",
      "execution_count": null,
      "metadata": {
        "colab": {
          "base_uri": "https://localhost:8080/"
        },
        "id": "9R9RVDQVwZEZ",
        "outputId": "cc913b19-79e8-4f22-f356-f889c0ce183c"
      },
      "outputs": [
        {
          "name": "stdout",
          "output_type": "stream",
          "text": [
            "['GOOG', 'FB', 'F', 'V', 'G', 'GE']\n"
          ]
        }
      ],
      "source": [
        "stocks = ['AAPL','GOOG','IBM','FB','F','V', 'G', 'GE']\n",
        "selected = ['AAPL','IBM']\n",
        "new_list = []\n",
        "for stock in stocks:\n",
        "    if stock not in selected:\n",
        "        new_list.append(stock)\n",
        "print(new_list)"
      ]
    },
    {
      "cell_type": "code",
      "execution_count": null,
      "metadata": {
        "colab": {
          "base_uri": "https://localhost:8080/"
        },
        "id": "5NG0eVPAwmVV",
        "outputId": "f27a446e-d347-4f4d-8d37-b5f0c8646673"
      },
      "outputs": [
        {
          "name": "stdout",
          "output_type": "stream",
          "text": [
            "0\n",
            "El número es par\n",
            "1\n",
            "El número es impar\n",
            "2\n",
            "El número es par\n",
            "3\n",
            "El número es impar\n",
            "4\n",
            "El número es par\n",
            "5\n",
            "El número es impar\n",
            "6\n",
            "El número es par\n",
            "7\n",
            "El número es impar\n",
            "8\n",
            "El número es par\n",
            "9\n",
            "El número es impar\n",
            "10\n",
            "El número es par\n"
          ]
        }
      ],
      "source": [
        "numbers = [0, 1, 2, 3, 4, 5, 6, 7, 8, 9, 10]\n",
        "\n",
        "for n in numbers:\n",
        "  print(n)\n",
        "  if n % 2 == 0:\n",
        "    print('El número es par')\n",
        "  else:\n",
        "    print('El número es impar')"
      ]
    },
    {
      "cell_type": "markdown",
      "metadata": {
        "id": "5XeG0_y4w-vx"
      },
      "source": [
        "**Break and continue**\n",
        "\n",
        "These are two commonly used commands in a for loop. If \"break\" is triggered while a loop is executing, the loop will terminate immediately: "
      ]
    },
    {
      "cell_type": "code",
      "execution_count": null,
      "metadata": {
        "colab": {
          "base_uri": "https://localhost:8080/"
        },
        "id": "3gNw4hBOxBkS",
        "outputId": "c2d08528-6607-4307-849f-0d55f94ebad6"
      },
      "outputs": [
        {
          "name": "stdout",
          "output_type": "stream",
          "text": [
            "AAPL\n",
            "GOOG\n",
            "IBM\n",
            "FB\n"
          ]
        }
      ],
      "source": [
        "stocks = ['AAPL','GOOG','IBM','FB','F','V', 'G', 'GE']\n",
        "for stock in stocks:\n",
        "    print(stock)\n",
        "    if stock == 'FB': break"
      ]
    },
    {
      "cell_type": "code",
      "execution_count": null,
      "metadata": {
        "colab": {
          "base_uri": "https://localhost:8080/"
        },
        "id": "jwWqBK0ixLUM",
        "outputId": "5af084ee-bf26-436c-85fb-0c6c1d4bf478"
      },
      "outputs": [
        {
          "name": "stdout",
          "output_type": "stream",
          "text": [
            "1\n",
            "2\n",
            "3\n",
            "4\n"
          ]
        }
      ],
      "source": [
        "numbers = [1, 2, 3, 4, 5, 6, 7, 8, 9, 10]\n",
        "\n",
        "for n in numbers:\n",
        "  print(n)\n",
        "  if n % 4 == 0:\n",
        "    break"
      ]
    },
    {
      "cell_type": "markdown",
      "metadata": {
        "id": "PudRlBX3xthC"
      },
      "source": [
        "The \"continue\" command tells the loop to end this iteration and skip to the next iteration: "
      ]
    },
    {
      "cell_type": "code",
      "execution_count": null,
      "metadata": {
        "colab": {
          "base_uri": "https://localhost:8080/"
        },
        "id": "n1SUfWETxslC",
        "outputId": "1c0b9363-dc71-4bc6-f7a2-5d7abb97023c"
      },
      "outputs": [
        {
          "name": "stdout",
          "output_type": "stream",
          "text": [
            "AAPL\n",
            "GOOG\n",
            "IBM\n",
            "F\n",
            "V\n",
            "G\n",
            "GE\n"
          ]
        }
      ],
      "source": [
        "stocks = ['AAPL','GOOG','IBM','FB','F','V', 'G', 'GE']\n",
        "for stock in stocks:\n",
        "    if stock == 'FB': continue\n",
        "    print(stock)"
      ]
    },
    {
      "cell_type": "code",
      "execution_count": null,
      "metadata": {
        "colab": {
          "base_uri": "https://localhost:8080/"
        },
        "id": "d19f2OtLxfCV",
        "outputId": "d019341b-b114-436d-a326-5a57b663d516"
      },
      "outputs": [
        {
          "name": "stdout",
          "output_type": "stream",
          "text": [
            "1\n",
            "2\n",
            "3\n",
            "4\n",
            "5\n",
            "6\n",
            "7\n",
            "9\n",
            "10\n"
          ]
        }
      ],
      "source": [
        "numbers = [1, 2, 3, 4, 5, 6, 7, 8, 9, 10]\n",
        "\n",
        "for n in numbers:\n",
        "  if n % 8 == 0:\n",
        "    continue\n",
        "  print(n)"
      ]
    },
    {
      "cell_type": "markdown",
      "metadata": {
        "id": "C0JrY6zhx9sC"
      },
      "source": [
        "**List Comprehension**\n",
        "\n",
        "List comprehension is a Pythonic way to create lists. Common applications are to make new lists where each element is the result of some operations applied to each member of another sequence. For example, if we want to create a list of squares using for loop: "
      ]
    },
    {
      "cell_type": "code",
      "execution_count": null,
      "metadata": {
        "colab": {
          "base_uri": "https://localhost:8080/"
        },
        "id": "f1SBpXN3yFXN",
        "outputId": "15fc6755-5419-4142-f24d-5f7600f2e803"
      },
      "outputs": [
        {
          "name": "stdout",
          "output_type": "stream",
          "text": [
            "[1, 4, 9, 16, 25]\n"
          ]
        }
      ],
      "source": [
        "squares = []\n",
        "for i in [1,2,3,4,5]:\n",
        "    squares.append(i**2)\n",
        "print(squares)"
      ]
    },
    {
      "cell_type": "code",
      "execution_count": null,
      "metadata": {
        "colab": {
          "base_uri": "https://localhost:8080/"
        },
        "id": "X8zWXsXCyQV3",
        "outputId": "86702392-64c8-4b4a-9137-693b063771d7"
      },
      "outputs": [
        {
          "name": "stdout",
          "output_type": "stream",
          "text": [
            "[5, 10, 15, 20, 25, 30, 35, 40, 45, 50]\n"
          ]
        }
      ],
      "source": [
        "m5 = []\n",
        "for x in [1, 2, 3, 4, 5, 6, 7, 8, 9, 10]:\n",
        "  m5.append(x*5)\n",
        "\n",
        "print(m5)"
      ]
    },
    {
      "cell_type": "markdown",
      "metadata": {
        "id": "vmxkbiaoyn71"
      },
      "source": [
        " Using list comprehension: "
      ]
    },
    {
      "cell_type": "code",
      "execution_count": null,
      "metadata": {
        "colab": {
          "base_uri": "https://localhost:8080/"
        },
        "id": "sDLZB5D4ynoG",
        "outputId": "00e8df7d-c298-4aa4-a1ad-2d82dddcfcab"
      },
      "outputs": [
        {
          "name": "stdout",
          "output_type": "stream",
          "text": [
            "[1, 4, 9, 16, 25]\n"
          ]
        }
      ],
      "source": [
        "foo = [1,2,3,4,5]\n",
        "squares = [x**2 for x in foo]\n",
        "print(squares)"
      ]
    },
    {
      "cell_type": "code",
      "execution_count": null,
      "metadata": {
        "colab": {
          "base_uri": "https://localhost:8080/"
        },
        "id": "qrin9TfdywDq",
        "outputId": "d92d4282-4f92-4d2c-dd34-5f628255185a"
      },
      "outputs": [
        {
          "name": "stdout",
          "output_type": "stream",
          "text": [
            "[5, 10, 15, 20, 25, 30, 35, 40, 45, 50]\n"
          ]
        }
      ],
      "source": [
        "numbers = [1, 2, 3, 4, 5, 6, 7, 8, 9, 10]\n",
        "m5 = [x*5 for x in numbers]\n",
        "print(m5)"
      ]
    },
    {
      "cell_type": "markdown",
      "metadata": {
        "id": "vlre3Qzny_ur"
      },
      "source": [
        "Recall the example above where we used a for loop to select stocks. Here we use list comprehension: "
      ]
    },
    {
      "cell_type": "code",
      "execution_count": null,
      "metadata": {
        "colab": {
          "base_uri": "https://localhost:8080/"
        },
        "id": "vN4bzZeDzEr0",
        "outputId": "a34e5590-5eea-4e69-d971-a305ac3e43bd"
      },
      "outputs": [
        {
          "name": "stdout",
          "output_type": "stream",
          "text": [
            "['GOOG', 'FB', 'F', 'V', 'G', 'GE']\n"
          ]
        }
      ],
      "source": [
        "stocks = ['AAPL','GOOG','IBM','FB','F','V', 'G', 'GE']\n",
        "selected = ['AAPL','IBM']\n",
        "new_list = [x for x in stocks if x not in selected]\n",
        "print(new_list)"
      ]
    },
    {
      "cell_type": "code",
      "execution_count": null,
      "metadata": {
        "colab": {
          "base_uri": "https://localhost:8080/"
        },
        "id": "RsrFuF-ezRtw",
        "outputId": "8e7d9756-cf33-4dbb-9543-339261a75821"
      },
      "outputs": [
        {
          "name": "stdout",
          "output_type": "stream",
          "text": [
            "[2, 4, 6, 8, 10]\n"
          ]
        }
      ],
      "source": [
        "numbers = [1, 2, 3, 4, 5, 6, 7, 8, 9, 10]\n",
        "even = [x for x in numbers if x % 2 == 0]\n",
        "print(even)"
      ]
    },
    {
      "cell_type": "markdown",
      "metadata": {
        "id": "m9HltddDzmjr"
      },
      "source": [
        "A list comprehension consists of square brackets containing an expression followed by a \"for\" clause, and possibly \"for\" or \"if\" clauses. For example: "
      ]
    },
    {
      "cell_type": "code",
      "execution_count": null,
      "metadata": {
        "colab": {
          "base_uri": "https://localhost:8080/"
        },
        "id": "wdG_2hTnznjI",
        "outputId": "c6c744af-e782-4ef4-ca1d-a787ba3dd9c8"
      },
      "outputs": [
        {
          "name": "stdout",
          "output_type": "stream",
          "text": [
            "[(1, 3), (1, 4), (2, 3), (2, 1), (2, 4), (3, 1), (3, 4)]\n",
            "['AAPL vs F', 'AAPL vs V', 'AAPL vs G', 'AAPL vs GE', 'GOOG vs F', 'GOOG vs V', 'GOOG vs G', 'GOOG vs GE', 'IBM vs F', 'IBM vs V', 'IBM vs G', 'IBM vs GE', 'FB vs F', 'FB vs V', 'FB vs G', 'FB vs GE']\n"
          ]
        }
      ],
      "source": [
        "print([(x, y) for x in [1,2,3] for y in [3,1,4] if x != y])\n",
        "print([str(x) + ' vs ' + str(y) for x in ['AAPL','GOOG','IBM','FB'] for y in ['F','V','G','GE'] if x != y])"
      ]
    },
    {
      "cell_type": "code",
      "execution_count": null,
      "metadata": {
        "colab": {
          "base_uri": "https://localhost:8080/"
        },
        "id": "7MkqOD8Kzy8i",
        "outputId": "1cfae15c-66a7-427a-f882-35a9b02573aa"
      },
      "outputs": [
        {
          "name": "stdout",
          "output_type": "stream",
          "text": [
            "[('Azul', 'Amarillo'), ('Azul', 'Rojo'), ('Azul', 'Verde'), ('Rojo', 'Amarillo'), ('Rojo', 'Azul'), ('Rojo', 'Verde'), ('Amarillo', 'Rojo'), ('Amarillo', 'Azul'), ('Amarillo', 'Verde')]\n",
            "['CO vs US', 'CO vs UK', 'CO vs MX', 'CO vs BR', 'CO vs LD', 'AR vs US', 'AR vs UK', 'AR vs MX', 'AR vs BR', 'AR vs LD', 'UK vs US', 'UK vs MX', 'UK vs BR', 'UK vs LD', 'US vs UK', 'US vs MX', 'US vs BR', 'US vs LD', 'MX vs US', 'MX vs UK', 'MX vs BR', 'MX vs LD']\n"
          ]
        }
      ],
      "source": [
        "print([(x, y) for x in ['Azul', 'Rojo', 'Amarillo'] for y in ['Amarillo', 'Rojo', 'Azul', 'Verde'] if x != y])\n",
        "print([str(x) + ' vs ' + str(y) for x in ['CO','AR','UK','US', 'MX'] for y in ['US','UK','MX','BR', 'LD'] if x != y])"
      ]
    },
    {
      "cell_type": "markdown",
      "metadata": {
        "id": "e00WN70H0nEs"
      },
      "source": [
        "# Functions and Objective-Oriented Programming\n",
        "\n",
        "**Functions**\n",
        "\n",
        "A function is a reusable block of code. We can use a function to output a value, or do anything else we want. We can easily define our own function by using the keyword \"def\". "
      ]
    },
    {
      "cell_type": "code",
      "execution_count": null,
      "metadata": {
        "colab": {
          "base_uri": "https://localhost:8080/"
        },
        "id": "cV0Ld88b06CM",
        "outputId": "9e995521-8986-46f6-8939-457e741d640d"
      },
      "outputs": [
        {
          "name": "stdout",
          "output_type": "stream",
          "text": [
            "6\n",
            "50\n"
          ]
        }
      ],
      "source": [
        "def product(x,y):\n",
        "    return x*y\n",
        "print(product(2,3))\n",
        "print(product(5,10))"
      ]
    },
    {
      "cell_type": "code",
      "execution_count": null,
      "metadata": {
        "colab": {
          "base_uri": "https://localhost:8080/"
        },
        "id": "j5l42Ec_1A7C",
        "outputId": "f5274381-7538-48d4-e5ad-05626426d524"
      },
      "outputs": [
        {
          "name": "stdout",
          "output_type": "stream",
          "text": [
            "25\n",
            "144\n"
          ]
        }
      ],
      "source": [
        "def square(n):\n",
        "  return n**2\n",
        "\n",
        "print(square(5))\n",
        "print(square(12))"
      ]
    },
    {
      "cell_type": "markdown",
      "metadata": {
        "id": "NhgkP96z1R-C"
      },
      "source": [
        "The keyword \"def\" is followed by the function name and the parenthesized list of formal parameters. The statements that form the body of the function start at the next line, and must be indented. The product() function above has \"x\" and \"y\" as its parameters. A function doesn't necessarily have parameters: "
      ]
    },
    {
      "cell_type": "code",
      "execution_count": null,
      "metadata": {
        "colab": {
          "base_uri": "https://localhost:8080/"
        },
        "id": "uTvuNUyA1amS",
        "outputId": "f6dd9ae5-38eb-4377-f441-7f1b1a725008"
      },
      "outputs": [
        {
          "name": "stdout",
          "output_type": "stream",
          "text": [
            "Welcome to QuantConnect\n"
          ]
        }
      ],
      "source": [
        "def say_hi():\n",
        "    print(\"Welcome to QuantConnect\")\n",
        "\n",
        "say_hi()"
      ]
    },
    {
      "cell_type": "code",
      "execution_count": null,
      "metadata": {
        "colab": {
          "base_uri": "https://localhost:8080/"
        },
        "id": "OAXg1-H91jyu",
        "outputId": "511e7940-3f9a-410f-bc5e-330816f4c1ba"
      },
      "outputs": [
        {
          "name": "stdout",
          "output_type": "stream",
          "text": [
            "Your fav number is 8\n"
          ]
        }
      ],
      "source": [
        "def fav_number():\n",
        "    print('Your fav number is 8')\n",
        "\n",
        "fav_number()"
      ]
    },
    {
      "cell_type": "markdown",
      "metadata": {
        "id": "MMpA3aBa1-pz"
      },
      "source": [
        "**Built-in Function**\n",
        "\n",
        "range() is a function that creates a list containing an arithmetic sequence. It's often used in for loops. The arguments must be integers. If the \"step\" argument is omitted, it defaults to 1. "
      ]
    },
    {
      "cell_type": "code",
      "execution_count": null,
      "metadata": {
        "colab": {
          "base_uri": "https://localhost:8080/"
        },
        "id": "7JHH88BB2OQ1",
        "outputId": "2195bd95-39e8-4499-9a30-6ee049050497"
      },
      "outputs": [
        {
          "name": "stdout",
          "output_type": "stream",
          "text": [
            "0 1 2 3 4 5 6 7 8 9\n",
            "1 2 3 4 5 6 7 8 9 10\n",
            "1 3 5 7 9\n"
          ]
        }
      ],
      "source": [
        "print(*range(10))\n",
        "\n",
        "print(*range(1, 11))\n",
        "\n",
        "print(*range(1, 11, 2))"
      ]
    },
    {
      "cell_type": "code",
      "execution_count": null,
      "metadata": {
        "colab": {
          "base_uri": "https://localhost:8080/"
        },
        "id": "B7Kxn1vg2kqd",
        "outputId": "16491202-7443-4fb8-a7c7-8d2d694f0063"
      },
      "outputs": [
        {
          "name": "stdout",
          "output_type": "stream",
          "text": [
            "0 1 2 3 4 5 6 7 8 9 10 11 12 13 14 15 16 17 18 19 20 21\n",
            "10 11 12 13 14 15 16 17\n",
            "-30 -25 -20 -15 -10 -5 0 5 10 15\n"
          ]
        }
      ],
      "source": [
        "print(*range(22))\n",
        "\n",
        "print(*range(10, 18))\n",
        "\n",
        "print(*range(-30, 20, 5))"
      ]
    },
    {
      "cell_type": "markdown",
      "metadata": {
        "id": "27HT7ArF3L4_"
      },
      "source": [
        "**len()** is another function used together with range() to create a for loop. This function returns the length of an object. The argument must be a sequence or a collection. "
      ]
    },
    {
      "cell_type": "code",
      "execution_count": null,
      "metadata": {
        "colab": {
          "base_uri": "https://localhost:8080/"
        },
        "id": "bjAUbTAJ3ORq",
        "outputId": "007910cc-dccb-439c-8bb3-be39f1c52884"
      },
      "outputs": [
        {
          "name": "stdout",
          "output_type": "stream",
          "text": [
            "The number of tickers is 8\n",
            "1 AAPL\n",
            "2 GOOGL\n",
            "3 IBM\n",
            "4 FB\n",
            "5 F\n",
            "6 V\n",
            "7 G\n",
            "8 GE\n"
          ]
        }
      ],
      "source": [
        "tickers = ['AAPL', 'GOOGL', 'IBM', 'FB', 'F', 'V', 'G', 'GE']\n",
        "print(\"The number of tickers is {}\".format(len(tickers)))\n",
        "for k in range(len(tickers)):\n",
        "    print(k + 1, tickers[k])"
      ]
    },
    {
      "cell_type": "code",
      "execution_count": null,
      "metadata": {
        "colab": {
          "base_uri": "https://localhost:8080/"
        },
        "id": "7q6BkQHj3axY",
        "outputId": "93cb8926-3fa2-4920-b7a5-56d2800a32c3"
      },
      "outputs": [
        {
          "name": "stdout",
          "output_type": "stream",
          "text": [
            "Hay 5 paises participantes\n",
            "El número 1 corresponde a UK\n",
            "El número 2 corresponde a US\n",
            "El número 3 corresponde a CA\n",
            "El número 4 corresponde a MX\n",
            "El número 5 corresponde a FR\n"
          ]
        }
      ],
      "source": [
        "ct = ['UK', 'US', 'CA', 'MX', 'FR']\n",
        "print(\"Hay {} paises participantes\".format(len(ct)))\n",
        "for c in range(len(ct)):\n",
        "  print(\"El número %d corresponde a %s\" % (c+1, ct[c]))"
      ]
    },
    {
      "cell_type": "markdown",
      "metadata": {
        "id": "yDkIZ8Vi4rzS"
      },
      "source": [
        "**map()** is a function that applies a specific function to every item of a sequence or collection, and returns a list of the results. "
      ]
    },
    {
      "cell_type": "code",
      "execution_count": null,
      "metadata": {
        "colab": {
          "base_uri": "https://localhost:8080/"
        },
        "id": "tFuMcgK94vyQ",
        "outputId": "cb58881d-aa78-4ae8-e2c1-d63c37097848"
      },
      "outputs": [
        {
          "name": "stdout",
          "output_type": "stream",
          "text": [
            "[4, 4, 3, 2, 1, 1, 1, 2]\n"
          ]
        }
      ],
      "source": [
        "tickers = ['AAPL','GOOG','IBM','FB','F','V', 'G', 'GE']\n",
        "print(list(map(len,tickers)))"
      ]
    },
    {
      "cell_type": "code",
      "execution_count": null,
      "metadata": {
        "colab": {
          "base_uri": "https://localhost:8080/"
        },
        "id": "NTaZc7iQ5M4k",
        "outputId": "0d7063aa-a9ff-43b6-b937-9a02ccced618"
      },
      "outputs": [
        {
          "name": "stdout",
          "output_type": "stream",
          "text": [
            "[2.0, 4.0, 5.0, 8.0, 12.0]\n"
          ]
        }
      ],
      "source": [
        "integers = [2, 4, 5, 8, 12]\n",
        "print(list(map(float, integers)))"
      ]
    },
    {
      "cell_type": "markdown",
      "metadata": {
        "id": "eL-F7x155ahV"
      },
      "source": [
        "The lambda operator is a way to create small anonymous functions. These functions are just needed where they have been created. For example:"
      ]
    },
    {
      "cell_type": "code",
      "execution_count": null,
      "metadata": {
        "colab": {
          "base_uri": "https://localhost:8080/"
        },
        "id": "5an7_Nl75dt9",
        "outputId": "ee170a18-8506-49d1-edf3-9bf7a760081f"
      },
      "outputs": [
        {
          "name": "stdout",
          "output_type": "stream",
          "text": [
            "[0, 1, 4, 9, 16, 25, 36, 49, 64, 81]\n"
          ]
        }
      ],
      "source": [
        "print(list(map(lambda x: x**2, range(10))))"
      ]
    },
    {
      "cell_type": "code",
      "execution_count": null,
      "metadata": {
        "colab": {
          "base_uri": "https://localhost:8080/"
        },
        "id": "4ZUHqoSi5eqo",
        "outputId": "d7416563-4857-4250-b1bf-3fdcf234a81d"
      },
      "outputs": [
        {
          "name": "stdout",
          "output_type": "stream",
          "text": [
            "[1, 2, 3, 4, 5, 6, 7, 8, 9, 10]\n"
          ]
        }
      ],
      "source": [
        "print(list(map(lambda x: x+1, range(10))))"
      ]
    },
    {
      "cell_type": "markdown",
      "metadata": {
        "id": "zcdjaQXZ5uEs"
      },
      "source": [
        "map() can be applied to more than one list. The lists have to have the same length. "
      ]
    },
    {
      "cell_type": "code",
      "execution_count": null,
      "metadata": {
        "colab": {
          "base_uri": "https://localhost:8080/"
        },
        "id": "pjd20bD15vhz",
        "outputId": "930af8df-fd34-4e95-e56e-cf055edad724"
      },
      "outputs": [
        {
          "name": "stdout",
          "output_type": "stream",
          "text": [
            "[6, 6, 6, 6, 6]\n"
          ]
        }
      ],
      "source": [
        "print(list(map(lambda x, y: x+y, [1,2,3,4,5], [5,4,3,2,1])))"
      ]
    },
    {
      "cell_type": "code",
      "execution_count": null,
      "metadata": {
        "colab": {
          "base_uri": "https://localhost:8080/"
        },
        "id": "RwtjMQYS5x8V",
        "outputId": "0482b302-3e20-4410-d29f-76e810e4e000"
      },
      "outputs": [
        {
          "name": "stdout",
          "output_type": "stream",
          "text": [
            "[1, 128, 729, 1024, 625]\n"
          ]
        }
      ],
      "source": [
        "print(list(map(lambda x, y: x**y, [1,2,3,4,5], [8,7,6,5,4])))"
      ]
    },
    {
      "cell_type": "markdown",
      "metadata": {
        "id": "EP9MCq7d6Hjn"
      },
      "source": [
        " sorted() takes a list or set and returns a new sorted list: "
      ]
    },
    {
      "cell_type": "code",
      "execution_count": null,
      "metadata": {
        "colab": {
          "base_uri": "https://localhost:8080/"
        },
        "id": "8j8r0y9P6J-D",
        "outputId": "38bfcb64-eb2c-4887-c290-7dbc1209092c"
      },
      "outputs": [
        {
          "data": {
            "text/plain": [
              "[1, 2, 3, 4, 5]"
            ]
          },
          "execution_count": 131,
          "metadata": {},
          "output_type": "execute_result"
        }
      ],
      "source": [
        "sorted([5,2,3,4,1])"
      ]
    },
    {
      "cell_type": "code",
      "execution_count": null,
      "metadata": {
        "colab": {
          "base_uri": "https://localhost:8080/"
        },
        "id": "bkiZHavw6MGQ",
        "outputId": "33ec10ff-6376-4fb0-f8ec-84fadf98b23e"
      },
      "outputs": [
        {
          "data": {
            "text/plain": [
              "['A', 'B', 'D', 'F', 'L', 'Z']"
            ]
          },
          "execution_count": 132,
          "metadata": {},
          "output_type": "execute_result"
        }
      ],
      "source": [
        "sorted(['B','A','D','F','Z', 'L'])"
      ]
    },
    {
      "cell_type": "markdown",
      "metadata": {
        "id": "cNp5Rl2V6n1f"
      },
      "source": [
        "We can add a \"key\" parameter to specify a function to be called on each list element prior to making comparisons. For example: "
      ]
    },
    {
      "cell_type": "code",
      "execution_count": null,
      "metadata": {
        "colab": {
          "base_uri": "https://localhost:8080/"
        },
        "id": "hDvGPynx6pDi",
        "outputId": "8cc371ff-98fb-4e1a-ecce-cbbb48f8461d"
      },
      "outputs": [
        {
          "data": {
            "text/plain": [
              "[('MSFT', 69),\n",
              " ('WMT', 75.32),\n",
              " ('AAPL', 144.09),\n",
              " ('FB', 150),\n",
              " ('GOOGL', 911.71)]"
            ]
          },
          "execution_count": 133,
          "metadata": {},
          "output_type": "execute_result"
        }
      ],
      "source": [
        "price_list = [('AAPL', 144.09), ('GOOGL', 911.71), ('MSFT', 69), ('FB', 150), ('WMT', 75.32)]\n",
        "sorted(price_list, key = lambda x: x[1])"
      ]
    },
    {
      "cell_type": "code",
      "execution_count": null,
      "metadata": {
        "colab": {
          "base_uri": "https://localhost:8080/"
        },
        "id": "aJLl0C2A67mW",
        "outputId": "7c796e51-05e0-4cd9-e1e2-ab1557474342"
      },
      "outputs": [
        {
          "data": {
            "text/plain": [
              "[('A', 90), ('H', 65), ('J', 2), ('Z', 5)]"
            ]
          },
          "execution_count": 136,
          "metadata": {},
          "output_type": "execute_result"
        }
      ],
      "source": [
        "clist = [('A', 90), ('Z', 5), ('H', 65), ('J', 2)]\n",
        "sorted(clist, key = lambda x: x[0])"
      ]
    },
    {
      "cell_type": "markdown",
      "metadata": {
        "id": "HOcAGc-u7WRT"
      },
      "source": [
        "By default the values are sorted by ascending order. We can change it to descending by adding an optional parameter \"reverse'. "
      ]
    },
    {
      "cell_type": "code",
      "execution_count": null,
      "metadata": {
        "colab": {
          "base_uri": "https://localhost:8080/"
        },
        "id": "VpXPginE7Xjn",
        "outputId": "0d6a6969-a526-4a92-b5bf-a6d580369edf"
      },
      "outputs": [
        {
          "data": {
            "text/plain": [
              "[('GOOGL', 911.71),\n",
              " ('FB', 150),\n",
              " ('AAPL', 144.09),\n",
              " ('WMT', 75.32),\n",
              " ('MSFT', 69)]"
            ]
          },
          "execution_count": 137,
          "metadata": {},
          "output_type": "execute_result"
        }
      ],
      "source": [
        "price_list = [('AAPL', 144.09), ('GOOGL', 911.71), ('MSFT', 69), ('FB', 150), ('WMT', 75.32)]\n",
        "sorted(price_list, key = lambda x: x[1], reverse = True)"
      ]
    },
    {
      "cell_type": "code",
      "execution_count": null,
      "metadata": {
        "colab": {
          "base_uri": "https://localhost:8080/"
        },
        "id": "C9xPuofm7g4i",
        "outputId": "ac2a07d5-6362-4dec-842d-9142e1d17922"
      },
      "outputs": [
        {
          "data": {
            "text/plain": [
              "[('A', 90), ('H', 65), ('Z', 5), ('J', 2)]"
            ]
          },
          "execution_count": 138,
          "metadata": {},
          "output_type": "execute_result"
        }
      ],
      "source": [
        "clist = [('A', 90), ('Z', 5), ('H', 65), ('J', 2)]\n",
        "sorted(clist, key = lambda x: x[1], reverse = True)"
      ]
    },
    {
      "cell_type": "markdown",
      "metadata": {
        "id": "USrLVSgL7qAK"
      },
      "source": [
        "Lists also have a function list.sort(). This function takes the same \"key\" and \"reverse\" arguments as sorted(), but it doesn't return a new list. "
      ]
    },
    {
      "cell_type": "code",
      "execution_count": null,
      "metadata": {
        "colab": {
          "base_uri": "https://localhost:8080/"
        },
        "id": "PPSP7RHF7tGB",
        "outputId": "6c4b6465-4162-4925-92c7-bad5f09f5f60"
      },
      "outputs": [
        {
          "name": "stdout",
          "output_type": "stream",
          "text": [
            "[('MSFT', 69), ('WMT', 75.32), ('AAPL', 144.09), ('FB', 150), ('GOOGL', 911.71)]\n"
          ]
        }
      ],
      "source": [
        "price_list = [('AAPL', 144.09), ('GOOGL', 911.71), ('MSFT', 69), ('FB', 150), ('WMT', 75.32)]\n",
        "price_list.sort(key = lambda x: x[1])\n",
        "print(price_list)"
      ]
    },
    {
      "cell_type": "code",
      "execution_count": null,
      "metadata": {
        "colab": {
          "base_uri": "https://localhost:8080/"
        },
        "id": "L5zYR2Ka7yKD",
        "outputId": "90bbe38f-6112-4e4c-88cb-23a5f748f942"
      },
      "outputs": [
        {
          "name": "stdout",
          "output_type": "stream",
          "text": [
            "[('Z', 5), ('J', 2), ('H', 65), ('A', 90)]\n"
          ]
        }
      ],
      "source": [
        "clist = [('A', 90), ('Z', 5), ('H', 65), ('J', 2)]\n",
        "clist.sort(key = lambda x: x[0], reverse = True)\n",
        "print(clist)"
      ]
    },
    {
      "cell_type": "markdown",
      "metadata": {
        "id": "0DmERJSK8IqU"
      },
      "source": [
        "**Object-Oriented Programming**\n",
        "\n",
        "Python is an object-oriented programming language. It's important to understand the concept of \"objects\" because almost every kind of data from QuantConnect API is an object.\n",
        "\n",
        "**Class**\n",
        "\n",
        "A class is a type of data, just like a string, float, or list. When we create an object of that data type, we call it an instance of a class.\n",
        "\n",
        "In Python, everything is an object - everything is an instance of some class. The data stored inside an object are called attributes, and the functions which are associated with the object are called methods.\n",
        "\n",
        "For example, as mentioned above, a list is an object of the \"list\" class, and it has a method list.sort().\n",
        "\n",
        "We can create our own objects by defining a class. We would do this when it's helpful to group certain functions together. For example, we define a class named \"Stock\" here: "
      ]
    },
    {
      "cell_type": "code",
      "execution_count": null,
      "metadata": {
        "id": "Vi2N8xMM8MsY"
      },
      "outputs": [],
      "source": [
        "class Stock:\n",
        "    def __init__(self, ticker, open, close, volume):\n",
        "        self.ticker = ticker\n",
        "        self.open = open\n",
        "        self.close = close\n",
        "        self.volume = volume\n",
        "        self.rate_return = float(close)/open - 1\n",
        "\n",
        "    def update(self, open, close):\n",
        "        self.open = open\n",
        "        self.close = close\n",
        "        self.rate_return = float(self.close)/self.open - 1\n",
        "\n",
        "    def print_return(self):\n",
        "        print(self.rate_return)"
      ]
    },
    {
      "cell_type": "code",
      "execution_count": null,
      "metadata": {
        "id": "uPKfwK4Xc6yZ"
      },
      "outputs": [],
      "source": [
        "class Animal:\n",
        "  def __init__(self, kingdom, genus, specie, extinct):\n",
        "    self.kingdom = kingdom\n",
        "    self.genus = genus\n",
        "    self.specie = specie\n",
        "    self.extinct = extinct\n",
        "    self.full_name = genus + \" \" + specie\n",
        "\n",
        "  def setExtinct(self, extinct):\n",
        "    self.extinct = extinct\n",
        "\n",
        "  def getFullName(self):\n",
        "    return self.full_name\n",
        "  \n",
        "  def getExtinct(self):\n",
        "    if self.extinct:\n",
        "      print(\"Extinct\")\n",
        "    else:\n",
        "      print(\"No Extinct\")"
      ]
    },
    {
      "cell_type": "markdown",
      "metadata": {
        "id": "hZEtaFRTf-BN"
      },
      "source": [
        "Here we create two Stock objects named \"apple\" and \"google\"."
      ]
    },
    {
      "cell_type": "code",
      "execution_count": null,
      "metadata": {
        "id": "ryiiGXkFf_JU"
      },
      "outputs": [],
      "source": [
        "apple  = Stock('AAPL', 143.69, 144.09, 20109375)\n",
        "google = Stock('GOOGL', 898.7, 911.7, 1561616)"
      ]
    },
    {
      "cell_type": "code",
      "execution_count": null,
      "metadata": {
        "id": "kaYXaXUqgGux"
      },
      "outputs": [],
      "source": [
        "lion = Animal(\"Animalia\", \"Panthera\", \"Leo\", False)\n",
        "dodo = Animal(\"Animalia\", \"Raphus\", \"Cucullatus\", True)"
      ]
    },
    {
      "cell_type": "markdown",
      "metadata": {
        "id": "9L9Vfd2CgsYf"
      },
      "source": [
        "Stock objects also have two other methods: update() and print_return(). We can access the attribues of a Stock object and call its methods:"
      ]
    },
    {
      "cell_type": "code",
      "execution_count": null,
      "metadata": {
        "colab": {
          "base_uri": "https://localhost:8080/"
        },
        "id": "C5x2efgfgtLs",
        "outputId": "2fe16363-e966-44d0-9e45-1036772beefa"
      },
      "outputs": [
        {
          "name": "stdout",
          "output_type": "stream",
          "text": [
            "AAPL\n",
            "0.014465338822744034\n",
            "0.0006573181419806673\n"
          ]
        }
      ],
      "source": [
        "print(apple.ticker)\n",
        "google.print_return()\n",
        "\n",
        "google.update(912.8,913.4)\n",
        "google.print_return()"
      ]
    },
    {
      "cell_type": "code",
      "execution_count": null,
      "metadata": {
        "colab": {
          "base_uri": "https://localhost:8080/"
        },
        "id": "5NEBAsLRg5Q1",
        "outputId": "22ce0e94-05bc-4840-8499-e91c36109841"
      },
      "outputs": [
        {
          "name": "stdout",
          "output_type": "stream",
          "text": [
            "Animalia\n",
            "Panthera Leo\n",
            "No Extinct\n"
          ]
        }
      ],
      "source": [
        "print(dodo.kingdom)\n",
        "print(lion.getFullName())\n",
        "\n",
        "dodo.setExtinct(False)\n",
        "dodo.getExtinct()"
      ]
    },
    {
      "cell_type": "markdown",
      "metadata": {
        "id": "v5d3EI9Oh36N"
      },
      "source": [
        "We can add an attribute to an object anywhere:"
      ]
    },
    {
      "cell_type": "code",
      "execution_count": null,
      "metadata": {
        "colab": {
          "base_uri": "https://localhost:8080/",
          "height": 35
        },
        "id": "CCOh3FhSh3Aq",
        "outputId": "e6f781a4-7059-47cc-f90a-a459e87991cf"
      },
      "outputs": [
        {
          "data": {
            "application/vnd.google.colaboratory.intrinsic+json": {
              "type": "string"
            },
            "text/plain": [
              "'Tim Cook'"
            ]
          },
          "execution_count": 22,
          "metadata": {},
          "output_type": "execute_result"
        }
      ],
      "source": [
        "apple.ceo = 'Tim Cook'\n",
        "apple.ceo"
      ]
    },
    {
      "cell_type": "code",
      "execution_count": null,
      "metadata": {
        "colab": {
          "base_uri": "https://localhost:8080/",
          "height": 35
        },
        "id": "KfQ3atPWiBQX",
        "outputId": "6f65f14d-d99b-4bf6-d963-a7f226fa8928"
      },
      "outputs": [
        {
          "data": {
            "application/vnd.google.colaboratory.intrinsic+json": {
              "type": "string"
            },
            "text/plain": [
              "'Air'"
            ]
          },
          "execution_count": 23,
          "metadata": {},
          "output_type": "execute_result"
        }
      ],
      "source": [
        "dodo.habitat = \"Air\"\n",
        "dodo.habitat"
      ]
    },
    {
      "cell_type": "markdown",
      "metadata": {
        "id": "DiN3K2rniM4Z"
      },
      "source": [
        "We can check what names (i.e. attributes and methods) are defined on an object using the dir() function:"
      ]
    },
    {
      "cell_type": "code",
      "execution_count": null,
      "metadata": {
        "colab": {
          "base_uri": "https://localhost:8080/"
        },
        "id": "0CEjURldiQHS",
        "outputId": "f58ae7e8-895b-4ec0-8b69-de43a16129bf"
      },
      "outputs": [
        {
          "data": {
            "text/plain": [
              "['__class__',\n",
              " '__delattr__',\n",
              " '__dict__',\n",
              " '__dir__',\n",
              " '__doc__',\n",
              " '__eq__',\n",
              " '__format__',\n",
              " '__ge__',\n",
              " '__getattribute__',\n",
              " '__gt__',\n",
              " '__hash__',\n",
              " '__init__',\n",
              " '__init_subclass__',\n",
              " '__le__',\n",
              " '__lt__',\n",
              " '__module__',\n",
              " '__ne__',\n",
              " '__new__',\n",
              " '__reduce__',\n",
              " '__reduce_ex__',\n",
              " '__repr__',\n",
              " '__setattr__',\n",
              " '__sizeof__',\n",
              " '__str__',\n",
              " '__subclasshook__',\n",
              " '__weakref__',\n",
              " 'ceo',\n",
              " 'close',\n",
              " 'open',\n",
              " 'print_return',\n",
              " 'rate_return',\n",
              " 'ticker',\n",
              " 'update',\n",
              " 'volume']"
            ]
          },
          "execution_count": 24,
          "metadata": {},
          "output_type": "execute_result"
        }
      ],
      "source": [
        "dir(apple)"
      ]
    },
    {
      "cell_type": "code",
      "execution_count": null,
      "metadata": {
        "colab": {
          "base_uri": "https://localhost:8080/"
        },
        "id": "dptQgxoPiSM9",
        "outputId": "98b79235-38ec-49b1-8761-13ba4786a64e"
      },
      "outputs": [
        {
          "data": {
            "text/plain": [
              "['__class__',\n",
              " '__delattr__',\n",
              " '__dict__',\n",
              " '__dir__',\n",
              " '__doc__',\n",
              " '__eq__',\n",
              " '__format__',\n",
              " '__ge__',\n",
              " '__getattribute__',\n",
              " '__gt__',\n",
              " '__hash__',\n",
              " '__init__',\n",
              " '__init_subclass__',\n",
              " '__le__',\n",
              " '__lt__',\n",
              " '__module__',\n",
              " '__ne__',\n",
              " '__new__',\n",
              " '__reduce__',\n",
              " '__reduce_ex__',\n",
              " '__repr__',\n",
              " '__setattr__',\n",
              " '__sizeof__',\n",
              " '__str__',\n",
              " '__subclasshook__',\n",
              " '__weakref__',\n",
              " 'extinct',\n",
              " 'full_name',\n",
              " 'genus',\n",
              " 'getExtinct',\n",
              " 'getFullName',\n",
              " 'habitat',\n",
              " 'kingdom',\n",
              " 'setExtinct',\n",
              " 'specie']"
            ]
          },
          "execution_count": 25,
          "metadata": {},
          "output_type": "execute_result"
        }
      ],
      "source": [
        "dir(dodo)"
      ]
    },
    {
      "cell_type": "markdown",
      "metadata": {
        "id": "PLFzdvGCiUyK"
      },
      "source": [
        "**Inheritance**\n",
        "\n",
        "Inheritance is a way of arranging classes in a hierarchy from the most general to the most specific. A \"child\" class is a more specific type of a \"parent\" class because a child class will inherit all the attribues and methods of its parent. For example, we define a class named \"Child\" which inherits \"Stock\":"
      ]
    },
    {
      "cell_type": "code",
      "execution_count": null,
      "metadata": {
        "id": "2k0FCda-ikwr"
      },
      "outputs": [],
      "source": [
        "class Child(Stock):\n",
        "    def __init__(self, name):\n",
        "        self.name = name"
      ]
    },
    {
      "cell_type": "code",
      "execution_count": null,
      "metadata": {
        "id": "4sX6f0IwjO3p"
      },
      "outputs": [],
      "source": [
        "class Mammal(Animal):\n",
        "    def __init__(self, food):\n",
        "      self.food = food"
      ]
    },
    {
      "cell_type": "markdown",
      "metadata": {
        "id": "ldXQJA2MixQ9"
      },
      "source": [
        "Then we create an object:"
      ]
    },
    {
      "cell_type": "code",
      "execution_count": null,
      "metadata": {
        "colab": {
          "base_uri": "https://localhost:8080/"
        },
        "id": "_pDQK9CPiwoK",
        "outputId": "4e605c37-70dc-4739-9b23-1eb4719897a5"
      },
      "outputs": [
        {
          "name": "stdout",
          "output_type": "stream",
          "text": [
            "AA\n",
            "100\n",
            "102\n",
            "0.020000000000000018\n"
          ]
        }
      ],
      "source": [
        "aa = Child('AA')\n",
        "print(aa.name)\n",
        "\n",
        "aa.update(100, 102)\n",
        "\n",
        "print(aa.open)\n",
        "\n",
        "print(aa.close)\n",
        "\n",
        "aa.print_return()\n"
      ]
    },
    {
      "cell_type": "code",
      "execution_count": null,
      "metadata": {
        "colab": {
          "base_uri": "https://localhost:8080/"
        },
        "id": "N7KlOC_2jOOn",
        "outputId": "feb12eb7-69a8-4bb2-b75e-b99bc8a70d94"
      },
      "outputs": [
        {
          "name": "stdout",
          "output_type": "stream",
          "text": [
            "Meat\n",
            "No Extinct\n"
          ]
        }
      ],
      "source": [
        "dog = Mammal(\"Meat\")\n",
        "\n",
        "print(dog.food)\n",
        "\n",
        "dog.setExtinct(False)\n",
        "\n",
        "dog.getExtinct()"
      ]
    },
    {
      "cell_type": "markdown",
      "metadata": {
        "id": "GDTpvv7BkAbG"
      },
      "source": [
        "# NumPy and Basic Pandas\n",
        "\n",
        "**NumPy**\n",
        "\n",
        "NumPy is the core library for scientific computing in Python. It provides a high-performance multidimensional array object, and tools for working with these arrays. It also has strong integration with Pandas, which is another powerful tool for manipulating financial data.\n",
        "\n",
        "Python packages like NumPy and Pandas contain classes and methods which we can use by importing the package:"
      ]
    },
    {
      "cell_type": "code",
      "execution_count": null,
      "metadata": {
        "id": "UJbMSuoekRMS"
      },
      "outputs": [],
      "source": [
        "import numpy as np"
      ]
    },
    {
      "cell_type": "markdown",
      "metadata": {
        "id": "ANoKXUZrkTi2"
      },
      "source": [
        "**Basic NumPy Arrays**\n",
        "\n",
        "A NumPy array is a grid of values, all of the same type, and is indexed by a tuple of nonnegative integers. Here we make an array by passing a list of Apple stock prices:"
      ]
    },
    {
      "cell_type": "code",
      "execution_count": null,
      "metadata": {
        "colab": {
          "base_uri": "https://localhost:8080/"
        },
        "id": "ZukEJnJ_kgUt",
        "outputId": "f5fdacf9-8fb3-4bca-e55d-f20ca407ed3a"
      },
      "outputs": [
        {
          "name": "stdout",
          "output_type": "stream",
          "text": [
            "[143.73 145.83 143.68 144.02 143.5  142.62] <class 'numpy.ndarray'>\n"
          ]
        }
      ],
      "source": [
        "price_list = [143.73, 145.83, 143.68, 144.02, 143.5, 142.62]\n",
        "price_array = np.array(price_list)\n",
        "print(price_array, type(price_array))"
      ]
    },
    {
      "cell_type": "code",
      "execution_count": null,
      "metadata": {
        "colab": {
          "base_uri": "https://localhost:8080/"
        },
        "id": "TPYbsHn5kpnb",
        "outputId": "37832dff-6060-42d0-f467-553368f78d64"
      },
      "outputs": [
        {
          "name": "stdout",
          "output_type": "stream",
          "text": [
            "[0.734 0.753 0.756 0.76  0.763 0.764 0.767] <class 'numpy.ndarray'>\n"
          ]
        }
      ],
      "source": [
        "idh_list = [0.734, 0.753, 0.756, 0.760, 0.763, 0.764, 0.767]\n",
        "idh_array = np.array(idh_list)\n",
        "print(idh_array, type(idh_array))"
      ]
    },
    {
      "cell_type": "markdown",
      "metadata": {
        "id": "pR3fvkA6lRfo"
      },
      "source": [
        "Notice that the type of array is \"ndarray\" which is a multi-dimensional array. If we pass np.array() a list of lists, it will create a 2-dimensional array."
      ]
    },
    {
      "cell_type": "code",
      "execution_count": null,
      "metadata": {
        "colab": {
          "base_uri": "https://localhost:8080/"
        },
        "id": "JTsx2LTglS2Y",
        "outputId": "f8c2d46b-6fb9-4165-cb7c-9a800427ca23"
      },
      "outputs": [
        {
          "name": "stdout",
          "output_type": "stream",
          "text": [
            "[[1 3]\n",
            " [2 4]] <class 'numpy.ndarray'>\n"
          ]
        }
      ],
      "source": [
        "Ar = np.array([[1,3], [2,4]])\n",
        "print(Ar, type(Ar))"
      ]
    },
    {
      "cell_type": "code",
      "execution_count": null,
      "metadata": {
        "colab": {
          "base_uri": "https://localhost:8080/"
        },
        "id": "7lqQBu1kldw2",
        "outputId": "9fa570ca-20f4-4444-bf6a-70cfd07482c8"
      },
      "outputs": [
        {
          "name": "stdout",
          "output_type": "stream",
          "text": [
            "[[0 1]\n",
            " [1 0]] <class 'numpy.ndarray'>\n"
          ]
        }
      ],
      "source": [
        "bAr = np.array([[0,1], [1,0]])\n",
        "\n",
        "print(bAr, type(bAr))"
      ]
    },
    {
      "cell_type": "markdown",
      "metadata": {
        "id": "P0a5wzPOlpTT"
      },
      "source": [
        "We get the dimensions of an ndarray using the .shape attribute:\n",
        "\n"
      ]
    },
    {
      "cell_type": "code",
      "execution_count": null,
      "metadata": {
        "colab": {
          "base_uri": "https://localhost:8080/"
        },
        "id": "NvC-ZWP4lyC8",
        "outputId": "5b9e705d-64d2-4f35-8293-ca75c8c57670"
      },
      "outputs": [
        {
          "data": {
            "text/plain": [
              "(2, 2)"
            ]
          },
          "execution_count": 39,
          "metadata": {},
          "output_type": "execute_result"
        }
      ],
      "source": [
        "Ar.shape"
      ]
    },
    {
      "cell_type": "code",
      "execution_count": null,
      "metadata": {
        "colab": {
          "base_uri": "https://localhost:8080/"
        },
        "id": "iW1XYXaBl3PL",
        "outputId": "196eba22-0231-4553-f54a-6cad90f4aa52"
      },
      "outputs": [
        {
          "data": {
            "text/plain": [
              "(2, 2)"
            ]
          },
          "execution_count": 40,
          "metadata": {},
          "output_type": "execute_result"
        }
      ],
      "source": [
        "bAr.shape"
      ]
    },
    {
      "cell_type": "markdown",
      "metadata": {
        "id": "jxitDt99mAkT"
      },
      "source": [
        "If we create an 2-dimensional array (i.e. matrix), each row can be accessed by index:"
      ]
    },
    {
      "cell_type": "code",
      "execution_count": null,
      "metadata": {
        "colab": {
          "base_uri": "https://localhost:8080/"
        },
        "id": "it9aI2qFmB0S",
        "outputId": "2825b11d-4b1a-4db6-c903-e57e337329a3"
      },
      "outputs": [
        {
          "name": "stdout",
          "output_type": "stream",
          "text": [
            "[1 3]\n",
            "[2 4]\n"
          ]
        }
      ],
      "source": [
        "print(Ar[0])\n",
        "\n",
        "print(Ar[1])"
      ]
    },
    {
      "cell_type": "code",
      "execution_count": null,
      "metadata": {
        "colab": {
          "base_uri": "https://localhost:8080/"
        },
        "id": "k5sqt2RMmLfk",
        "outputId": "b1edfc9f-330d-44a8-e685-7f4677acd6ce"
      },
      "outputs": [
        {
          "name": "stdout",
          "output_type": "stream",
          "text": [
            "[0 1]\n",
            "[1 0]\n"
          ]
        }
      ],
      "source": [
        "print(bAr[0])\n",
        "\n",
        "print(bAr[1])"
      ]
    },
    {
      "cell_type": "markdown",
      "metadata": {
        "id": "5YaAr5kWmSSo"
      },
      "source": [
        "If we want to access the matrix by column instead:"
      ]
    },
    {
      "cell_type": "code",
      "execution_count": null,
      "metadata": {
        "colab": {
          "base_uri": "https://localhost:8080/"
        },
        "id": "oQh1d-bHmTWE",
        "outputId": "11c92363-5222-4696-c614-97d2ca5ebf90"
      },
      "outputs": [
        {
          "name": "stdout",
          "output_type": "stream",
          "text": [
            "First column: [1 2]\n",
            "Second column: [3 4]\n"
          ]
        }
      ],
      "source": [
        "print('First column:', Ar[:,0])\n",
        "\n",
        "print('Second column:', Ar[:,1])"
      ]
    },
    {
      "cell_type": "code",
      "execution_count": null,
      "metadata": {
        "colab": {
          "base_uri": "https://localhost:8080/"
        },
        "id": "JU3xSWN-mbOE",
        "outputId": "ff5b462d-5255-46a5-9d52-8c9a1ca98f27"
      },
      "outputs": [
        {
          "name": "stdout",
          "output_type": "stream",
          "text": [
            "First column: [0 1]\n",
            "Second column: [1 0]\n"
          ]
        }
      ],
      "source": [
        "print('First column:', bAr[:,0])\n",
        "\n",
        "print('Second column:', bAr[:,1])"
      ]
    },
    {
      "cell_type": "markdown",
      "metadata": {
        "id": "bpyX1shimpBM"
      },
      "source": [
        "**Array Functions**\n",
        "\n",
        "Some functions built in NumPy that allow us to perform calculations on arrays. For example, we can apply the natural logarithm to each element of an array:"
      ]
    },
    {
      "cell_type": "code",
      "execution_count": null,
      "metadata": {
        "colab": {
          "base_uri": "https://localhost:8080/"
        },
        "id": "WptgVzYcmtV_",
        "outputId": "1efed996-1290-4e5d-c8b4-6accd6cd389f"
      },
      "outputs": [
        {
          "data": {
            "text/plain": [
              "array([4.96793654, 4.98244156, 4.9675886 , 4.96995218, 4.96633504,\n",
              "       4.96018375])"
            ]
          },
          "execution_count": 46,
          "metadata": {},
          "output_type": "execute_result"
        }
      ],
      "source": [
        "np.log(price_array)"
      ]
    },
    {
      "cell_type": "code",
      "execution_count": null,
      "metadata": {
        "colab": {
          "base_uri": "https://localhost:8080/"
        },
        "id": "NXd0jE4mm3oX",
        "outputId": "46e3a4bd-2454-4292-9c0e-2a724be87144"
      },
      "outputs": [
        {
          "data": {
            "text/plain": [
              "array([-0.30924625, -0.28369005, -0.2797139 , -0.27443685, -0.27049725,\n",
              "       -0.26918749, -0.26526848])"
            ]
          },
          "execution_count": 47,
          "metadata": {},
          "output_type": "execute_result"
        }
      ],
      "source": [
        "np.log(idh_array)"
      ]
    },
    {
      "cell_type": "markdown",
      "metadata": {
        "id": "H3acpiqem7N8"
      },
      "source": [
        "Other functions return a single value:"
      ]
    },
    {
      "cell_type": "code",
      "execution_count": null,
      "metadata": {
        "colab": {
          "base_uri": "https://localhost:8080/"
        },
        "id": "CHZT-Ggzm9U_",
        "outputId": "2eae12c7-3a13-46e5-bddf-5bd81987a40e"
      },
      "outputs": [
        {
          "name": "stdout",
          "output_type": "stream",
          "text": [
            "143.89666666666668\n",
            "0.9673790478515796\n",
            "863.38\n",
            "145.83\n"
          ]
        }
      ],
      "source": [
        "print(np.mean(price_array))\n",
        "print(np.std(price_array))\n",
        "print(np.sum(price_array))\n",
        "print(np.max(price_array))"
      ]
    },
    {
      "cell_type": "code",
      "execution_count": null,
      "metadata": {
        "colab": {
          "base_uri": "https://localhost:8080/"
        },
        "id": "hHYR4gDdnMDl",
        "outputId": "95db8fe9-0e65-46d6-faf4-72e26ad19fbb"
      },
      "outputs": [
        {
          "name": "stdout",
          "output_type": "stream",
          "text": [
            "0.7567142857142858\n",
            "0.010277774713488553\n",
            "5.297000000000001\n",
            "0.767\n"
          ]
        }
      ],
      "source": [
        "print(np.mean(idh_array))\n",
        "print(np.std(idh_array))\n",
        "print(np.sum(idh_array))\n",
        "print(np.max(idh_array))"
      ]
    },
    {
      "cell_type": "markdown",
      "metadata": {
        "id": "VKjLESl3nWIY"
      },
      "source": [
        "**Pandas**\n",
        "\n",
        "Pandas is one of the most powerful tools for dealing with financial data. First we need to import Pandas:"
      ]
    },
    {
      "cell_type": "code",
      "execution_count": null,
      "metadata": {
        "id": "19wisGN-nYUE"
      },
      "outputs": [],
      "source": [
        "import pandas as pd"
      ]
    },
    {
      "cell_type": "markdown",
      "metadata": {
        "id": "u0Gi20oXnhKV"
      },
      "source": [
        "**Series**\n",
        "\n",
        "Series is a one-dimensional labeled array capable of holding any data type (integers, strings, float, Python object, etc.)\n",
        "\n",
        "We create a Series by calling pd.Series(data), where data can be a dictionary, an array or just a scalar value."
      ]
    },
    {
      "cell_type": "code",
      "execution_count": null,
      "metadata": {
        "colab": {
          "base_uri": "https://localhost:8080/"
        },
        "id": "TxRH2jkSnjb3",
        "outputId": "4e789e5d-75fa-4863-ec89-a720d5de4127"
      },
      "outputs": [
        {
          "name": "stdout",
          "output_type": "stream",
          "text": [
            "0    143.73\n",
            "1    145.83\n",
            "2    143.68\n",
            "3    144.02\n",
            "4    143.50\n",
            "5    142.62\n",
            "dtype: float64\n"
          ]
        }
      ],
      "source": [
        "price = [143.73, 145.83, 143.68, 144.02, 143.5, 142.62]\n",
        "s = pd.Series(price)\n",
        "print(s)"
      ]
    },
    {
      "cell_type": "code",
      "execution_count": null,
      "metadata": {
        "colab": {
          "base_uri": "https://localhost:8080/"
        },
        "id": "CNe9cYRPnslT",
        "outputId": "24239680-f655-4436-a6a3-a1a37ce442ac"
      },
      "outputs": [
        {
          "name": "stdout",
          "output_type": "stream",
          "text": [
            "0    0.734\n",
            "1    0.753\n",
            "2    0.756\n",
            "3    0.760\n",
            "4    0.763\n",
            "5    0.764\n",
            "6    0.767\n",
            "dtype: float64\n"
          ]
        }
      ],
      "source": [
        "idh = [0.734, 0.753, 0.756, 0.760, 0.763, 0.764, 0.767]\n",
        "\n",
        "idhs = pd.Series(idh)\n",
        "\n",
        "print(idhs)"
      ]
    },
    {
      "cell_type": "markdown",
      "metadata": {
        "id": "LHJdVeken9zy"
      },
      "source": [
        "We can customize the indices of a new Series:"
      ]
    },
    {
      "cell_type": "code",
      "execution_count": null,
      "metadata": {
        "colab": {
          "base_uri": "https://localhost:8080/"
        },
        "id": "zkTdyBPIn9k3",
        "outputId": "472a578c-b87f-46b9-9b8e-fce95e9536d5"
      },
      "outputs": [
        {
          "name": "stdout",
          "output_type": "stream",
          "text": [
            "a    143.73\n",
            "b    145.83\n",
            "c    143.68\n",
            "d    144.02\n",
            "e    143.50\n",
            "f    142.62\n",
            "dtype: float64\n"
          ]
        }
      ],
      "source": [
        "s = pd.Series(price, index = ['a', 'b', 'c', 'd', 'e', 'f'])\n",
        "print(s)"
      ]
    },
    {
      "cell_type": "code",
      "execution_count": null,
      "metadata": {
        "colab": {
          "base_uri": "https://localhost:8080/"
        },
        "id": "CBJFpLu5oDjB",
        "outputId": "0517379b-5538-4364-a02d-92ac7c52b149"
      },
      "outputs": [
        {
          "name": "stdout",
          "output_type": "stream",
          "text": [
            "2013    0.734\n",
            "2014    0.753\n",
            "2015    0.756\n",
            "2016    0.760\n",
            "2017    0.763\n",
            "2018    0.764\n",
            "2019    0.767\n",
            "dtype: float64\n"
          ]
        }
      ],
      "source": [
        "idhs = pd.Series(idh, index = [\"2013\", \"2014\", \"2015\", \"2016\", \"2017\", \"2018\", \"2019\"])\n",
        "print(idhs)"
      ]
    },
    {
      "cell_type": "markdown",
      "metadata": {
        "id": "heTf-lskoloC"
      },
      "source": [
        "Or we can change the indices of an existing Series:"
      ]
    },
    {
      "cell_type": "code",
      "execution_count": null,
      "metadata": {
        "id": "S15hVHLWojMD"
      },
      "outputs": [],
      "source": [
        "s.index = [6,5,4,3,2,1]\n",
        "print(s)"
      ]
    },
    {
      "cell_type": "code",
      "execution_count": null,
      "metadata": {
        "colab": {
          "base_uri": "https://localhost:8080/"
        },
        "id": "pgg2BxUlpL_R",
        "outputId": "2a54f00c-f7e0-46ef-aecf-4f5c6f521119"
      },
      "outputs": [
        {
          "name": "stdout",
          "output_type": "stream",
          "text": [
            "2019    0.734\n",
            "2018    0.753\n",
            "2017    0.756\n",
            "2016    0.760\n",
            "2015    0.763\n",
            "2014    0.764\n",
            "2013    0.767\n",
            "dtype: float64\n"
          ]
        }
      ],
      "source": [
        "idhs.index = ['2019', '2018', '2017', '2016', '2015', '2014', '2013']\n",
        "print(idhs)"
      ]
    },
    {
      "cell_type": "markdown",
      "metadata": {
        "id": "5rSrx0hYpLDn"
      },
      "source": [
        "Series is like a list since it can be sliced by index:"
      ]
    },
    {
      "cell_type": "code",
      "execution_count": null,
      "metadata": {
        "colab": {
          "base_uri": "https://localhost:8080/"
        },
        "id": "lz2Kx8PJrFgy",
        "outputId": "ef3649a3-75de-4621-8f24-b5f24b610048"
      },
      "outputs": [
        {
          "name": "stdout",
          "output_type": "stream",
          "text": [
            "b    145.83\n",
            "c    143.68\n",
            "d    144.02\n",
            "e    143.50\n",
            "f    142.62\n",
            "dtype: float64\n",
            "a    143.73\n",
            "b    145.83\n",
            "c    143.68\n",
            "d    144.02\n",
            "dtype: float64\n"
          ]
        }
      ],
      "source": [
        "print(s[1:])\n",
        "print(s[:-2])"
      ]
    },
    {
      "cell_type": "code",
      "execution_count": null,
      "metadata": {
        "colab": {
          "base_uri": "https://localhost:8080/"
        },
        "id": "LvIlIxumrVX4",
        "outputId": "488023ec-335a-468c-cb91-08401504dbf7"
      },
      "outputs": [
        {
          "name": "stdout",
          "output_type": "stream",
          "text": [
            "2015    0.763\n",
            "2014    0.764\n",
            "2013    0.767\n",
            "dtype: float64\n",
            "2019    0.734\n",
            "2018    0.753\n",
            "2017    0.756\n",
            "2016    0.760\n",
            "dtype: float64\n"
          ]
        }
      ],
      "source": [
        "print(idhs[4:])\n",
        "print(idhs[:-3])"
      ]
    },
    {
      "cell_type": "markdown",
      "metadata": {
        "id": "L8YuT5Ewrbc-"
      },
      "source": [
        "Series is also like a dictionary whose values can be set or fetched by index label:"
      ]
    },
    {
      "cell_type": "code",
      "execution_count": null,
      "metadata": {
        "colab": {
          "base_uri": "https://localhost:8080/"
        },
        "id": "11XB09T7reQm",
        "outputId": "68c56c7b-e6f4-4533-ef0f-23fc807d67d6"
      },
      "outputs": [
        {
          "name": "stdout",
          "output_type": "stream",
          "text": [
            "143.5\n",
            "a    143.73\n",
            "b    145.83\n",
            "c    143.68\n",
            "d    144.02\n",
            "e      0.00\n",
            "f    142.62\n",
            "dtype: float64\n"
          ]
        }
      ],
      "source": [
        "print(s[4])\n",
        "s[4] = 0\n",
        "print(s)"
      ]
    },
    {
      "cell_type": "code",
      "execution_count": null,
      "metadata": {
        "colab": {
          "base_uri": "https://localhost:8080/"
        },
        "id": "G6mUwFmormfO",
        "outputId": "0c3f3bcc-a95b-4557-e723-9475f43f1fac"
      },
      "outputs": [
        {
          "name": "stdout",
          "output_type": "stream",
          "text": [
            "0.734\n",
            "2019    0.734\n",
            "2018    0.753\n",
            "2017    0.756\n",
            "2016    0.760\n",
            "2015    0.770\n",
            "2014    0.764\n",
            "2013    0.767\n",
            "dtype: float64\n"
          ]
        }
      ],
      "source": [
        "print(idhs[\"2019\"])\n",
        "\n",
        "idhs[4] = 0.770\n",
        "\n",
        "print(idhs)"
      ]
    },
    {
      "cell_type": "markdown",
      "metadata": {
        "id": "op4xr3oMr3fE"
      },
      "source": [
        "Series can also have a name attribute, which will be used when we make up a Pandas DataFrame using several series."
      ]
    },
    {
      "cell_type": "code",
      "execution_count": null,
      "metadata": {
        "colab": {
          "base_uri": "https://localhost:8080/"
        },
        "id": "6jU5X4hsr4WN",
        "outputId": "45bda04f-ff3b-4411-b105-b9a6cff09af0"
      },
      "outputs": [
        {
          "name": "stdout",
          "output_type": "stream",
          "text": [
            "0    143.73\n",
            "1    145.83\n",
            "2    143.68\n",
            "3    144.02\n",
            "4    143.50\n",
            "5    142.62\n",
            "Name: Apple Prices, dtype: float64\n",
            "Apple Prices\n"
          ]
        }
      ],
      "source": [
        "s = pd.Series(price, name = 'Apple Prices')\n",
        "print(s)\n",
        "print(s.name)"
      ]
    },
    {
      "cell_type": "code",
      "execution_count": null,
      "metadata": {
        "colab": {
          "base_uri": "https://localhost:8080/"
        },
        "id": "IN9tup8Rr-O4",
        "outputId": "8011b53b-3aa6-4cae-ffe7-11ed575914fa"
      },
      "outputs": [
        {
          "name": "stdout",
          "output_type": "stream",
          "text": [
            "0    0.734\n",
            "1    0.753\n",
            "2    0.756\n",
            "3    0.760\n",
            "4    0.763\n",
            "5    0.764\n",
            "6    0.767\n",
            "Name: IDH Colombia, dtype: float64\n",
            "IDH Colombia\n"
          ]
        }
      ],
      "source": [
        "idhs = pd.Series(idh, name = \"IDH Colombia\")\n",
        "print(idhs)\n",
        "print(idhs.name)"
      ]
    },
    {
      "cell_type": "markdown",
      "metadata": {
        "id": "Q06xD55DsOoZ"
      },
      "source": [
        "We can get the statistical summaries of a Series:\n"
      ]
    },
    {
      "cell_type": "code",
      "execution_count": null,
      "metadata": {
        "colab": {
          "base_uri": "https://localhost:8080/"
        },
        "id": "gswY4qz4sQYW",
        "outputId": "7f201bb5-ebda-4a9e-8f57-355b56d06d84"
      },
      "outputs": [
        {
          "name": "stdout",
          "output_type": "stream",
          "text": [
            "count      6.000000\n",
            "mean     143.896667\n",
            "std        1.059711\n",
            "min      142.620000\n",
            "25%      143.545000\n",
            "50%      143.705000\n",
            "75%      143.947500\n",
            "max      145.830000\n",
            "Name: Apple Prices, dtype: float64\n"
          ]
        }
      ],
      "source": [
        "print(s.describe())"
      ]
    },
    {
      "cell_type": "code",
      "execution_count": null,
      "metadata": {
        "colab": {
          "base_uri": "https://localhost:8080/"
        },
        "id": "sjZDwHcZsVAC",
        "outputId": "f465f67a-c9c4-4e79-f65e-f200d7d6ab6c"
      },
      "outputs": [
        {
          "name": "stdout",
          "output_type": "stream",
          "text": [
            "count    7.000000\n",
            "mean     0.756714\n",
            "std      0.011101\n",
            "min      0.734000\n",
            "25%      0.754500\n",
            "50%      0.760000\n",
            "75%      0.763500\n",
            "max      0.767000\n",
            "Name: IDH Colombia, dtype: float64\n"
          ]
        }
      ],
      "source": [
        "print(idhs.describe())"
      ]
    },
    {
      "cell_type": "markdown",
      "metadata": {
        "id": "Rutc5z7zsZyF"
      },
      "source": [
        "**Time Index**\n",
        "\n",
        "Pandas has a built-in function specifically for creating date indices: pd.date_range(). We use it to create a new index for our Series:"
      ]
    },
    {
      "cell_type": "code",
      "execution_count": null,
      "metadata": {
        "colab": {
          "base_uri": "https://localhost:8080/"
        },
        "id": "cs1sPfJCsi0H",
        "outputId": "2c75128e-7ab9-4841-ac9a-951ca643848f"
      },
      "outputs": [
        {
          "name": "stdout",
          "output_type": "stream",
          "text": [
            "DatetimeIndex(['2017-01-01', '2017-01-02', '2017-01-03', '2017-01-04',\n",
            "               '2017-01-05', '2017-01-06'],\n",
            "              dtype='datetime64[ns]', freq='D')\n",
            "2017-01-01    143.73\n",
            "2017-01-02    145.83\n",
            "2017-01-03    143.68\n",
            "2017-01-04    144.02\n",
            "2017-01-05    143.50\n",
            "2017-01-06    142.62\n",
            "Freq: D, Name: Apple Prices, dtype: float64\n"
          ]
        }
      ],
      "source": [
        "time_index = pd.date_range('2017-01-01', periods = len(s), freq = 'D')\n",
        "print(time_index)\n",
        "s.index = time_index\n",
        "print(s)"
      ]
    },
    {
      "cell_type": "code",
      "execution_count": null,
      "metadata": {
        "colab": {
          "base_uri": "https://localhost:8080/"
        },
        "id": "BZloe5JktLDl",
        "outputId": "3d2f21ed-36eb-4081-d3a8-2bbc5b77d81b"
      },
      "outputs": [
        {
          "name": "stdout",
          "output_type": "stream",
          "text": [
            "DatetimeIndex(['2013-12-31', '2014-12-31', '2015-12-31', '2016-12-31',\n",
            "               '2017-12-31', '2018-12-31', '2019-12-31'],\n",
            "              dtype='datetime64[ns]', freq='A-DEC')\n",
            "2013-12-31    0.734\n",
            "2014-12-31    0.753\n",
            "2015-12-31    0.756\n",
            "2016-12-31    0.760\n",
            "2017-12-31    0.763\n",
            "2018-12-31    0.764\n",
            "2019-12-31    0.767\n",
            "Freq: A-DEC, Name: IDH Colombia, dtype: float64\n"
          ]
        }
      ],
      "source": [
        "year_index = pd.date_range(\"2013-12-31\", periods = len(idh), freq= \"Y\")\n",
        "print(year_index)\n",
        "\n",
        "idhs.index = year_index\n",
        "\n",
        "print(idhs)"
      ]
    },
    {
      "cell_type": "markdown",
      "metadata": {
        "id": "5Bx7Akxvt1_f"
      },
      "source": [
        "Series are usually accessed using the iloc[] and loc[] methods. iloc[] is used to access elements by integer index, and loc[] is used to access the index of the series.\n",
        "\n",
        "iloc[] is necessary when the index of a series are integers, take our previous defined series as example:"
      ]
    },
    {
      "cell_type": "code",
      "execution_count": null,
      "metadata": {
        "colab": {
          "base_uri": "https://localhost:8080/"
        },
        "id": "2_v0h0mPt3W7",
        "outputId": "8d642fdd-23df-4154-d64d-08d1af30fa78"
      },
      "outputs": [
        {
          "name": "stdout",
          "output_type": "stream",
          "text": [
            "6    143.73\n",
            "5    145.83\n",
            "4    143.68\n",
            "3    144.02\n",
            "2    143.50\n",
            "1    142.62\n",
            "Name: Apple Prices, dtype: float64\n",
            "142.62\n"
          ]
        }
      ],
      "source": [
        "s.index = [6,5,4,3,2,1]\n",
        "print(s)\n",
        "print(s[1])"
      ]
    },
    {
      "cell_type": "code",
      "execution_count": null,
      "metadata": {
        "colab": {
          "base_uri": "https://localhost:8080/"
        },
        "id": "ta0c07-rt8T8",
        "outputId": "d97a2c23-9d88-40e6-98c0-762489d9f83f"
      },
      "outputs": [
        {
          "name": "stdout",
          "output_type": "stream",
          "text": [
            "7    0.734\n",
            "6    0.753\n",
            "5    0.756\n",
            "4    0.760\n",
            "3    0.763\n",
            "2    0.764\n",
            "1    0.767\n",
            "Name: IDH Colombia, dtype: float64\n",
            "0.763\n"
          ]
        }
      ],
      "source": [
        "idhs.index = [7,6,5,4,3,2,1]\n",
        "print(idhs)\n",
        "print(idhs[3])"
      ]
    },
    {
      "cell_type": "markdown",
      "metadata": {
        "id": "LbrV-QCwuTjZ"
      },
      "source": [
        "If we intended to take the second element of the series, we would make a mistake here, because the index are integers. In order to access to the element we want, we use iloc[] here:"
      ]
    },
    {
      "cell_type": "code",
      "execution_count": null,
      "metadata": {
        "colab": {
          "base_uri": "https://localhost:8080/"
        },
        "id": "RxEsvPZUuUr1",
        "outputId": "c42201fd-0b78-4ec1-ecf8-705cf0f08f93"
      },
      "outputs": [
        {
          "name": "stdout",
          "output_type": "stream",
          "text": [
            "145.83\n"
          ]
        }
      ],
      "source": [
        "print(s.iloc[1])"
      ]
    },
    {
      "cell_type": "code",
      "execution_count": null,
      "metadata": {
        "colab": {
          "base_uri": "https://localhost:8080/"
        },
        "id": "dFzUpGotuZ3u",
        "outputId": "621aec93-bb15-42a7-fec0-f45646d377df"
      },
      "outputs": [
        {
          "name": "stdout",
          "output_type": "stream",
          "text": [
            "0.734\n"
          ]
        }
      ],
      "source": [
        "print(idhs.iloc[0])"
      ]
    },
    {
      "cell_type": "markdown",
      "metadata": {
        "id": "X5fJVB3Xuqcy"
      },
      "source": [
        "While working with time series data, we often use time as the index. Pandas provides us with various methods to access the data by time index."
      ]
    },
    {
      "cell_type": "code",
      "execution_count": null,
      "metadata": {
        "colab": {
          "base_uri": "https://localhost:8080/"
        },
        "id": "ggbHUvi3uoJc",
        "outputId": "c3d6646e-0539-47c5-c676-8ae1a1baeba4"
      },
      "outputs": [
        {
          "name": "stdout",
          "output_type": "stream",
          "text": [
            "143.68\n"
          ]
        }
      ],
      "source": [
        "s.index = time_index\n",
        "print(s['2017-01-03'])"
      ]
    },
    {
      "cell_type": "code",
      "execution_count": null,
      "metadata": {
        "colab": {
          "base_uri": "https://localhost:8080/"
        },
        "id": "iPI4ImRku-lF",
        "outputId": "fdada76d-5b2b-4197-ec04-af9623dddc3f"
      },
      "outputs": [
        {
          "name": "stdout",
          "output_type": "stream",
          "text": [
            "0.76\n"
          ]
        }
      ],
      "source": [
        "idhs.index = year_index\n",
        "\n",
        "print(idhs[\"2016-12-31\"])"
      ]
    },
    {
      "cell_type": "markdown",
      "metadata": {
        "id": "7fXgmZhlvJcH"
      },
      "source": [
        "We can even access to a range of dates:"
      ]
    },
    {
      "cell_type": "code",
      "execution_count": null,
      "metadata": {
        "colab": {
          "base_uri": "https://localhost:8080/"
        },
        "id": "aIi75j9JvK63",
        "outputId": "4d355516-ab3c-49d4-aacb-c457f688aa08"
      },
      "outputs": [
        {
          "name": "stdout",
          "output_type": "stream",
          "text": [
            "2017-01-02    145.83\n",
            "2017-01-03    143.68\n",
            "2017-01-04    144.02\n",
            "2017-01-05    143.50\n",
            "Freq: D, Name: Apple Prices, dtype: float64\n"
          ]
        }
      ],
      "source": [
        "print(s['2017-01-02':'2017-01-05'])"
      ]
    },
    {
      "cell_type": "code",
      "execution_count": null,
      "metadata": {
        "colab": {
          "base_uri": "https://localhost:8080/"
        },
        "id": "eqay8b5UvQmA",
        "outputId": "8747d671-19b9-4deb-a1ea-3a3ae42d6843"
      },
      "outputs": [
        {
          "name": "stdout",
          "output_type": "stream",
          "text": [
            "2014-12-31    0.753\n",
            "2015-12-31    0.756\n",
            "2016-12-31    0.760\n",
            "2017-12-31    0.763\n",
            "2018-12-31    0.764\n",
            "Freq: A-DEC, Name: IDH Colombia, dtype: float64\n"
          ]
        }
      ],
      "source": [
        "print(idhs['2014-01-15':'2019-08-08'])"
      ]
    },
    {
      "cell_type": "markdown",
      "metadata": {
        "id": "bDmGfPm6vb6L"
      },
      "source": [
        "Series[] provides us a very flexible way to index data. We can add any condition in the square brackets:"
      ]
    },
    {
      "cell_type": "code",
      "execution_count": null,
      "metadata": {
        "colab": {
          "base_uri": "https://localhost:8080/"
        },
        "id": "rdu0HdJGvcxM",
        "outputId": "29b97338-cac3-45cb-90b9-db8f714927c4"
      },
      "outputs": [
        {
          "name": "stdout",
          "output_type": "stream",
          "text": [
            "2017-01-01    143.73\n",
            "2017-01-03    143.68\n",
            "2017-01-05    143.50\n",
            "2017-01-06    142.62\n",
            "Name: Apple Prices, dtype: float64\n",
            "2017-01-04    144.02\n",
            "Freq: D, Name: Apple Prices, dtype: float64\n"
          ]
        }
      ],
      "source": [
        "print(s[s < np.mean(s)])\n",
        "print(s[(s > np.mean(s)) & (s < np.mean(s) + 1.64*np.std(s))])"
      ]
    },
    {
      "cell_type": "code",
      "execution_count": null,
      "metadata": {
        "colab": {
          "base_uri": "https://localhost:8080/"
        },
        "id": "xn3lAd6mvkxw",
        "outputId": "07bf509d-bbc2-42b8-906e-22922d8b689e"
      },
      "outputs": [
        {
          "name": "stdout",
          "output_type": "stream",
          "text": [
            "2013-12-31    0.734\n",
            "2014-12-31    0.753\n",
            "2015-12-31    0.756\n",
            "Freq: A-DEC, Name: IDH Colombia, dtype: float64\n",
            "2016-12-31    0.76\n",
            "Freq: A-DEC, Name: IDH Colombia, dtype: float64\n"
          ]
        }
      ],
      "source": [
        "print(idhs[idhs < np.mean(idhs)])\n",
        "print(idhs[(idhs > np.mean(idhs)) & (idhs < np.mean(idhs) + 0.34*np.std(idhs))])"
      ]
    },
    {
      "cell_type": "markdown",
      "metadata": {
        "id": "YuYxUEvj_yFA"
      },
      "source": [
        "#Get the data online (scraping) from Yahoo Finance with yfinance\n"
      ]
    },
    {
      "cell_type": "code",
      "execution_count": null,
      "metadata": {
        "colab": {
          "base_uri": "https://localhost:8080/"
        },
        "id": "CDlQsxnz_tc7",
        "outputId": "40483f33-45a0-4e82-eccf-df13391ab371"
      },
      "outputs": [
        {
          "name": "stdout",
          "output_type": "stream",
          "text": [
            "Collecting yfinance\n",
            "  Downloading yfinance-0.1.64.tar.gz (26 kB)\n",
            "Requirement already satisfied: pandas>=0.24 in /usr/local/lib/python3.7/dist-packages (from yfinance) (1.1.5)\n",
            "Requirement already satisfied: numpy>=1.15 in /usr/local/lib/python3.7/dist-packages (from yfinance) (1.19.5)\n",
            "Requirement already satisfied: requests>=2.20 in /usr/local/lib/python3.7/dist-packages (from yfinance) (2.23.0)\n",
            "Requirement already satisfied: multitasking>=0.0.7 in /usr/local/lib/python3.7/dist-packages (from yfinance) (0.0.9)\n",
            "Collecting lxml>=4.5.1\n",
            "  Downloading lxml-4.6.3-cp37-cp37m-manylinux2014_x86_64.whl (6.3 MB)\n",
            "\u001b[K     |████████████████████████████████| 6.3 MB 8.3 MB/s \n",
            "\u001b[?25hRequirement already satisfied: python-dateutil>=2.7.3 in /usr/local/lib/python3.7/dist-packages (from pandas>=0.24->yfinance) (2.8.2)\n",
            "Requirement already satisfied: pytz>=2017.2 in /usr/local/lib/python3.7/dist-packages (from pandas>=0.24->yfinance) (2018.9)\n",
            "Requirement already satisfied: six>=1.5 in /usr/local/lib/python3.7/dist-packages (from python-dateutil>=2.7.3->pandas>=0.24->yfinance) (1.15.0)\n",
            "Requirement already satisfied: chardet<4,>=3.0.2 in /usr/local/lib/python3.7/dist-packages (from requests>=2.20->yfinance) (3.0.4)\n",
            "Requirement already satisfied: certifi>=2017.4.17 in /usr/local/lib/python3.7/dist-packages (from requests>=2.20->yfinance) (2021.5.30)\n",
            "Requirement already satisfied: urllib3!=1.25.0,!=1.25.1,<1.26,>=1.21.1 in /usr/local/lib/python3.7/dist-packages (from requests>=2.20->yfinance) (1.24.3)\n",
            "Requirement already satisfied: idna<3,>=2.5 in /usr/local/lib/python3.7/dist-packages (from requests>=2.20->yfinance) (2.10)\n",
            "Building wheels for collected packages: yfinance\n",
            "  Building wheel for yfinance (setup.py) ... \u001b[?25l\u001b[?25hdone\n",
            "  Created wheel for yfinance: filename=yfinance-0.1.64-py2.py3-none-any.whl size=24109 sha256=1d9198a58106800caf707770ef3570f31c066b321cb7a7970fd49ab40c1556e2\n",
            "  Stored in directory: /root/.cache/pip/wheels/86/fe/9b/a4d3d78796b699e37065e5b6c27b75cff448ddb8b24943c288\n",
            "Successfully built yfinance\n",
            "Installing collected packages: lxml, yfinance\n",
            "  Attempting uninstall: lxml\n",
            "    Found existing installation: lxml 4.2.6\n",
            "    Uninstalling lxml-4.2.6:\n",
            "      Successfully uninstalled lxml-4.2.6\n",
            "Successfully installed lxml-4.6.3 yfinance-0.1.64\n"
          ]
        }
      ],
      "source": [
        "!pip install yfinance"
      ]
    },
    {
      "cell_type": "code",
      "execution_count": null,
      "metadata": {
        "colab": {
          "base_uri": "https://localhost:8080/",
          "height": 493
        },
        "id": "MQ1fzg6F_8gp",
        "outputId": "a15a6978-09a0-4069-dcd3-fecfe9ab3af9"
      },
      "outputs": [
        {
          "name": "stdout",
          "output_type": "stream",
          "text": [
            "{'zip': '98052-6399', 'sector': 'Technology', 'fullTimeEmployees': 181000, 'longBusinessSummary': 'Microsoft Corporation develops, licenses, and supports software, services, devices, and solutions worldwide. Its Productivity and Business Processes segment offers Office, Exchange, SharePoint, Microsoft Teams, Office 365 Security and Compliance, and Skype for Business, as well as related Client Access Licenses (CAL); Skype, Outlook.com, OneDrive, and LinkedIn; and Dynamics 365, a set of cloud-based and on-premises business solutions for organizations and enterprise divisions. Its Intelligent Cloud segment licenses SQL, Windows Servers, Visual Studio, System Center, and related CALs; GitHub that provides a collaboration platform and code hosting service for developers; and Azure, a cloud platform. It also offers support services and Microsoft consulting services to assist customers in developing, deploying, and managing Microsoft server and desktop solutions; and training and certification on Microsoft products. Its More Personal Computing segment provides Windows original equipment manufacturer (OEM) licensing and other non-volume licensing of the Windows operating system; Windows Commercial, such as volume licensing of the Windows operating system, Windows cloud services, and other Windows commercial offerings; patent licensing; Windows Internet of Things; and MSN advertising. It also offers Surface, PC accessories, PCs, tablets, gaming and entertainment consoles, and other devices; Gaming, including Xbox hardware, and Xbox content and services; video games and third-party video game royalties; and Search, including Bing and Microsoft advertising. It sells its products through OEMs, distributors, and resellers; and directly through digital marketplaces, online stores, and retail stores. It has collaborations with Dynatrace, Inc., Morgan Stanley, Micro Focus, WPP plc, ACI Worldwide, Inc., and iCIMS, Inc., as well as strategic relationships with Avaya Holdings Corp. and wejo Limited. Microsoft Corporation was founded in 1975 and is based in Redmond, Washington.', 'city': 'Redmond', 'phone': '425 882 8080', 'state': 'WA', 'country': 'United States', 'companyOfficers': [], 'website': 'http://www.microsoft.com', 'maxAge': 1, 'address1': 'One Microsoft Way', 'industry': 'Software—Infrastructure', 'ebitdaMargins': 0.48080003, 'profitMargins': 0.36451998, 'grossMargins': 0.68926, 'operatingCashflow': 76740001792, 'revenueGrowth': 0.213, 'operatingMargins': 0.41595, 'ebitda': 80815996928, 'targetLowPrice': 280, 'recommendationKey': 'buy', 'grossProfits': 115856000000, 'freeCashflow': 41337249792, 'targetMedianPrice': 338, 'currentPrice': 309.16, 'earningsGrowth': 0.486, 'currentRatio': 2.08, 'returnOnAssets': 0.13761, 'numberOfAnalystOpinions': 37, 'targetMeanPrice': 337.04, 'debtToEquity': 57.947, 'returnOnEquity': 0.47079, 'targetHighPrice': 384, 'totalCash': 130256003072, 'totalDebt': 82277998592, 'totalRevenue': 168087994368, 'totalCashPerShare': 17.333, 'financialCurrency': 'USD', 'revenuePerShare': 22.272, 'quickRatio': 1.898, 'recommendationMean': 1.7, 'exchange': 'NMS', 'shortName': 'Microsoft Corporation', 'longName': 'Microsoft Corporation', 'exchangeTimezoneName': 'America/New_York', 'exchangeTimezoneShortName': 'EDT', 'isEsgPopulated': False, 'gmtOffSetMilliseconds': '-14400000', 'quoteType': 'EQUITY', 'symbol': 'MSFT', 'messageBoardId': 'finmb_21835', 'market': 'us_market', 'annualHoldingsTurnover': None, 'enterpriseToRevenue': 13.537, 'beta3Year': None, 'enterpriseToEbitda': 28.154, '52WeekChange': 0.47162986, 'morningStarRiskRating': None, 'forwardEps': 10.13, 'revenueQuarterlyGrowth': None, 'sharesOutstanding': 7507899904, 'fundInceptionDate': None, 'annualReportExpenseRatio': None, 'totalAssets': None, 'bookValue': 18.884, 'sharesShort': 47171313, 'sharesPercentSharesOut': 0.0063, 'fundFamily': None, 'lastFiscalYearEnd': 1625011200, 'heldPercentInstitutions': 0.71783996, 'netIncomeToCommon': 61270999040, 'trailingEps': 8.05, 'lastDividendValue': 0.56, 'SandP52WeekChange': 0.33635402, 'priceToBook': 16.37153, 'heldPercentInsiders': 0.0008, 'nextFiscalYearEnd': 1688083200, 'yield': None, 'mostRecentQuarter': 1625011200, 'shortRatio': 1.99, 'sharesShortPreviousMonthDate': 1630368000, 'floatShares': 7507075761, 'beta': 0.802645, 'enterpriseValue': 2275325771776, 'priceHint': 2, 'threeYearAverageReturn': None, 'lastSplitDate': 1045526400, 'lastSplitFactor': '2:1', 'legalType': None, 'lastDividendDate': 1629244800, 'morningStarOverallRating': None, 'earningsQuarterlyGrowth': 0.469, 'priceToSalesTrailing12Months': 13.80909, 'dateShortInterest': 1632960000, 'pegRatio': 2.28, 'ytdReturn': None, 'forwardPE': 30.519249, 'lastCapGain': None, 'shortPercentOfFloat': 0.0063, 'sharesShortPriorMonth': 45696881, 'impliedSharesOutstanding': None, 'category': None, 'fiveYearAverageReturn': None, 'previousClose': 310.76, 'regularMarketOpen': 310.4, 'twoHundredDayAverage': 276.22885, 'trailingAnnualDividendYield': 0.0072081345, 'payoutRatio': 0.272, 'volume24Hr': None, 'regularMarketDayHigh': 311.09, 'navPrice': None, 'averageDailyVolume10Day': 20563571, 'regularMarketPreviousClose': 310.76, 'fiftyDayAverage': 297.27206, 'trailingAnnualDividendRate': 2.24, 'open': 310.4, 'toCurrency': None, 'averageVolume10days': 20563571, 'expireDate': None, 'algorithm': None, 'dividendRate': 2.48, 'exDividendDate': 1637107200, 'circulatingSupply': None, 'startDate': None, 'regularMarketDayLow': 307.8, 'currency': 'USD', 'trailingPE': 38.40497, 'regularMarketVolume': 17449332, 'lastMarket': None, 'maxSupply': None, 'openInterest': None, 'marketCap': 2321142251520, 'volumeAllCurrencies': None, 'strikePrice': None, 'averageVolume': 22355900, 'dayLow': 307.8, 'ask': 309, 'askSize': 900, 'volume': 17449332, 'fiftyTwoWeekHigh': 311.09, 'fromCurrency': None, 'fiveYearAvgDividendYield': 1.48, 'fiftyTwoWeekLow': 199.62, 'bid': 308.91, 'tradeable': False, 'dividendYield': 0.008, 'bidSize': 800, 'dayHigh': 311.09, 'regularMarketPrice': 309.16, 'preMarketPrice': None, 'logo_url': 'https://logo.clearbit.com/microsoft.com'}\n"
          ]
        },
        {
          "data": {
            "text/html": [
              "<div>\n",
              "<style scoped>\n",
              "    .dataframe tbody tr th:only-of-type {\n",
              "        vertical-align: middle;\n",
              "    }\n",
              "\n",
              "    .dataframe tbody tr th {\n",
              "        vertical-align: top;\n",
              "    }\n",
              "\n",
              "    .dataframe thead th {\n",
              "        text-align: right;\n",
              "    }\n",
              "</style>\n",
              "<table border=\"1\" class=\"dataframe\">\n",
              "  <thead>\n",
              "    <tr style=\"text-align: right;\">\n",
              "      <th></th>\n",
              "      <th>Open</th>\n",
              "      <th>High</th>\n",
              "      <th>Low</th>\n",
              "      <th>Close</th>\n",
              "      <th>Volume</th>\n",
              "      <th>Dividends</th>\n",
              "      <th>Stock Splits</th>\n",
              "    </tr>\n",
              "    <tr>\n",
              "      <th>Date</th>\n",
              "      <th></th>\n",
              "      <th></th>\n",
              "      <th></th>\n",
              "      <th></th>\n",
              "      <th></th>\n",
              "      <th></th>\n",
              "      <th></th>\n",
              "    </tr>\n",
              "  </thead>\n",
              "  <tbody>\n",
              "    <tr>\n",
              "      <th>2018-01-02</th>\n",
              "      <td>82.019692</td>\n",
              "      <td>82.191102</td>\n",
              "      <td>81.419760</td>\n",
              "      <td>81.848282</td>\n",
              "      <td>22483800</td>\n",
              "      <td>0.0</td>\n",
              "      <td>0</td>\n",
              "    </tr>\n",
              "    <tr>\n",
              "      <th>2018-01-03</th>\n",
              "      <td>81.953041</td>\n",
              "      <td>82.381570</td>\n",
              "      <td>81.867339</td>\n",
              "      <td>82.229202</td>\n",
              "      <td>26061400</td>\n",
              "      <td>0.0</td>\n",
              "      <td>0</td>\n",
              "    </tr>\n",
              "    <tr>\n",
              "      <th>2018-01-04</th>\n",
              "      <td>82.457746</td>\n",
              "      <td>83.476690</td>\n",
              "      <td>82.438703</td>\n",
              "      <td>82.952934</td>\n",
              "      <td>21912000</td>\n",
              "      <td>0.0</td>\n",
              "      <td>0</td>\n",
              "    </tr>\n",
              "    <tr>\n",
              "      <th>2018-01-05</th>\n",
              "      <td>83.476678</td>\n",
              "      <td>84.190887</td>\n",
              "      <td>83.257651</td>\n",
              "      <td>83.981384</td>\n",
              "      <td>23407100</td>\n",
              "      <td>0.0</td>\n",
              "      <td>0</td>\n",
              "    </tr>\n",
              "    <tr>\n",
              "      <th>2018-01-08</th>\n",
              "      <td>83.990917</td>\n",
              "      <td>84.352787</td>\n",
              "      <td>83.419551</td>\n",
              "      <td>84.067101</td>\n",
              "      <td>22113000</td>\n",
              "      <td>0.0</td>\n",
              "      <td>0</td>\n",
              "    </tr>\n",
              "    <tr>\n",
              "      <th>...</th>\n",
              "      <td>...</td>\n",
              "      <td>...</td>\n",
              "      <td>...</td>\n",
              "      <td>...</td>\n",
              "      <td>...</td>\n",
              "      <td>...</td>\n",
              "      <td>...</td>\n",
              "    </tr>\n",
              "    <tr>\n",
              "      <th>2018-12-24</th>\n",
              "      <td>94.628779</td>\n",
              "      <td>94.909721</td>\n",
              "      <td>91.044358</td>\n",
              "      <td>91.189667</td>\n",
              "      <td>43935200</td>\n",
              "      <td>0.0</td>\n",
              "      <td>0</td>\n",
              "    </tr>\n",
              "    <tr>\n",
              "      <th>2018-12-26</th>\n",
              "      <td>92.168114</td>\n",
              "      <td>97.544752</td>\n",
              "      <td>91.024973</td>\n",
              "      <td>97.418808</td>\n",
              "      <td>51634800</td>\n",
              "      <td>0.0</td>\n",
              "      <td>0</td>\n",
              "    </tr>\n",
              "    <tr>\n",
              "      <th>2018-12-27</th>\n",
              "      <td>96.198168</td>\n",
              "      <td>98.029129</td>\n",
              "      <td>93.388754</td>\n",
              "      <td>98.019440</td>\n",
              "      <td>49498500</td>\n",
              "      <td>0.0</td>\n",
              "      <td>0</td>\n",
              "    </tr>\n",
              "    <tr>\n",
              "      <th>2018-12-28</th>\n",
              "      <td>98.901022</td>\n",
              "      <td>99.211033</td>\n",
              "      <td>96.411301</td>\n",
              "      <td>97.254128</td>\n",
              "      <td>38196300</td>\n",
              "      <td>0.0</td>\n",
              "      <td>0</td>\n",
              "    </tr>\n",
              "    <tr>\n",
              "      <th>2018-12-31</th>\n",
              "      <td>98.126010</td>\n",
              "      <td>99.201338</td>\n",
              "      <td>97.302563</td>\n",
              "      <td>98.397263</td>\n",
              "      <td>33173800</td>\n",
              "      <td>0.0</td>\n",
              "      <td>0</td>\n",
              "    </tr>\n",
              "  </tbody>\n",
              "</table>\n",
              "<p>251 rows × 7 columns</p>\n",
              "</div>"
            ],
            "text/plain": [
              "                 Open       High        Low  ...    Volume  Dividends  Stock Splits\n",
              "Date                                         ...                                   \n",
              "2018-01-02  82.019692  82.191102  81.419760  ...  22483800        0.0             0\n",
              "2018-01-03  81.953041  82.381570  81.867339  ...  26061400        0.0             0\n",
              "2018-01-04  82.457746  83.476690  82.438703  ...  21912000        0.0             0\n",
              "2018-01-05  83.476678  84.190887  83.257651  ...  23407100        0.0             0\n",
              "2018-01-08  83.990917  84.352787  83.419551  ...  22113000        0.0             0\n",
              "...               ...        ...        ...  ...       ...        ...           ...\n",
              "2018-12-24  94.628779  94.909721  91.044358  ...  43935200        0.0             0\n",
              "2018-12-26  92.168114  97.544752  91.024973  ...  51634800        0.0             0\n",
              "2018-12-27  96.198168  98.029129  93.388754  ...  49498500        0.0             0\n",
              "2018-12-28  98.901022  99.211033  96.411301  ...  38196300        0.0             0\n",
              "2018-12-31  98.126010  99.201338  97.302563  ...  33173800        0.0             0\n",
              "\n",
              "[251 rows x 7 columns]"
            ]
          },
          "execution_count": 2,
          "metadata": {},
          "output_type": "execute_result"
        }
      ],
      "source": [
        "import yfinance as yf\n",
        "\n",
        "msft = yf.Ticker(\"MSFT\")\n",
        "\n",
        "# get stock info\n",
        "print(msft.info)\n",
        "\n",
        "# get historical market data\n",
        "data = msft.history(start=\"2018-01-01\",  end=\"2019-01-01\")\n",
        "data"
      ]
    },
    {
      "cell_type": "code",
      "execution_count": 20,
      "metadata": {
        "colab": {
          "base_uri": "https://localhost:8080/",
          "height": 493
        },
        "id": "YXCpJqG7AQgx",
        "outputId": "ddd94b4e-f29f-4451-8100-a32be63f83f2"
      },
      "outputs": [
        {
          "name": "stdout",
          "output_type": "stream",
          "text": [
            "{'zip': '95054-1549', 'sector': 'Technology', 'fullTimeEmployees': 113700, 'longBusinessSummary': 'Intel Corporation designs, manufactures, and sells essential technologies for the cloud, smart, and connected devices for retail, industrial, and consumer uses worldwide. The company operates through DCG, IOTG, Mobileye, NSG, PSG, CCG, and All Other segments. It offers platform products, such as central processing units and chipsets, and system-on-chip and multichip packages; and non-platform or adjacent products comprising accelerators, boards and systems, connectivity products, and memory and storage products. The company also provides Internet of Things products, including high-performance compute solutions for targeted verticals and embedded applications; and computer vision and machine learning-based sensing, data analysis, localization, mapping, and driving policy technology. It serves original equipment manufacturers, original design manufacturers, and cloud service providers. Intel Corporation has a strategic partnership with MILA to develop and apply advances in artificial intelligence methods for enhancing the search in the space of drugs. The company was founded in 1968 and is headquartered in Santa Clara, California.', 'city': 'Santa Clara', 'phone': '408 765 8080', 'state': 'CA', 'country': 'United States', 'companyOfficers': [], 'website': 'http://www.intel.com', 'maxAge': 1, 'address1': '2200 Mission College Boulevard', 'industry': 'Semiconductors', 'ebitdaMargins': 0.44643003, 'profitMargins': 0.23906, 'grossMargins': 0.55594003, 'operatingCashflow': 32362999808, 'revenueGrowth': -0.005, 'operatingMargins': 0.29331, 'ebitda': 34650001408, 'targetLowPrice': 40, 'recommendationKey': 'hold', 'grossProfits': 43612000000, 'freeCashflow': 6619250176, 'targetMedianPrice': 60, 'currentPrice': 49.46, 'earningsGrowth': 0.042, 'currentRatio': 1.988, 'returnOnAssets': 0.092650004, 'numberOfAnalystOpinions': 39, 'targetMeanPrice': 61.87, 'debtToEquity': 41.556, 'returnOnEquity': 0.22193001, 'targetHighPrice': 85, 'totalCash': 24856999936, 'totalDebt': 35408998400, 'totalRevenue': 77614997504, 'totalCashPerShare': 6.127, 'financialCurrency': 'USD', 'revenuePerShare': 18.942, 'quickRatio': 1.301, 'recommendationMean': 2.8, 'exchange': 'NMS', 'shortName': 'Intel Corporation', 'longName': 'Intel Corporation', 'exchangeTimezoneName': 'America/New_York', 'exchangeTimezoneShortName': 'EDT', 'isEsgPopulated': False, 'gmtOffSetMilliseconds': '-14400000', 'quoteType': 'EQUITY', 'symbol': 'INTC', 'messageBoardId': 'finmb_21127', 'market': 'us_market', 'annualHoldingsTurnover': None, 'enterpriseToRevenue': 2.721, 'beta3Year': None, 'enterpriseToEbitda': 6.096, '52WeekChange': 0.058647275, 'morningStarRiskRating': None, 'forwardEps': 4.41, 'revenueQuarterlyGrowth': None, 'sharesOutstanding': 4056999936, 'fundInceptionDate': None, 'annualReportExpenseRatio': None, 'totalAssets': None, 'bookValue': 21.002, 'sharesShort': 58948195, 'sharesPercentSharesOut': 0.0145000005, 'fundFamily': None, 'lastFiscalYearEnd': 1608940800, 'heldPercentInstitutions': 0.6497, 'netIncomeToCommon': 18555000832, 'trailingEps': 4.503, 'lastDividendValue': 0.348, 'SandP52WeekChange': 0.33635402, 'priceToBook': 2.3550136, 'heldPercentInsiders': 0.0007, 'nextFiscalYearEnd': 1672012800, 'yield': None, 'mostRecentQuarter': 1624665600, 'shortRatio': 3.01, 'sharesShortPreviousMonthDate': 1630368000, 'floatShares': 4053348700, 'beta': 0.592063, 'enterpriseValue': 211211223040, 'priceHint': 2, 'threeYearAverageReturn': None, 'lastSplitDate': 965001600, 'lastSplitFactor': '2:1', 'legalType': None, 'lastDividendDate': 1628121600, 'morningStarOverallRating': None, 'earningsQuarterlyGrowth': -0.009, 'priceToSalesTrailing12Months': 2.5916874, 'dateShortInterest': 1632960000, 'pegRatio': 1.17, 'ytdReturn': None, 'forwardPE': 11.21542, 'lastCapGain': None, 'shortPercentOfFloat': 0.0145000005, 'sharesShortPriorMonth': 58851153, 'impliedSharesOutstanding': None, 'category': None, 'fiveYearAverageReturn': None, 'previousClose': 56, 'regularMarketOpen': 50.39, 'twoHundredDayAverage': 55.93293, 'trailingAnnualDividendYield': 0.02419643, 'payoutRatio': 0.2665, 'volume24Hr': None, 'regularMarketDayHigh': 50.55, 'navPrice': None, 'averageDailyVolume10Day': 36807357, 'regularMarketPreviousClose': 56, 'fiftyDayAverage': 53.85882, 'trailingAnnualDividendRate': 1.355, 'open': 50.39, 'toCurrency': None, 'averageVolume10days': 36807357, 'expireDate': None, 'algorithm': None, 'dividendRate': 1.39, 'exDividendDate': 1635984000, 'circulatingSupply': None, 'startDate': None, 'regularMarketDayLow': 49.14, 'currency': 'USD', 'trailingPE': 10.9837885, 'regularMarketVolume': 108409258, 'lastMarket': None, 'maxSupply': None, 'openInterest': None, 'marketCap': 201153822720, 'volumeAllCurrencies': None, 'strikePrice': None, 'averageVolume': 21809821, 'dayLow': 49.14, 'ask': 49.44, 'askSize': 36100, 'volume': 108409258, 'fiftyTwoWeekHigh': 68.49, 'fromCurrency': None, 'fiveYearAvgDividendYield': 2.49, 'fiftyTwoWeekLow': 43.61, 'bid': 49.42, 'tradeable': False, 'dividendYield': 0.028099999, 'bidSize': 36200, 'dayHigh': 50.55, 'regularMarketPrice': 49.46, 'preMarketPrice': None, 'logo_url': 'https://logo.clearbit.com/intel.com'}\n"
          ]
        },
        {
          "data": {
            "text/html": [
              "<div>\n",
              "<style scoped>\n",
              "    .dataframe tbody tr th:only-of-type {\n",
              "        vertical-align: middle;\n",
              "    }\n",
              "\n",
              "    .dataframe tbody tr th {\n",
              "        vertical-align: top;\n",
              "    }\n",
              "\n",
              "    .dataframe thead th {\n",
              "        text-align: right;\n",
              "    }\n",
              "</style>\n",
              "<table border=\"1\" class=\"dataframe\">\n",
              "  <thead>\n",
              "    <tr style=\"text-align: right;\">\n",
              "      <th></th>\n",
              "      <th>Open</th>\n",
              "      <th>High</th>\n",
              "      <th>Low</th>\n",
              "      <th>Close</th>\n",
              "      <th>Volume</th>\n",
              "      <th>Dividends</th>\n",
              "      <th>Stock Splits</th>\n",
              "    </tr>\n",
              "    <tr>\n",
              "      <th>Date</th>\n",
              "      <th></th>\n",
              "      <th></th>\n",
              "      <th></th>\n",
              "      <th></th>\n",
              "      <th></th>\n",
              "      <th></th>\n",
              "      <th></th>\n",
              "    </tr>\n",
              "  </thead>\n",
              "  <tbody>\n",
              "    <tr>\n",
              "      <th>2010-01-04</th>\n",
              "      <td>14.614829</td>\n",
              "      <td>14.783543</td>\n",
              "      <td>14.572650</td>\n",
              "      <td>14.678096</td>\n",
              "      <td>47800900</td>\n",
              "      <td>0.0</td>\n",
              "      <td>0</td>\n",
              "    </tr>\n",
              "    <tr>\n",
              "      <th>2010-01-05</th>\n",
              "      <td>14.720279</td>\n",
              "      <td>14.755427</td>\n",
              "      <td>14.481268</td>\n",
              "      <td>14.671071</td>\n",
              "      <td>52357700</td>\n",
              "      <td>0.0</td>\n",
              "      <td>0</td>\n",
              "    </tr>\n",
              "    <tr>\n",
              "      <th>2010-01-06</th>\n",
              "      <td>14.628894</td>\n",
              "      <td>14.713252</td>\n",
              "      <td>14.530478</td>\n",
              "      <td>14.621864</td>\n",
              "      <td>40037400</td>\n",
              "      <td>0.0</td>\n",
              "      <td>0</td>\n",
              "    </tr>\n",
              "    <tr>\n",
              "      <th>2010-01-07</th>\n",
              "      <td>14.572653</td>\n",
              "      <td>14.593743</td>\n",
              "      <td>14.298494</td>\n",
              "      <td>14.481267</td>\n",
              "      <td>54041500</td>\n",
              "      <td>0.0</td>\n",
              "      <td>0</td>\n",
              "    </tr>\n",
              "    <tr>\n",
              "      <th>2010-01-08</th>\n",
              "      <td>14.439084</td>\n",
              "      <td>14.685123</td>\n",
              "      <td>14.340666</td>\n",
              "      <td>14.642945</td>\n",
              "      <td>48234700</td>\n",
              "      <td>0.0</td>\n",
              "      <td>0</td>\n",
              "    </tr>\n",
              "    <tr>\n",
              "      <th>...</th>\n",
              "      <td>...</td>\n",
              "      <td>...</td>\n",
              "      <td>...</td>\n",
              "      <td>...</td>\n",
              "      <td>...</td>\n",
              "      <td>...</td>\n",
              "      <td>...</td>\n",
              "    </tr>\n",
              "    <tr>\n",
              "      <th>2017-12-22</th>\n",
              "      <td>42.227223</td>\n",
              "      <td>42.856119</td>\n",
              "      <td>41.944674</td>\n",
              "      <td>42.564457</td>\n",
              "      <td>33913500</td>\n",
              "      <td>0.0</td>\n",
              "      <td>0</td>\n",
              "    </tr>\n",
              "    <tr>\n",
              "      <th>2017-12-26</th>\n",
              "      <td>42.181638</td>\n",
              "      <td>42.354814</td>\n",
              "      <td>41.880863</td>\n",
              "      <td>41.999352</td>\n",
              "      <td>15533300</td>\n",
              "      <td>0.0</td>\n",
              "      <td>0</td>\n",
              "    </tr>\n",
              "    <tr>\n",
              "      <th>2017-12-27</th>\n",
              "      <td>42.026695</td>\n",
              "      <td>42.254556</td>\n",
              "      <td>41.926436</td>\n",
              "      <td>42.026695</td>\n",
              "      <td>13359700</td>\n",
              "      <td>0.0</td>\n",
              "      <td>0</td>\n",
              "    </tr>\n",
              "    <tr>\n",
              "      <th>2017-12-28</th>\n",
              "      <td>42.254559</td>\n",
              "      <td>42.254559</td>\n",
              "      <td>41.880867</td>\n",
              "      <td>42.126957</td>\n",
              "      <td>9504400</td>\n",
              "      <td>0.0</td>\n",
              "      <td>0</td>\n",
              "    </tr>\n",
              "    <tr>\n",
              "      <th>2017-12-29</th>\n",
              "      <td>42.117837</td>\n",
              "      <td>42.373044</td>\n",
              "      <td>42.008465</td>\n",
              "      <td>42.072266</td>\n",
              "      <td>17394500</td>\n",
              "      <td>0.0</td>\n",
              "      <td>0</td>\n",
              "    </tr>\n",
              "  </tbody>\n",
              "</table>\n",
              "<p>2013 rows × 7 columns</p>\n",
              "</div>"
            ],
            "text/plain": [
              "                 Open       High        Low  ...    Volume  Dividends  Stock Splits\n",
              "Date                                         ...                                   \n",
              "2010-01-04  14.614829  14.783543  14.572650  ...  47800900        0.0             0\n",
              "2010-01-05  14.720279  14.755427  14.481268  ...  52357700        0.0             0\n",
              "2010-01-06  14.628894  14.713252  14.530478  ...  40037400        0.0             0\n",
              "2010-01-07  14.572653  14.593743  14.298494  ...  54041500        0.0             0\n",
              "2010-01-08  14.439084  14.685123  14.340666  ...  48234700        0.0             0\n",
              "...               ...        ...        ...  ...       ...        ...           ...\n",
              "2017-12-22  42.227223  42.856119  41.944674  ...  33913500        0.0             0\n",
              "2017-12-26  42.181638  42.354814  41.880863  ...  15533300        0.0             0\n",
              "2017-12-27  42.026695  42.254556  41.926436  ...  13359700        0.0             0\n",
              "2017-12-28  42.254559  42.254559  41.880867  ...   9504400        0.0             0\n",
              "2017-12-29  42.117837  42.373044  42.008465  ...  17394500        0.0             0\n",
              "\n",
              "[2013 rows x 7 columns]"
            ]
          },
          "execution_count": 20,
          "metadata": {},
          "output_type": "execute_result"
        }
      ],
      "source": [
        "intc = yf.Ticker(\"INTC\")\n",
        "\n",
        "# get stock info\n",
        "print(intc.info)\n",
        "\n",
        "# get historical market data\n",
        "data_i = intc.history(start=\"2010-01-01\",  end=\"2017-12-31\")\n",
        "data_i"
      ]
    },
    {
      "cell_type": "code",
      "execution_count": null,
      "metadata": {
        "colab": {
          "base_uri": "https://localhost:8080/",
          "height": 185
        },
        "id": "MtdKB8QVA4-q",
        "outputId": "8ba06210-792a-4b7d-9a1e-e6b0f04c042a"
      },
      "outputs": [
        {
          "ename": "NameError",
          "evalue": "ignored",
          "output_type": "error",
          "traceback": [
            "\u001b[0;31m---------------------------------------------------------------------------\u001b[0m",
            "\u001b[0;31mNameError\u001b[0m                                 Traceback (most recent call last)",
            "\u001b[0;32m<ipython-input-6-54c331ec1726>\u001b[0m in \u001b[0;36m<module>\u001b[0;34m()\u001b[0m\n\u001b[1;32m      1\u001b[0m \u001b[0;32mdel\u001b[0m \u001b[0mdata\u001b[0m\u001b[0;34m\u001b[0m\u001b[0;34m\u001b[0m\u001b[0m\n\u001b[0;32m----> 2\u001b[0;31m \u001b[0mdata\u001b[0m\u001b[0;34m\u001b[0m\u001b[0;34m\u001b[0m\u001b[0m\n\u001b[0m",
            "\u001b[0;31mNameError\u001b[0m: name 'data' is not defined"
          ]
        }
      ],
      "source": [
        "del data\n",
        "data"
      ]
    },
    {
      "cell_type": "code",
      "execution_count": null,
      "metadata": {
        "colab": {
          "base_uri": "https://localhost:8080/",
          "height": 185
        },
        "id": "h5iG45AjBBdj",
        "outputId": "9bfd425c-c034-492d-c05a-9011de85d40a"
      },
      "outputs": [
        {
          "ename": "NameError",
          "evalue": "ignored",
          "output_type": "error",
          "traceback": [
            "\u001b[0;31m---------------------------------------------------------------------------\u001b[0m",
            "\u001b[0;31mNameError\u001b[0m                                 Traceback (most recent call last)",
            "\u001b[0;32m<ipython-input-7-2923b4386cc5>\u001b[0m in \u001b[0;36m<module>\u001b[0;34m()\u001b[0m\n\u001b[1;32m      1\u001b[0m \u001b[0;32mdel\u001b[0m \u001b[0mdata_i\u001b[0m\u001b[0;34m\u001b[0m\u001b[0;34m\u001b[0m\u001b[0m\n\u001b[0;32m----> 2\u001b[0;31m \u001b[0mdata_i\u001b[0m\u001b[0;34m\u001b[0m\u001b[0;34m\u001b[0m\u001b[0m\n\u001b[0m",
            "\u001b[0;31mNameError\u001b[0m: name 'data_i' is not defined"
          ]
        }
      ],
      "source": [
        "del data_i\n",
        "data_i"
      ]
    },
    {
      "cell_type": "markdown",
      "metadata": {
        "id": "HWeRJk2v1ddk"
      },
      "source": [
        "## 2. Download the data from Yahoo Finance in a CSV (Coma Sperated Values .csv )file, upload the file in GutHub and read the data using the *read_csv* function form *pandas*\n",
        "\n",
        "> - Download the data from Yahoo Finance in a CSV file\n",
        ">> 1. Open [finance.yahoo.com](https://finance.yahoo.com/)\n",
        ">> 2. Search for the company in thisd case MSFT or Microsoft\n",
        ">> 3. Go to ** Historical Data ** and set Time Period:Mar 04,2020-Mar 04,2021, Show:Historical Prices, Frequency:Daily\n",
        ">> ![alt text](https://raw.githubusercontent.com/gjhernandezp/algorithms/master/Python/YahooFinanceData.png)\n",
        "\n",
        ">>4. Download the file data *MSFT.csv*\n",
        ">-  Upload  the file *MSFT.csv*  in  a *github repository*  \n",
        ">-  Read the data using the *read_csv* function form *pandas*\n",
        ">>> ```python\n",
        "import pandas as pd\n",
        "data = pd.read_csv('https://raw.githubusercontent.com/gjhernandezp/algorithms/master/Python/MSFT.csv')\n",
        "```"
      ]
    },
    {
      "cell_type": "code",
      "execution_count": 8,
      "metadata": {
        "colab": {
          "base_uri": "https://localhost:8080/",
          "height": 424
        },
        "id": "cKCbZ1Fa3S7s",
        "outputId": "b37b00c9-7acb-4752-e8f1-5ca40edf2618"
      },
      "outputs": [
        {
          "data": {
            "text/html": [
              "<div>\n",
              "<style scoped>\n",
              "    .dataframe tbody tr th:only-of-type {\n",
              "        vertical-align: middle;\n",
              "    }\n",
              "\n",
              "    .dataframe tbody tr th {\n",
              "        vertical-align: top;\n",
              "    }\n",
              "\n",
              "    .dataframe thead th {\n",
              "        text-align: right;\n",
              "    }\n",
              "</style>\n",
              "<table border=\"1\" class=\"dataframe\">\n",
              "  <thead>\n",
              "    <tr style=\"text-align: right;\">\n",
              "      <th></th>\n",
              "      <th>Date</th>\n",
              "      <th>Open</th>\n",
              "      <th>High</th>\n",
              "      <th>Low</th>\n",
              "      <th>Close</th>\n",
              "      <th>Adj Close</th>\n",
              "      <th>Volume</th>\n",
              "    </tr>\n",
              "  </thead>\n",
              "  <tbody>\n",
              "    <tr>\n",
              "      <th>0</th>\n",
              "      <td>2020-03-04</td>\n",
              "      <td>168.490005</td>\n",
              "      <td>170.699997</td>\n",
              "      <td>165.619995</td>\n",
              "      <td>170.550003</td>\n",
              "      <td>168.834290</td>\n",
              "      <td>49814400</td>\n",
              "    </tr>\n",
              "    <tr>\n",
              "      <th>1</th>\n",
              "      <td>2020-03-05</td>\n",
              "      <td>166.050003</td>\n",
              "      <td>170.869995</td>\n",
              "      <td>165.690002</td>\n",
              "      <td>166.270004</td>\n",
              "      <td>164.597351</td>\n",
              "      <td>47817300</td>\n",
              "    </tr>\n",
              "    <tr>\n",
              "      <th>2</th>\n",
              "      <td>2020-03-06</td>\n",
              "      <td>162.610001</td>\n",
              "      <td>163.110001</td>\n",
              "      <td>156.000000</td>\n",
              "      <td>161.570007</td>\n",
              "      <td>159.944641</td>\n",
              "      <td>72821100</td>\n",
              "    </tr>\n",
              "    <tr>\n",
              "      <th>3</th>\n",
              "      <td>2020-03-09</td>\n",
              "      <td>151.000000</td>\n",
              "      <td>157.750000</td>\n",
              "      <td>150.000000</td>\n",
              "      <td>150.619995</td>\n",
              "      <td>149.104797</td>\n",
              "      <td>70419300</td>\n",
              "    </tr>\n",
              "    <tr>\n",
              "      <th>4</th>\n",
              "      <td>2020-03-10</td>\n",
              "      <td>158.160004</td>\n",
              "      <td>161.029999</td>\n",
              "      <td>152.580002</td>\n",
              "      <td>160.919998</td>\n",
              "      <td>159.301178</td>\n",
              "      <td>65354400</td>\n",
              "    </tr>\n",
              "    <tr>\n",
              "      <th>...</th>\n",
              "      <td>...</td>\n",
              "      <td>...</td>\n",
              "      <td>...</td>\n",
              "      <td>...</td>\n",
              "      <td>...</td>\n",
              "      <td>...</td>\n",
              "      <td>...</td>\n",
              "    </tr>\n",
              "    <tr>\n",
              "      <th>248</th>\n",
              "      <td>2021-02-26</td>\n",
              "      <td>231.529999</td>\n",
              "      <td>235.369995</td>\n",
              "      <td>229.539993</td>\n",
              "      <td>232.380005</td>\n",
              "      <td>232.380005</td>\n",
              "      <td>37811200</td>\n",
              "    </tr>\n",
              "    <tr>\n",
              "      <th>249</th>\n",
              "      <td>2021-03-01</td>\n",
              "      <td>235.899994</td>\n",
              "      <td>237.470001</td>\n",
              "      <td>233.149994</td>\n",
              "      <td>236.940002</td>\n",
              "      <td>236.940002</td>\n",
              "      <td>25324000</td>\n",
              "    </tr>\n",
              "    <tr>\n",
              "      <th>250</th>\n",
              "      <td>2021-03-02</td>\n",
              "      <td>237.009995</td>\n",
              "      <td>237.300003</td>\n",
              "      <td>233.449997</td>\n",
              "      <td>233.869995</td>\n",
              "      <td>233.869995</td>\n",
              "      <td>22785500</td>\n",
              "    </tr>\n",
              "    <tr>\n",
              "      <th>251</th>\n",
              "      <td>2021-03-03</td>\n",
              "      <td>232.160004</td>\n",
              "      <td>233.580002</td>\n",
              "      <td>227.259995</td>\n",
              "      <td>227.559998</td>\n",
              "      <td>227.559998</td>\n",
              "      <td>33950400</td>\n",
              "    </tr>\n",
              "    <tr>\n",
              "      <th>252</th>\n",
              "      <td>2021-03-04</td>\n",
              "      <td>226.735001</td>\n",
              "      <td>232.490005</td>\n",
              "      <td>224.259995</td>\n",
              "      <td>226.100006</td>\n",
              "      <td>226.100006</td>\n",
              "      <td>30092265</td>\n",
              "    </tr>\n",
              "  </tbody>\n",
              "</table>\n",
              "<p>253 rows × 7 columns</p>\n",
              "</div>"
            ],
            "text/plain": [
              "           Date        Open        High  ...       Close   Adj Close    Volume\n",
              "0    2020-03-04  168.490005  170.699997  ...  170.550003  168.834290  49814400\n",
              "1    2020-03-05  166.050003  170.869995  ...  166.270004  164.597351  47817300\n",
              "2    2020-03-06  162.610001  163.110001  ...  161.570007  159.944641  72821100\n",
              "3    2020-03-09  151.000000  157.750000  ...  150.619995  149.104797  70419300\n",
              "4    2020-03-10  158.160004  161.029999  ...  160.919998  159.301178  65354400\n",
              "..          ...         ...         ...  ...         ...         ...       ...\n",
              "248  2021-02-26  231.529999  235.369995  ...  232.380005  232.380005  37811200\n",
              "249  2021-03-01  235.899994  237.470001  ...  236.940002  236.940002  25324000\n",
              "250  2021-03-02  237.009995  237.300003  ...  233.869995  233.869995  22785500\n",
              "251  2021-03-03  232.160004  233.580002  ...  227.559998  227.559998  33950400\n",
              "252  2021-03-04  226.735001  232.490005  ...  226.100006  226.100006  30092265\n",
              "\n",
              "[253 rows x 7 columns]"
            ]
          },
          "execution_count": 8,
          "metadata": {},
          "output_type": "execute_result"
        }
      ],
      "source": [
        "import pandas as pd\n",
        "data = pd.read_csv('https://raw.githubusercontent.com/gjhernandezp/algorithms/master/Python/MSFT.csv')\n",
        "data"
      ]
    },
    {
      "cell_type": "code",
      "execution_count": 9,
      "metadata": {
        "id": "vWw9FL4p4CiU"
      },
      "outputs": [],
      "source": [
        "del data"
      ]
    },
    {
      "cell_type": "code",
      "execution_count": 10,
      "metadata": {
        "colab": {
          "base_uri": "https://localhost:8080/",
          "height": 424
        },
        "id": "qyHCeKXsCI_8",
        "outputId": "721930e9-3d76-4b8f-96e9-201a0d97b514"
      },
      "outputs": [
        {
          "data": {
            "text/html": [
              "<div>\n",
              "<style scoped>\n",
              "    .dataframe tbody tr th:only-of-type {\n",
              "        vertical-align: middle;\n",
              "    }\n",
              "\n",
              "    .dataframe tbody tr th {\n",
              "        vertical-align: top;\n",
              "    }\n",
              "\n",
              "    .dataframe thead th {\n",
              "        text-align: right;\n",
              "    }\n",
              "</style>\n",
              "<table border=\"1\" class=\"dataframe\">\n",
              "  <thead>\n",
              "    <tr style=\"text-align: right;\">\n",
              "      <th></th>\n",
              "      <th>Date</th>\n",
              "      <th>Open</th>\n",
              "      <th>High</th>\n",
              "      <th>Low</th>\n",
              "      <th>Close</th>\n",
              "      <th>Adj Close</th>\n",
              "      <th>Volume</th>\n",
              "    </tr>\n",
              "  </thead>\n",
              "  <tbody>\n",
              "    <tr>\n",
              "      <th>0</th>\n",
              "      <td>2010-01-04</td>\n",
              "      <td>20.790001</td>\n",
              "      <td>21.030001</td>\n",
              "      <td>20.730000</td>\n",
              "      <td>20.879999</td>\n",
              "      <td>14.678102</td>\n",
              "      <td>47800900</td>\n",
              "    </tr>\n",
              "    <tr>\n",
              "      <th>1</th>\n",
              "      <td>2010-01-05</td>\n",
              "      <td>20.940001</td>\n",
              "      <td>20.990000</td>\n",
              "      <td>20.600000</td>\n",
              "      <td>20.870001</td>\n",
              "      <td>14.671071</td>\n",
              "      <td>52357700</td>\n",
              "    </tr>\n",
              "    <tr>\n",
              "      <th>2</th>\n",
              "      <td>2010-01-06</td>\n",
              "      <td>20.809999</td>\n",
              "      <td>20.930000</td>\n",
              "      <td>20.670000</td>\n",
              "      <td>20.799999</td>\n",
              "      <td>14.621859</td>\n",
              "      <td>40037400</td>\n",
              "    </tr>\n",
              "    <tr>\n",
              "      <th>3</th>\n",
              "      <td>2010-01-07</td>\n",
              "      <td>20.730000</td>\n",
              "      <td>20.760000</td>\n",
              "      <td>20.340000</td>\n",
              "      <td>20.600000</td>\n",
              "      <td>14.481262</td>\n",
              "      <td>54041500</td>\n",
              "    </tr>\n",
              "    <tr>\n",
              "      <th>4</th>\n",
              "      <td>2010-01-08</td>\n",
              "      <td>20.540001</td>\n",
              "      <td>20.889999</td>\n",
              "      <td>20.400000</td>\n",
              "      <td>20.830000</td>\n",
              "      <td>14.642952</td>\n",
              "      <td>48234700</td>\n",
              "    </tr>\n",
              "    <tr>\n",
              "      <th>...</th>\n",
              "      <td>...</td>\n",
              "      <td>...</td>\n",
              "      <td>...</td>\n",
              "      <td>...</td>\n",
              "      <td>...</td>\n",
              "      <td>...</td>\n",
              "      <td>...</td>\n",
              "    </tr>\n",
              "    <tr>\n",
              "      <th>2008</th>\n",
              "      <td>2017-12-22</td>\n",
              "      <td>46.330002</td>\n",
              "      <td>47.020000</td>\n",
              "      <td>46.020000</td>\n",
              "      <td>46.700001</td>\n",
              "      <td>42.564445</td>\n",
              "      <td>33913500</td>\n",
              "    </tr>\n",
              "    <tr>\n",
              "      <th>2009</th>\n",
              "      <td>2017-12-26</td>\n",
              "      <td>46.279999</td>\n",
              "      <td>46.470001</td>\n",
              "      <td>45.950001</td>\n",
              "      <td>46.080002</td>\n",
              "      <td>41.999352</td>\n",
              "      <td>15533300</td>\n",
              "    </tr>\n",
              "    <tr>\n",
              "      <th>2010</th>\n",
              "      <td>2017-12-27</td>\n",
              "      <td>46.110001</td>\n",
              "      <td>46.360001</td>\n",
              "      <td>46.000000</td>\n",
              "      <td>46.110001</td>\n",
              "      <td>42.026695</td>\n",
              "      <td>13359700</td>\n",
              "    </tr>\n",
              "    <tr>\n",
              "      <th>2011</th>\n",
              "      <td>2017-12-28</td>\n",
              "      <td>46.360001</td>\n",
              "      <td>46.360001</td>\n",
              "      <td>45.950001</td>\n",
              "      <td>46.220001</td>\n",
              "      <td>42.126949</td>\n",
              "      <td>9504400</td>\n",
              "    </tr>\n",
              "    <tr>\n",
              "      <th>2012</th>\n",
              "      <td>2017-12-29</td>\n",
              "      <td>46.209999</td>\n",
              "      <td>46.490002</td>\n",
              "      <td>46.090000</td>\n",
              "      <td>46.160000</td>\n",
              "      <td>42.072262</td>\n",
              "      <td>17394500</td>\n",
              "    </tr>\n",
              "  </tbody>\n",
              "</table>\n",
              "<p>2013 rows × 7 columns</p>\n",
              "</div>"
            ],
            "text/plain": [
              "            Date       Open       High  ...      Close  Adj Close    Volume\n",
              "0     2010-01-04  20.790001  21.030001  ...  20.879999  14.678102  47800900\n",
              "1     2010-01-05  20.940001  20.990000  ...  20.870001  14.671071  52357700\n",
              "2     2010-01-06  20.809999  20.930000  ...  20.799999  14.621859  40037400\n",
              "3     2010-01-07  20.730000  20.760000  ...  20.600000  14.481262  54041500\n",
              "4     2010-01-08  20.540001  20.889999  ...  20.830000  14.642952  48234700\n",
              "...          ...        ...        ...  ...        ...        ...       ...\n",
              "2008  2017-12-22  46.330002  47.020000  ...  46.700001  42.564445  33913500\n",
              "2009  2017-12-26  46.279999  46.470001  ...  46.080002  41.999352  15533300\n",
              "2010  2017-12-27  46.110001  46.360001  ...  46.110001  42.026695  13359700\n",
              "2011  2017-12-28  46.360001  46.360001  ...  46.220001  42.126949   9504400\n",
              "2012  2017-12-29  46.209999  46.490002  ...  46.160000  42.072262  17394500\n",
              "\n",
              "[2013 rows x 7 columns]"
            ]
          },
          "execution_count": 10,
          "metadata": {},
          "output_type": "execute_result"
        }
      ],
      "source": [
        "data_i = pd.read_csv('https://raw.githubusercontent.com/jupachonc/AlgorithmsUN2021II/master/Lab1/INTC.csv')\n",
        "data_i"
      ]
    },
    {
      "cell_type": "code",
      "execution_count": 11,
      "metadata": {
        "id": "iftaBFHdCt9_"
      },
      "outputs": [],
      "source": [
        "del data_i"
      ]
    },
    {
      "cell_type": "markdown",
      "metadata": {
        "id": "18bpHcVMvT0L"
      },
      "source": [
        "## 3. Download the data from Yahoo Finance in a CSV (Coma Sperated Values .csv )file and read the data using the *read_csv* function form *pandas*\n",
        "> - Download the data from Yahoo Finance in a CSV file\n",
        ">> Smae steps that in the previous alternative\n",
        ">-  Upload  the file *MSFT.csv*  in *\\content* in the virtual machine provided by Google Colab \n",
        "\n",
        ">>>  ![alt text](https://raw.githubusercontent.com/gjhernandezp/algorithms/master/Python/read_csv.png)\n",
        "\n",
        ">-  Read the data using the *read_csv* function form *pandas*\n",
        ">>> ```python\n",
        "import pandas as pd\n",
        "data = pd.read_csv('MSFTcsv')\n",
        "```\n",
        "\n",
        "The inconvenient with this alternative is that when the machine expires the file is deleted"
      ]
    },
    {
      "cell_type": "code",
      "execution_count": null,
      "metadata": {
        "colab": {
          "base_uri": "https://localhost:8080/",
          "height": 419
        },
        "id": "Pq6aCPhe1VCc",
        "outputId": "2c979d39-4d71-4a11-9810-55910c830ad3"
      },
      "outputs": [
        {
          "data": {
            "text/html": [
              "<div>\n",
              "<style scoped>\n",
              "    .dataframe tbody tr th:only-of-type {\n",
              "        vertical-align: middle;\n",
              "    }\n",
              "\n",
              "    .dataframe tbody tr th {\n",
              "        vertical-align: top;\n",
              "    }\n",
              "\n",
              "    .dataframe thead th {\n",
              "        text-align: right;\n",
              "    }\n",
              "</style>\n",
              "<table border=\"1\" class=\"dataframe\">\n",
              "  <thead>\n",
              "    <tr style=\"text-align: right;\">\n",
              "      <th></th>\n",
              "      <th>Date</th>\n",
              "      <th>Open</th>\n",
              "      <th>High</th>\n",
              "      <th>Low</th>\n",
              "      <th>Close</th>\n",
              "      <th>Adj Close</th>\n",
              "      <th>Volume</th>\n",
              "    </tr>\n",
              "  </thead>\n",
              "  <tbody>\n",
              "    <tr>\n",
              "      <th>0</th>\n",
              "      <td>2020-03-04</td>\n",
              "      <td>168.490005</td>\n",
              "      <td>170.699997</td>\n",
              "      <td>165.619995</td>\n",
              "      <td>170.550003</td>\n",
              "      <td>168.834290</td>\n",
              "      <td>49814400</td>\n",
              "    </tr>\n",
              "    <tr>\n",
              "      <th>1</th>\n",
              "      <td>2020-03-05</td>\n",
              "      <td>166.050003</td>\n",
              "      <td>170.869995</td>\n",
              "      <td>165.690002</td>\n",
              "      <td>166.270004</td>\n",
              "      <td>164.597351</td>\n",
              "      <td>47817300</td>\n",
              "    </tr>\n",
              "    <tr>\n",
              "      <th>2</th>\n",
              "      <td>2020-03-06</td>\n",
              "      <td>162.610001</td>\n",
              "      <td>163.110001</td>\n",
              "      <td>156.000000</td>\n",
              "      <td>161.570007</td>\n",
              "      <td>159.944641</td>\n",
              "      <td>72821100</td>\n",
              "    </tr>\n",
              "    <tr>\n",
              "      <th>3</th>\n",
              "      <td>2020-03-09</td>\n",
              "      <td>151.000000</td>\n",
              "      <td>157.750000</td>\n",
              "      <td>150.000000</td>\n",
              "      <td>150.619995</td>\n",
              "      <td>149.104797</td>\n",
              "      <td>70419300</td>\n",
              "    </tr>\n",
              "    <tr>\n",
              "      <th>4</th>\n",
              "      <td>2020-03-10</td>\n",
              "      <td>158.160004</td>\n",
              "      <td>161.029999</td>\n",
              "      <td>152.580002</td>\n",
              "      <td>160.919998</td>\n",
              "      <td>159.301178</td>\n",
              "      <td>65354400</td>\n",
              "    </tr>\n",
              "    <tr>\n",
              "      <th>...</th>\n",
              "      <td>...</td>\n",
              "      <td>...</td>\n",
              "      <td>...</td>\n",
              "      <td>...</td>\n",
              "      <td>...</td>\n",
              "      <td>...</td>\n",
              "      <td>...</td>\n",
              "    </tr>\n",
              "    <tr>\n",
              "      <th>248</th>\n",
              "      <td>2021-02-26</td>\n",
              "      <td>231.529999</td>\n",
              "      <td>235.369995</td>\n",
              "      <td>229.539993</td>\n",
              "      <td>232.380005</td>\n",
              "      <td>232.380005</td>\n",
              "      <td>37811200</td>\n",
              "    </tr>\n",
              "    <tr>\n",
              "      <th>249</th>\n",
              "      <td>2021-03-01</td>\n",
              "      <td>235.899994</td>\n",
              "      <td>237.470001</td>\n",
              "      <td>233.149994</td>\n",
              "      <td>236.940002</td>\n",
              "      <td>236.940002</td>\n",
              "      <td>25324000</td>\n",
              "    </tr>\n",
              "    <tr>\n",
              "      <th>250</th>\n",
              "      <td>2021-03-02</td>\n",
              "      <td>237.009995</td>\n",
              "      <td>237.300003</td>\n",
              "      <td>233.449997</td>\n",
              "      <td>233.869995</td>\n",
              "      <td>233.869995</td>\n",
              "      <td>22785500</td>\n",
              "    </tr>\n",
              "    <tr>\n",
              "      <th>251</th>\n",
              "      <td>2021-03-03</td>\n",
              "      <td>232.160004</td>\n",
              "      <td>233.580002</td>\n",
              "      <td>227.259995</td>\n",
              "      <td>227.559998</td>\n",
              "      <td>227.559998</td>\n",
              "      <td>33950400</td>\n",
              "    </tr>\n",
              "    <tr>\n",
              "      <th>252</th>\n",
              "      <td>2021-03-04</td>\n",
              "      <td>226.735001</td>\n",
              "      <td>232.490005</td>\n",
              "      <td>224.259995</td>\n",
              "      <td>226.100006</td>\n",
              "      <td>226.100006</td>\n",
              "      <td>30092265</td>\n",
              "    </tr>\n",
              "  </tbody>\n",
              "</table>\n",
              "<p>253 rows × 7 columns</p>\n",
              "</div>"
            ],
            "text/plain": [
              "           Date        Open        High  ...       Close   Adj Close    Volume\n",
              "0    2020-03-04  168.490005  170.699997  ...  170.550003  168.834290  49814400\n",
              "1    2020-03-05  166.050003  170.869995  ...  166.270004  164.597351  47817300\n",
              "2    2020-03-06  162.610001  163.110001  ...  161.570007  159.944641  72821100\n",
              "3    2020-03-09  151.000000  157.750000  ...  150.619995  149.104797  70419300\n",
              "4    2020-03-10  158.160004  161.029999  ...  160.919998  159.301178  65354400\n",
              "..          ...         ...         ...  ...         ...         ...       ...\n",
              "248  2021-02-26  231.529999  235.369995  ...  232.380005  232.380005  37811200\n",
              "249  2021-03-01  235.899994  237.470001  ...  236.940002  236.940002  25324000\n",
              "250  2021-03-02  237.009995  237.300003  ...  233.869995  233.869995  22785500\n",
              "251  2021-03-03  232.160004  233.580002  ...  227.559998  227.559998  33950400\n",
              "252  2021-03-04  226.735001  232.490005  ...  226.100006  226.100006  30092265\n",
              "\n",
              "[253 rows x 7 columns]"
            ]
          },
          "execution_count": 5,
          "metadata": {
            "tags": []
          },
          "output_type": "execute_result"
        }
      ],
      "source": [
        "import pandas as pd\n",
        "data = pd.read_csv('MSFT.csv')\n",
        "data"
      ]
    },
    {
      "cell_type": "code",
      "execution_count": null,
      "metadata": {
        "id": "3-iUiV844Mnr"
      },
      "outputs": [],
      "source": [
        "del data"
      ]
    },
    {
      "cell_type": "code",
      "execution_count": 13,
      "metadata": {
        "colab": {
          "base_uri": "https://localhost:8080/",
          "height": 424
        },
        "id": "3kny4cDQC-SC",
        "outputId": "45553daa-3056-4e94-a4f9-ef633b0394fd"
      },
      "outputs": [
        {
          "data": {
            "text/html": [
              "<div>\n",
              "<style scoped>\n",
              "    .dataframe tbody tr th:only-of-type {\n",
              "        vertical-align: middle;\n",
              "    }\n",
              "\n",
              "    .dataframe tbody tr th {\n",
              "        vertical-align: top;\n",
              "    }\n",
              "\n",
              "    .dataframe thead th {\n",
              "        text-align: right;\n",
              "    }\n",
              "</style>\n",
              "<table border=\"1\" class=\"dataframe\">\n",
              "  <thead>\n",
              "    <tr style=\"text-align: right;\">\n",
              "      <th></th>\n",
              "      <th>Date</th>\n",
              "      <th>Open</th>\n",
              "      <th>High</th>\n",
              "      <th>Low</th>\n",
              "      <th>Close</th>\n",
              "      <th>Adj Close</th>\n",
              "      <th>Volume</th>\n",
              "    </tr>\n",
              "  </thead>\n",
              "  <tbody>\n",
              "    <tr>\n",
              "      <th>0</th>\n",
              "      <td>2010-01-04</td>\n",
              "      <td>20.790001</td>\n",
              "      <td>21.030001</td>\n",
              "      <td>20.730000</td>\n",
              "      <td>20.879999</td>\n",
              "      <td>14.678102</td>\n",
              "      <td>47800900</td>\n",
              "    </tr>\n",
              "    <tr>\n",
              "      <th>1</th>\n",
              "      <td>2010-01-05</td>\n",
              "      <td>20.940001</td>\n",
              "      <td>20.990000</td>\n",
              "      <td>20.600000</td>\n",
              "      <td>20.870001</td>\n",
              "      <td>14.671071</td>\n",
              "      <td>52357700</td>\n",
              "    </tr>\n",
              "    <tr>\n",
              "      <th>2</th>\n",
              "      <td>2010-01-06</td>\n",
              "      <td>20.809999</td>\n",
              "      <td>20.930000</td>\n",
              "      <td>20.670000</td>\n",
              "      <td>20.799999</td>\n",
              "      <td>14.621859</td>\n",
              "      <td>40037400</td>\n",
              "    </tr>\n",
              "    <tr>\n",
              "      <th>3</th>\n",
              "      <td>2010-01-07</td>\n",
              "      <td>20.730000</td>\n",
              "      <td>20.760000</td>\n",
              "      <td>20.340000</td>\n",
              "      <td>20.600000</td>\n",
              "      <td>14.481262</td>\n",
              "      <td>54041500</td>\n",
              "    </tr>\n",
              "    <tr>\n",
              "      <th>4</th>\n",
              "      <td>2010-01-08</td>\n",
              "      <td>20.540001</td>\n",
              "      <td>20.889999</td>\n",
              "      <td>20.400000</td>\n",
              "      <td>20.830000</td>\n",
              "      <td>14.642952</td>\n",
              "      <td>48234700</td>\n",
              "    </tr>\n",
              "    <tr>\n",
              "      <th>...</th>\n",
              "      <td>...</td>\n",
              "      <td>...</td>\n",
              "      <td>...</td>\n",
              "      <td>...</td>\n",
              "      <td>...</td>\n",
              "      <td>...</td>\n",
              "      <td>...</td>\n",
              "    </tr>\n",
              "    <tr>\n",
              "      <th>2008</th>\n",
              "      <td>2017-12-22</td>\n",
              "      <td>46.330002</td>\n",
              "      <td>47.020000</td>\n",
              "      <td>46.020000</td>\n",
              "      <td>46.700001</td>\n",
              "      <td>42.564445</td>\n",
              "      <td>33913500</td>\n",
              "    </tr>\n",
              "    <tr>\n",
              "      <th>2009</th>\n",
              "      <td>2017-12-26</td>\n",
              "      <td>46.279999</td>\n",
              "      <td>46.470001</td>\n",
              "      <td>45.950001</td>\n",
              "      <td>46.080002</td>\n",
              "      <td>41.999352</td>\n",
              "      <td>15533300</td>\n",
              "    </tr>\n",
              "    <tr>\n",
              "      <th>2010</th>\n",
              "      <td>2017-12-27</td>\n",
              "      <td>46.110001</td>\n",
              "      <td>46.360001</td>\n",
              "      <td>46.000000</td>\n",
              "      <td>46.110001</td>\n",
              "      <td>42.026695</td>\n",
              "      <td>13359700</td>\n",
              "    </tr>\n",
              "    <tr>\n",
              "      <th>2011</th>\n",
              "      <td>2017-12-28</td>\n",
              "      <td>46.360001</td>\n",
              "      <td>46.360001</td>\n",
              "      <td>45.950001</td>\n",
              "      <td>46.220001</td>\n",
              "      <td>42.126949</td>\n",
              "      <td>9504400</td>\n",
              "    </tr>\n",
              "    <tr>\n",
              "      <th>2012</th>\n",
              "      <td>2017-12-29</td>\n",
              "      <td>46.209999</td>\n",
              "      <td>46.490002</td>\n",
              "      <td>46.090000</td>\n",
              "      <td>46.160000</td>\n",
              "      <td>42.072262</td>\n",
              "      <td>17394500</td>\n",
              "    </tr>\n",
              "  </tbody>\n",
              "</table>\n",
              "<p>2013 rows × 7 columns</p>\n",
              "</div>"
            ],
            "text/plain": [
              "            Date       Open       High  ...      Close  Adj Close    Volume\n",
              "0     2010-01-04  20.790001  21.030001  ...  20.879999  14.678102  47800900\n",
              "1     2010-01-05  20.940001  20.990000  ...  20.870001  14.671071  52357700\n",
              "2     2010-01-06  20.809999  20.930000  ...  20.799999  14.621859  40037400\n",
              "3     2010-01-07  20.730000  20.760000  ...  20.600000  14.481262  54041500\n",
              "4     2010-01-08  20.540001  20.889999  ...  20.830000  14.642952  48234700\n",
              "...          ...        ...        ...  ...        ...        ...       ...\n",
              "2008  2017-12-22  46.330002  47.020000  ...  46.700001  42.564445  33913500\n",
              "2009  2017-12-26  46.279999  46.470001  ...  46.080002  41.999352  15533300\n",
              "2010  2017-12-27  46.110001  46.360001  ...  46.110001  42.026695  13359700\n",
              "2011  2017-12-28  46.360001  46.360001  ...  46.220001  42.126949   9504400\n",
              "2012  2017-12-29  46.209999  46.490002  ...  46.160000  42.072262  17394500\n",
              "\n",
              "[2013 rows x 7 columns]"
            ]
          },
          "execution_count": 13,
          "metadata": {},
          "output_type": "execute_result"
        }
      ],
      "source": [
        "data_i = pd.read_csv('INTC.csv')\n",
        "data_i"
      ]
    },
    {
      "cell_type": "code",
      "execution_count": 14,
      "metadata": {
        "id": "A8DqxB4kDHYx"
      },
      "outputs": [],
      "source": [
        "del data_i"
      ]
    },
    {
      "cell_type": "markdown",
      "metadata": {
        "id": "VSgww_xf6SAG"
      },
      "source": [
        "## 4. Download the data from Yahoo Finance in a CSV (Coma Sperated Values .csv ) and upload the in data Google Drive\n",
        "\n",
        "- Google Colab: how to read data from my google drive? [stackoverflow](https://stackoverflow.com/questions/48376580/google-colab-how-to-read-data-from-my-google-drive)\n",
        "\n",
        "-  How to unmount drive in Google Colab and remount to another drive?[stackoverflow](https://stackoverflow.com/questions/54837135/how-to-unmount-drive-in-google-colab-and-remount-to-another-drive)"
      ]
    },
    {
      "cell_type": "markdown",
      "metadata": {
        "id": "eHlLkZ2_sDCq"
      },
      "source": [
        "### Mount the drive with the Google Colab vortual machine file system interface\n",
        "\n",
        "![alt text](https://raw.githubusercontent.com/gjhernandezp/algorithms/master/Python/mount_drive.png)"
      ]
    },
    {
      "cell_type": "code",
      "execution_count": null,
      "metadata": {
        "colab": {
          "base_uri": "https://localhost:8080/",
          "height": 419
        },
        "id": "C6OAN65VorwZ",
        "outputId": "f454eb63-b5bc-4b36-bb6c-71b93d1e6ebc"
      },
      "outputs": [
        {
          "data": {
            "text/html": [
              "<div>\n",
              "<style scoped>\n",
              "    .dataframe tbody tr th:only-of-type {\n",
              "        vertical-align: middle;\n",
              "    }\n",
              "\n",
              "    .dataframe tbody tr th {\n",
              "        vertical-align: top;\n",
              "    }\n",
              "\n",
              "    .dataframe thead th {\n",
              "        text-align: right;\n",
              "    }\n",
              "</style>\n",
              "<table border=\"1\" class=\"dataframe\">\n",
              "  <thead>\n",
              "    <tr style=\"text-align: right;\">\n",
              "      <th></th>\n",
              "      <th>Date</th>\n",
              "      <th>Open</th>\n",
              "      <th>High</th>\n",
              "      <th>Low</th>\n",
              "      <th>Close</th>\n",
              "      <th>Adj Close</th>\n",
              "      <th>Volume</th>\n",
              "    </tr>\n",
              "  </thead>\n",
              "  <tbody>\n",
              "    <tr>\n",
              "      <th>0</th>\n",
              "      <td>2020-03-04</td>\n",
              "      <td>168.490005</td>\n",
              "      <td>170.699997</td>\n",
              "      <td>165.619995</td>\n",
              "      <td>170.550003</td>\n",
              "      <td>168.834290</td>\n",
              "      <td>49814400</td>\n",
              "    </tr>\n",
              "    <tr>\n",
              "      <th>1</th>\n",
              "      <td>2020-03-05</td>\n",
              "      <td>166.050003</td>\n",
              "      <td>170.869995</td>\n",
              "      <td>165.690002</td>\n",
              "      <td>166.270004</td>\n",
              "      <td>164.597351</td>\n",
              "      <td>47817300</td>\n",
              "    </tr>\n",
              "    <tr>\n",
              "      <th>2</th>\n",
              "      <td>2020-03-06</td>\n",
              "      <td>162.610001</td>\n",
              "      <td>163.110001</td>\n",
              "      <td>156.000000</td>\n",
              "      <td>161.570007</td>\n",
              "      <td>159.944641</td>\n",
              "      <td>72821100</td>\n",
              "    </tr>\n",
              "    <tr>\n",
              "      <th>3</th>\n",
              "      <td>2020-03-09</td>\n",
              "      <td>151.000000</td>\n",
              "      <td>157.750000</td>\n",
              "      <td>150.000000</td>\n",
              "      <td>150.619995</td>\n",
              "      <td>149.104797</td>\n",
              "      <td>70419300</td>\n",
              "    </tr>\n",
              "    <tr>\n",
              "      <th>4</th>\n",
              "      <td>2020-03-10</td>\n",
              "      <td>158.160004</td>\n",
              "      <td>161.029999</td>\n",
              "      <td>152.580002</td>\n",
              "      <td>160.919998</td>\n",
              "      <td>159.301178</td>\n",
              "      <td>65354400</td>\n",
              "    </tr>\n",
              "    <tr>\n",
              "      <th>...</th>\n",
              "      <td>...</td>\n",
              "      <td>...</td>\n",
              "      <td>...</td>\n",
              "      <td>...</td>\n",
              "      <td>...</td>\n",
              "      <td>...</td>\n",
              "      <td>...</td>\n",
              "    </tr>\n",
              "    <tr>\n",
              "      <th>248</th>\n",
              "      <td>2021-02-26</td>\n",
              "      <td>231.529999</td>\n",
              "      <td>235.369995</td>\n",
              "      <td>229.539993</td>\n",
              "      <td>232.380005</td>\n",
              "      <td>232.380005</td>\n",
              "      <td>37811200</td>\n",
              "    </tr>\n",
              "    <tr>\n",
              "      <th>249</th>\n",
              "      <td>2021-03-01</td>\n",
              "      <td>235.899994</td>\n",
              "      <td>237.470001</td>\n",
              "      <td>233.149994</td>\n",
              "      <td>236.940002</td>\n",
              "      <td>236.940002</td>\n",
              "      <td>25324000</td>\n",
              "    </tr>\n",
              "    <tr>\n",
              "      <th>250</th>\n",
              "      <td>2021-03-02</td>\n",
              "      <td>237.009995</td>\n",
              "      <td>237.300003</td>\n",
              "      <td>233.449997</td>\n",
              "      <td>233.869995</td>\n",
              "      <td>233.869995</td>\n",
              "      <td>22785500</td>\n",
              "    </tr>\n",
              "    <tr>\n",
              "      <th>251</th>\n",
              "      <td>2021-03-03</td>\n",
              "      <td>232.160004</td>\n",
              "      <td>233.580002</td>\n",
              "      <td>227.259995</td>\n",
              "      <td>227.559998</td>\n",
              "      <td>227.559998</td>\n",
              "      <td>33950400</td>\n",
              "    </tr>\n",
              "    <tr>\n",
              "      <th>252</th>\n",
              "      <td>2021-03-04</td>\n",
              "      <td>226.735001</td>\n",
              "      <td>232.490005</td>\n",
              "      <td>224.259995</td>\n",
              "      <td>226.100006</td>\n",
              "      <td>226.100006</td>\n",
              "      <td>30092265</td>\n",
              "    </tr>\n",
              "  </tbody>\n",
              "</table>\n",
              "<p>253 rows × 7 columns</p>\n",
              "</div>"
            ],
            "text/plain": [
              "           Date        Open        High  ...       Close   Adj Close    Volume\n",
              "0    2020-03-04  168.490005  170.699997  ...  170.550003  168.834290  49814400\n",
              "1    2020-03-05  166.050003  170.869995  ...  166.270004  164.597351  47817300\n",
              "2    2020-03-06  162.610001  163.110001  ...  161.570007  159.944641  72821100\n",
              "3    2020-03-09  151.000000  157.750000  ...  150.619995  149.104797  70419300\n",
              "4    2020-03-10  158.160004  161.029999  ...  160.919998  159.301178  65354400\n",
              "..          ...         ...         ...  ...         ...         ...       ...\n",
              "248  2021-02-26  231.529999  235.369995  ...  232.380005  232.380005  37811200\n",
              "249  2021-03-01  235.899994  237.470001  ...  236.940002  236.940002  25324000\n",
              "250  2021-03-02  237.009995  237.300003  ...  233.869995  233.869995  22785500\n",
              "251  2021-03-03  232.160004  233.580002  ...  227.559998  227.559998  33950400\n",
              "252  2021-03-04  226.735001  232.490005  ...  226.100006  226.100006  30092265\n",
              "\n",
              "[253 rows x 7 columns]"
            ]
          },
          "execution_count": 7,
          "metadata": {
            "tags": []
          },
          "output_type": "execute_result"
        }
      ],
      "source": [
        "import pandas as pd\n",
        "data = pd.read_csv('/content/drive//MyDrive/ALG//2021I/Python/MSFT.csv')\n",
        "data"
      ]
    },
    {
      "cell_type": "code",
      "execution_count": null,
      "metadata": {
        "id": "ZvUth37opE1y"
      },
      "outputs": [],
      "source": [
        "del data"
      ]
    },
    {
      "cell_type": "code",
      "execution_count": 15,
      "metadata": {
        "colab": {
          "base_uri": "https://localhost:8080/",
          "height": 424
        },
        "id": "jD9jp8u1DWwD",
        "outputId": "32032445-1866-4cf3-c74e-ae878bbe2012"
      },
      "outputs": [
        {
          "data": {
            "text/html": [
              "<div>\n",
              "<style scoped>\n",
              "    .dataframe tbody tr th:only-of-type {\n",
              "        vertical-align: middle;\n",
              "    }\n",
              "\n",
              "    .dataframe tbody tr th {\n",
              "        vertical-align: top;\n",
              "    }\n",
              "\n",
              "    .dataframe thead th {\n",
              "        text-align: right;\n",
              "    }\n",
              "</style>\n",
              "<table border=\"1\" class=\"dataframe\">\n",
              "  <thead>\n",
              "    <tr style=\"text-align: right;\">\n",
              "      <th></th>\n",
              "      <th>Date</th>\n",
              "      <th>Open</th>\n",
              "      <th>High</th>\n",
              "      <th>Low</th>\n",
              "      <th>Close</th>\n",
              "      <th>Adj Close</th>\n",
              "      <th>Volume</th>\n",
              "    </tr>\n",
              "  </thead>\n",
              "  <tbody>\n",
              "    <tr>\n",
              "      <th>0</th>\n",
              "      <td>2010-01-04</td>\n",
              "      <td>20.790001</td>\n",
              "      <td>21.030001</td>\n",
              "      <td>20.730000</td>\n",
              "      <td>20.879999</td>\n",
              "      <td>14.678102</td>\n",
              "      <td>47800900</td>\n",
              "    </tr>\n",
              "    <tr>\n",
              "      <th>1</th>\n",
              "      <td>2010-01-05</td>\n",
              "      <td>20.940001</td>\n",
              "      <td>20.990000</td>\n",
              "      <td>20.600000</td>\n",
              "      <td>20.870001</td>\n",
              "      <td>14.671071</td>\n",
              "      <td>52357700</td>\n",
              "    </tr>\n",
              "    <tr>\n",
              "      <th>2</th>\n",
              "      <td>2010-01-06</td>\n",
              "      <td>20.809999</td>\n",
              "      <td>20.930000</td>\n",
              "      <td>20.670000</td>\n",
              "      <td>20.799999</td>\n",
              "      <td>14.621859</td>\n",
              "      <td>40037400</td>\n",
              "    </tr>\n",
              "    <tr>\n",
              "      <th>3</th>\n",
              "      <td>2010-01-07</td>\n",
              "      <td>20.730000</td>\n",
              "      <td>20.760000</td>\n",
              "      <td>20.340000</td>\n",
              "      <td>20.600000</td>\n",
              "      <td>14.481262</td>\n",
              "      <td>54041500</td>\n",
              "    </tr>\n",
              "    <tr>\n",
              "      <th>4</th>\n",
              "      <td>2010-01-08</td>\n",
              "      <td>20.540001</td>\n",
              "      <td>20.889999</td>\n",
              "      <td>20.400000</td>\n",
              "      <td>20.830000</td>\n",
              "      <td>14.642952</td>\n",
              "      <td>48234700</td>\n",
              "    </tr>\n",
              "    <tr>\n",
              "      <th>...</th>\n",
              "      <td>...</td>\n",
              "      <td>...</td>\n",
              "      <td>...</td>\n",
              "      <td>...</td>\n",
              "      <td>...</td>\n",
              "      <td>...</td>\n",
              "      <td>...</td>\n",
              "    </tr>\n",
              "    <tr>\n",
              "      <th>2008</th>\n",
              "      <td>2017-12-22</td>\n",
              "      <td>46.330002</td>\n",
              "      <td>47.020000</td>\n",
              "      <td>46.020000</td>\n",
              "      <td>46.700001</td>\n",
              "      <td>42.564445</td>\n",
              "      <td>33913500</td>\n",
              "    </tr>\n",
              "    <tr>\n",
              "      <th>2009</th>\n",
              "      <td>2017-12-26</td>\n",
              "      <td>46.279999</td>\n",
              "      <td>46.470001</td>\n",
              "      <td>45.950001</td>\n",
              "      <td>46.080002</td>\n",
              "      <td>41.999352</td>\n",
              "      <td>15533300</td>\n",
              "    </tr>\n",
              "    <tr>\n",
              "      <th>2010</th>\n",
              "      <td>2017-12-27</td>\n",
              "      <td>46.110001</td>\n",
              "      <td>46.360001</td>\n",
              "      <td>46.000000</td>\n",
              "      <td>46.110001</td>\n",
              "      <td>42.026695</td>\n",
              "      <td>13359700</td>\n",
              "    </tr>\n",
              "    <tr>\n",
              "      <th>2011</th>\n",
              "      <td>2017-12-28</td>\n",
              "      <td>46.360001</td>\n",
              "      <td>46.360001</td>\n",
              "      <td>45.950001</td>\n",
              "      <td>46.220001</td>\n",
              "      <td>42.126949</td>\n",
              "      <td>9504400</td>\n",
              "    </tr>\n",
              "    <tr>\n",
              "      <th>2012</th>\n",
              "      <td>2017-12-29</td>\n",
              "      <td>46.209999</td>\n",
              "      <td>46.490002</td>\n",
              "      <td>46.090000</td>\n",
              "      <td>46.160000</td>\n",
              "      <td>42.072262</td>\n",
              "      <td>17394500</td>\n",
              "    </tr>\n",
              "  </tbody>\n",
              "</table>\n",
              "<p>2013 rows × 7 columns</p>\n",
              "</div>"
            ],
            "text/plain": [
              "            Date       Open       High  ...      Close  Adj Close    Volume\n",
              "0     2010-01-04  20.790001  21.030001  ...  20.879999  14.678102  47800900\n",
              "1     2010-01-05  20.940001  20.990000  ...  20.870001  14.671071  52357700\n",
              "2     2010-01-06  20.809999  20.930000  ...  20.799999  14.621859  40037400\n",
              "3     2010-01-07  20.730000  20.760000  ...  20.600000  14.481262  54041500\n",
              "4     2010-01-08  20.540001  20.889999  ...  20.830000  14.642952  48234700\n",
              "...          ...        ...        ...  ...        ...        ...       ...\n",
              "2008  2017-12-22  46.330002  47.020000  ...  46.700001  42.564445  33913500\n",
              "2009  2017-12-26  46.279999  46.470001  ...  46.080002  41.999352  15533300\n",
              "2010  2017-12-27  46.110001  46.360001  ...  46.110001  42.026695  13359700\n",
              "2011  2017-12-28  46.360001  46.360001  ...  46.220001  42.126949   9504400\n",
              "2012  2017-12-29  46.209999  46.490002  ...  46.160000  42.072262  17394500\n",
              "\n",
              "[2013 rows x 7 columns]"
            ]
          },
          "execution_count": 15,
          "metadata": {},
          "output_type": "execute_result"
        }
      ],
      "source": [
        "data_i = pd.read_csv('/content/drive/MyDrive/Colab Notebooks/INTC.csv')\n",
        "data_i"
      ]
    },
    {
      "cell_type": "code",
      "execution_count": 16,
      "metadata": {
        "id": "g8RxkPtzDkNO"
      },
      "outputs": [],
      "source": [
        "del data_i"
      ]
    },
    {
      "cell_type": "markdown",
      "metadata": {
        "id": "jy3jLst3upZj"
      },
      "source": [
        "### Mount the drive with code\n",
        "```python\n",
        "from google.colab import drive\n",
        "drive.mount('/content/drive')\n",
        "```"
      ]
    },
    {
      "cell_type": "code",
      "execution_count": null,
      "metadata": {
        "colab": {
          "base_uri": "https://localhost:8080/"
        },
        "id": "6KyM91U8pI5p",
        "outputId": "6fc8c33d-c2d3-4c9e-f28e-0efe8ca960d7"
      },
      "outputs": [
        {
          "name": "stdout",
          "output_type": "stream",
          "text": [
            "Drive already mounted at /content/drive; to attempt to forcibly remount, call drive.mount(\"/content/drive\", force_remount=True).\n"
          ]
        }
      ],
      "source": [
        "from google.colab import drive\n",
        "drive.mount('/content/drive')"
      ]
    },
    {
      "cell_type": "code",
      "execution_count": null,
      "metadata": {
        "colab": {
          "base_uri": "https://localhost:8080/",
          "height": 419
        },
        "id": "UYatGfpxqYSK",
        "outputId": "740bbf10-1747-4045-8db9-8308709a72a2"
      },
      "outputs": [
        {
          "data": {
            "text/html": [
              "<div>\n",
              "<style scoped>\n",
              "    .dataframe tbody tr th:only-of-type {\n",
              "        vertical-align: middle;\n",
              "    }\n",
              "\n",
              "    .dataframe tbody tr th {\n",
              "        vertical-align: top;\n",
              "    }\n",
              "\n",
              "    .dataframe thead th {\n",
              "        text-align: right;\n",
              "    }\n",
              "</style>\n",
              "<table border=\"1\" class=\"dataframe\">\n",
              "  <thead>\n",
              "    <tr style=\"text-align: right;\">\n",
              "      <th></th>\n",
              "      <th>Date</th>\n",
              "      <th>Open</th>\n",
              "      <th>High</th>\n",
              "      <th>Low</th>\n",
              "      <th>Close</th>\n",
              "      <th>Adj Close</th>\n",
              "      <th>Volume</th>\n",
              "    </tr>\n",
              "  </thead>\n",
              "  <tbody>\n",
              "    <tr>\n",
              "      <th>0</th>\n",
              "      <td>2020-03-04</td>\n",
              "      <td>168.490005</td>\n",
              "      <td>170.699997</td>\n",
              "      <td>165.619995</td>\n",
              "      <td>170.550003</td>\n",
              "      <td>168.834290</td>\n",
              "      <td>49814400</td>\n",
              "    </tr>\n",
              "    <tr>\n",
              "      <th>1</th>\n",
              "      <td>2020-03-05</td>\n",
              "      <td>166.050003</td>\n",
              "      <td>170.869995</td>\n",
              "      <td>165.690002</td>\n",
              "      <td>166.270004</td>\n",
              "      <td>164.597351</td>\n",
              "      <td>47817300</td>\n",
              "    </tr>\n",
              "    <tr>\n",
              "      <th>2</th>\n",
              "      <td>2020-03-06</td>\n",
              "      <td>162.610001</td>\n",
              "      <td>163.110001</td>\n",
              "      <td>156.000000</td>\n",
              "      <td>161.570007</td>\n",
              "      <td>159.944641</td>\n",
              "      <td>72821100</td>\n",
              "    </tr>\n",
              "    <tr>\n",
              "      <th>3</th>\n",
              "      <td>2020-03-09</td>\n",
              "      <td>151.000000</td>\n",
              "      <td>157.750000</td>\n",
              "      <td>150.000000</td>\n",
              "      <td>150.619995</td>\n",
              "      <td>149.104797</td>\n",
              "      <td>70419300</td>\n",
              "    </tr>\n",
              "    <tr>\n",
              "      <th>4</th>\n",
              "      <td>2020-03-10</td>\n",
              "      <td>158.160004</td>\n",
              "      <td>161.029999</td>\n",
              "      <td>152.580002</td>\n",
              "      <td>160.919998</td>\n",
              "      <td>159.301178</td>\n",
              "      <td>65354400</td>\n",
              "    </tr>\n",
              "    <tr>\n",
              "      <th>...</th>\n",
              "      <td>...</td>\n",
              "      <td>...</td>\n",
              "      <td>...</td>\n",
              "      <td>...</td>\n",
              "      <td>...</td>\n",
              "      <td>...</td>\n",
              "      <td>...</td>\n",
              "    </tr>\n",
              "    <tr>\n",
              "      <th>248</th>\n",
              "      <td>2021-02-26</td>\n",
              "      <td>231.529999</td>\n",
              "      <td>235.369995</td>\n",
              "      <td>229.539993</td>\n",
              "      <td>232.380005</td>\n",
              "      <td>232.380005</td>\n",
              "      <td>37811200</td>\n",
              "    </tr>\n",
              "    <tr>\n",
              "      <th>249</th>\n",
              "      <td>2021-03-01</td>\n",
              "      <td>235.899994</td>\n",
              "      <td>237.470001</td>\n",
              "      <td>233.149994</td>\n",
              "      <td>236.940002</td>\n",
              "      <td>236.940002</td>\n",
              "      <td>25324000</td>\n",
              "    </tr>\n",
              "    <tr>\n",
              "      <th>250</th>\n",
              "      <td>2021-03-02</td>\n",
              "      <td>237.009995</td>\n",
              "      <td>237.300003</td>\n",
              "      <td>233.449997</td>\n",
              "      <td>233.869995</td>\n",
              "      <td>233.869995</td>\n",
              "      <td>22785500</td>\n",
              "    </tr>\n",
              "    <tr>\n",
              "      <th>251</th>\n",
              "      <td>2021-03-03</td>\n",
              "      <td>232.160004</td>\n",
              "      <td>233.580002</td>\n",
              "      <td>227.259995</td>\n",
              "      <td>227.559998</td>\n",
              "      <td>227.559998</td>\n",
              "      <td>33950400</td>\n",
              "    </tr>\n",
              "    <tr>\n",
              "      <th>252</th>\n",
              "      <td>2021-03-04</td>\n",
              "      <td>226.735001</td>\n",
              "      <td>232.490005</td>\n",
              "      <td>224.259995</td>\n",
              "      <td>226.100006</td>\n",
              "      <td>226.100006</td>\n",
              "      <td>30092265</td>\n",
              "    </tr>\n",
              "  </tbody>\n",
              "</table>\n",
              "<p>253 rows × 7 columns</p>\n",
              "</div>"
            ],
            "text/plain": [
              "           Date        Open        High  ...       Close   Adj Close    Volume\n",
              "0    2020-03-04  168.490005  170.699997  ...  170.550003  168.834290  49814400\n",
              "1    2020-03-05  166.050003  170.869995  ...  166.270004  164.597351  47817300\n",
              "2    2020-03-06  162.610001  163.110001  ...  161.570007  159.944641  72821100\n",
              "3    2020-03-09  151.000000  157.750000  ...  150.619995  149.104797  70419300\n",
              "4    2020-03-10  158.160004  161.029999  ...  160.919998  159.301178  65354400\n",
              "..          ...         ...         ...  ...         ...         ...       ...\n",
              "248  2021-02-26  231.529999  235.369995  ...  232.380005  232.380005  37811200\n",
              "249  2021-03-01  235.899994  237.470001  ...  236.940002  236.940002  25324000\n",
              "250  2021-03-02  237.009995  237.300003  ...  233.869995  233.869995  22785500\n",
              "251  2021-03-03  232.160004  233.580002  ...  227.559998  227.559998  33950400\n",
              "252  2021-03-04  226.735001  232.490005  ...  226.100006  226.100006  30092265\n",
              "\n",
              "[253 rows x 7 columns]"
            ]
          },
          "execution_count": 10,
          "metadata": {
            "tags": []
          },
          "output_type": "execute_result"
        }
      ],
      "source": [
        "import pandas as pd\n",
        "data = pd.read_csv('/content/drive//MyDrive/ALG//2021I/Python/MSFT.csv')\n",
        "data"
      ]
    },
    {
      "cell_type": "code",
      "execution_count": null,
      "metadata": {
        "id": "ihad4TZ9rbAa"
      },
      "outputs": [],
      "source": [
        "drive.flush_and_unmount()"
      ]
    },
    {
      "cell_type": "code",
      "execution_count": 17,
      "metadata": {
        "colab": {
          "base_uri": "https://localhost:8080/"
        },
        "id": "xbVvVa6MDq9A",
        "outputId": "ebdfcbd7-c5d6-4794-c25a-fe1ae577b607"
      },
      "outputs": [
        {
          "name": "stdout",
          "output_type": "stream",
          "text": [
            "Drive already mounted at /content/drive; to attempt to forcibly remount, call drive.mount(\"/content/drive\", force_remount=True).\n"
          ]
        }
      ],
      "source": [
        "from google.colab import drive\n",
        "drive.mount('/content/drive')"
      ]
    },
    {
      "cell_type": "code",
      "execution_count": 18,
      "metadata": {
        "colab": {
          "base_uri": "https://localhost:8080/",
          "height": 424
        },
        "id": "7gqnx5WtDq9G",
        "outputId": "eaba3545-ba73-46b3-dbb3-b2f35e9313e2"
      },
      "outputs": [
        {
          "data": {
            "text/html": [
              "<div>\n",
              "<style scoped>\n",
              "    .dataframe tbody tr th:only-of-type {\n",
              "        vertical-align: middle;\n",
              "    }\n",
              "\n",
              "    .dataframe tbody tr th {\n",
              "        vertical-align: top;\n",
              "    }\n",
              "\n",
              "    .dataframe thead th {\n",
              "        text-align: right;\n",
              "    }\n",
              "</style>\n",
              "<table border=\"1\" class=\"dataframe\">\n",
              "  <thead>\n",
              "    <tr style=\"text-align: right;\">\n",
              "      <th></th>\n",
              "      <th>Date</th>\n",
              "      <th>Open</th>\n",
              "      <th>High</th>\n",
              "      <th>Low</th>\n",
              "      <th>Close</th>\n",
              "      <th>Adj Close</th>\n",
              "      <th>Volume</th>\n",
              "    </tr>\n",
              "  </thead>\n",
              "  <tbody>\n",
              "    <tr>\n",
              "      <th>0</th>\n",
              "      <td>2010-01-04</td>\n",
              "      <td>20.790001</td>\n",
              "      <td>21.030001</td>\n",
              "      <td>20.730000</td>\n",
              "      <td>20.879999</td>\n",
              "      <td>14.678102</td>\n",
              "      <td>47800900</td>\n",
              "    </tr>\n",
              "    <tr>\n",
              "      <th>1</th>\n",
              "      <td>2010-01-05</td>\n",
              "      <td>20.940001</td>\n",
              "      <td>20.990000</td>\n",
              "      <td>20.600000</td>\n",
              "      <td>20.870001</td>\n",
              "      <td>14.671071</td>\n",
              "      <td>52357700</td>\n",
              "    </tr>\n",
              "    <tr>\n",
              "      <th>2</th>\n",
              "      <td>2010-01-06</td>\n",
              "      <td>20.809999</td>\n",
              "      <td>20.930000</td>\n",
              "      <td>20.670000</td>\n",
              "      <td>20.799999</td>\n",
              "      <td>14.621859</td>\n",
              "      <td>40037400</td>\n",
              "    </tr>\n",
              "    <tr>\n",
              "      <th>3</th>\n",
              "      <td>2010-01-07</td>\n",
              "      <td>20.730000</td>\n",
              "      <td>20.760000</td>\n",
              "      <td>20.340000</td>\n",
              "      <td>20.600000</td>\n",
              "      <td>14.481262</td>\n",
              "      <td>54041500</td>\n",
              "    </tr>\n",
              "    <tr>\n",
              "      <th>4</th>\n",
              "      <td>2010-01-08</td>\n",
              "      <td>20.540001</td>\n",
              "      <td>20.889999</td>\n",
              "      <td>20.400000</td>\n",
              "      <td>20.830000</td>\n",
              "      <td>14.642952</td>\n",
              "      <td>48234700</td>\n",
              "    </tr>\n",
              "    <tr>\n",
              "      <th>...</th>\n",
              "      <td>...</td>\n",
              "      <td>...</td>\n",
              "      <td>...</td>\n",
              "      <td>...</td>\n",
              "      <td>...</td>\n",
              "      <td>...</td>\n",
              "      <td>...</td>\n",
              "    </tr>\n",
              "    <tr>\n",
              "      <th>2008</th>\n",
              "      <td>2017-12-22</td>\n",
              "      <td>46.330002</td>\n",
              "      <td>47.020000</td>\n",
              "      <td>46.020000</td>\n",
              "      <td>46.700001</td>\n",
              "      <td>42.564445</td>\n",
              "      <td>33913500</td>\n",
              "    </tr>\n",
              "    <tr>\n",
              "      <th>2009</th>\n",
              "      <td>2017-12-26</td>\n",
              "      <td>46.279999</td>\n",
              "      <td>46.470001</td>\n",
              "      <td>45.950001</td>\n",
              "      <td>46.080002</td>\n",
              "      <td>41.999352</td>\n",
              "      <td>15533300</td>\n",
              "    </tr>\n",
              "    <tr>\n",
              "      <th>2010</th>\n",
              "      <td>2017-12-27</td>\n",
              "      <td>46.110001</td>\n",
              "      <td>46.360001</td>\n",
              "      <td>46.000000</td>\n",
              "      <td>46.110001</td>\n",
              "      <td>42.026695</td>\n",
              "      <td>13359700</td>\n",
              "    </tr>\n",
              "    <tr>\n",
              "      <th>2011</th>\n",
              "      <td>2017-12-28</td>\n",
              "      <td>46.360001</td>\n",
              "      <td>46.360001</td>\n",
              "      <td>45.950001</td>\n",
              "      <td>46.220001</td>\n",
              "      <td>42.126949</td>\n",
              "      <td>9504400</td>\n",
              "    </tr>\n",
              "    <tr>\n",
              "      <th>2012</th>\n",
              "      <td>2017-12-29</td>\n",
              "      <td>46.209999</td>\n",
              "      <td>46.490002</td>\n",
              "      <td>46.090000</td>\n",
              "      <td>46.160000</td>\n",
              "      <td>42.072262</td>\n",
              "      <td>17394500</td>\n",
              "    </tr>\n",
              "  </tbody>\n",
              "</table>\n",
              "<p>2013 rows × 7 columns</p>\n",
              "</div>"
            ],
            "text/plain": [
              "            Date       Open       High  ...      Close  Adj Close    Volume\n",
              "0     2010-01-04  20.790001  21.030001  ...  20.879999  14.678102  47800900\n",
              "1     2010-01-05  20.940001  20.990000  ...  20.870001  14.671071  52357700\n",
              "2     2010-01-06  20.809999  20.930000  ...  20.799999  14.621859  40037400\n",
              "3     2010-01-07  20.730000  20.760000  ...  20.600000  14.481262  54041500\n",
              "4     2010-01-08  20.540001  20.889999  ...  20.830000  14.642952  48234700\n",
              "...          ...        ...        ...  ...        ...        ...       ...\n",
              "2008  2017-12-22  46.330002  47.020000  ...  46.700001  42.564445  33913500\n",
              "2009  2017-12-26  46.279999  46.470001  ...  46.080002  41.999352  15533300\n",
              "2010  2017-12-27  46.110001  46.360001  ...  46.110001  42.026695  13359700\n",
              "2011  2017-12-28  46.360001  46.360001  ...  46.220001  42.126949   9504400\n",
              "2012  2017-12-29  46.209999  46.490002  ...  46.160000  42.072262  17394500\n",
              "\n",
              "[2013 rows x 7 columns]"
            ]
          },
          "execution_count": 18,
          "metadata": {},
          "output_type": "execute_result"
        }
      ],
      "source": [
        "import pandas as pd\n",
        "data_i = pd.read_csv('//content/drive/MyDrive/Colab Notebooks/INTC.csv')\n",
        "data_i"
      ]
    },
    {
      "cell_type": "code",
      "execution_count": 19,
      "metadata": {
        "id": "i_uPA_nODq9K"
      },
      "outputs": [],
      "source": [
        "drive.flush_and_unmount()\n"
      ]
    }
  ],
  "metadata": {
    "colab": {
      "collapsed_sections": [
        "q9OBiVIHAqkd",
        "QOCF86BhZnm1"
      ],
      "name": "jupachonc_QuanconnectTutorials.ipynb",
      "provenance": []
    },
    "kernelspec": {
      "display_name": "Python 3",
      "name": "python3"
    },
    "language_info": {
      "name": "python"
    }
  },
  "nbformat": 4,
  "nbformat_minor": 0
}
