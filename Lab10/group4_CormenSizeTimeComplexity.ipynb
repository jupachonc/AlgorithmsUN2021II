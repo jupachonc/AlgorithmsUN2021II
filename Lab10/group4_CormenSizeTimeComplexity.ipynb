{
  "nbformat": 4,
  "nbformat_minor": 0,
  "metadata": {
    "colab": {
      "name": "group4_CormenSizeTimeComplexity.ipynb",
      "provenance": [],
      "collapsed_sections": []
    },
    "kernelspec": {
      "name": "python3",
      "display_name": "Python 3"
    },
    "language_info": {
      "name": "python"
    }
  },
  "cells": [
    {
      "cell_type": "markdown",
      "metadata": {
        "id": "I5UAAxG2_CqQ"
      },
      "source": [
        "# 0.(1 microsecond by instruction)\n",
        "\n",
        "Asuuming that you can execute a million instructions $10^6$ every second, i.e. each instruction takes one microsecond $1\\mu s=10^{-6}$ seconds. If you have algorithms take $\\bf{ Time\\ Complexity}$ steps to solve a porblem of size $n$ as specified in column one. What is the size of the largest porblem that you can solve in the time specified in row one?\n",
        "$$\n",
        "\\begin{array}{|c|c|c|c|c|c|c|c|} \n",
        " \\hline\n",
        " \\bf{ Time\\ Complexity} & Second  & Minute  & Hour & Day & Year & Century & Mileniun  \\\\ \n",
        "  \\hline\\\\ \n",
        "\\lg(n) &   2^{10^{6}}  &  2^{60 \\times 10^{6}} & 2^{36 \\times 10^{9}} & 2^{36 \\times 864^{9}} & 2^{31536 \\times 10^{10}} & 2^{31536 \\times 10^{12}} & 2^{31536 \\times 10^{13}} \\\\ \n",
        "   \\hline\\\\ \n",
        "\\lg^2(n) & 2^{10^3} & 2^{7745}  & 2^{60 \\times 10^3} & 2^{293939} & 2^{5615692} & 2^{56156922} & 2^{177583783} \\\\ \n",
        "   \\hline\\\\ \n",
        "\\sqrt{n} &  10^{12}  & 36 \\times 10^{14} & 1296 \\times 10^{16} & 746496 \\times 10^{16} & 994519296 \\times 10^{19} & 994519296 \\times 10^{23} & 994519296 \\times 10^{25} \\\\ \n",
        " \\hline\n",
        " n &  10^{6}  &  60 \\times 10^{6} & 36 \\times 10^{8} & 864 \\times 10^{8}  & 31536 \\times 10^{9} & 31536 \\times 10^{11} & 31536 \\times 10^{12} \\\\ \n",
        " \\hline\n",
        " n\\lg(n) &  62746  & 2801417  & 13 \\times 10^{7} & 27 \\times 10^{8} & 79 \\times 10^{10} & 68 \\times 10^{12} &  64 \\times 10^{13}\\\\ \n",
        " \\hline\n",
        " n^2 &  1000  & 7745  & 60000  & 293939 & 5615692 & 56156922 & 177583783 \\\\ \n",
        " \\hline\n",
        "  n^3 & 100 & 391 & 1533 & 4421 & 31594 & 146645 & 315938 \\\\ \n",
        " \\hline\n",
        "  n^4 &  32  & 88  & 245 & 542 & 2370 & 7494 & 13326 \\\\ \n",
        " \\hline\n",
        "  2^n &  20  & 26  & 32 & 36 & 45 & 51 & 55 \\\\ \n",
        " \\hline\n",
        " n! &  9  &  11 & 12 & 13 & 16 & 17 & 18 \\\\ \n",
        " \\hline\n",
        " n^n &  7  &  8 & 9 & 10 & 12 & 13 & 14\\\\ \n",
        " \\hline\n",
        "\\end{array}\n",
        "$$"
      ]
    },
    {
      "cell_type": "markdown",
      "metadata": {
        "id": "Jg7RtE2sDMWt"
      },
      "source": [
        "$\\bf{ Time\\ Complexity\\ \\lg(n) }$\n",
        "\n",
        "$Second$\n",
        "$$ \\lg(n) \\times 10^{-6}\\ s\\le 1\\ s$$ \n",
        "$$ \\lg(n) \\le 1 * 10^{6}$$ \n",
        "$$ 2^{\\lg(n)} \\le 2^{10^{6}}$$ \n",
        "$$ n \\le 2^{10^{6}}$$ \n",
        "\n",
        "$Minute$\n",
        "$$ \\lg(n) \\times 10^{-6}\\ s \\le 60\\ s$$ \n",
        "$$ \\lg(n) \\le 60 \\times 10^{6}$$ \n",
        "$$ 2^{\\lg(n)} \\le 2^{60 \\times 10^{6}}$$ \n",
        "$$ n \\le 2^{60 \\times 10^{6}}$$ \n",
        "\n",
        "$\\bf{ Time\\ Complexity\\ \\lg^2(n) }$\n",
        "\n",
        "$Second$\n",
        "$$ \\lg^2(n) \\times 10^{-6}\\ s\\le 1\\ s$$ \n",
        "$$ \\lg^2(n) \\le 1 * 10^{6}$$ \n",
        "$$ \\sqrt{\\lg^2(n)} \\le\\sqrt{ 1 * 10^{6}}$$ \n",
        "$$ \\lg(n) \\le 1 * 10^{3}$$\n",
        "$$ 2^{\\lg(n)} \\le 2^{10^{3}}$$ \n",
        "$$ n \\le 2^{10^{3}}$$ \n",
        "\n",
        "$Minute$\n",
        "$$ \\lg^2(n) \\times 10^{-6}\\ s\\le 60\\ s$$ \n",
        "$$ \\lg^2(n) \\le 60 * 10^{6}$$ \n",
        "$$ \\sqrt{\\lg^2(n)} \\le\\sqrt{ 60 * 10^{6}}$$ \n",
        "$$ \\lg(n) \\le 7745$$\n",
        "$$ 2^{\\lg(n)} \\le 2^{7745}$$ \n",
        "$$ n \\le 2^{7745}$$ \n",
        "\n",
        "$\\bf{ Time\\ Complexity\\ \\sqrt{n} }$\n",
        "\n",
        "$Second$\n",
        "$$ \\sqrt{n} \\times 10^{-6}\\ s\\le 1\\ s$$ \n",
        "$$ \\sqrt{n} \\le 1 * 10^{6}$$ \n",
        "$$ n \\le 1 * 10^{12}$$\n",
        "\n",
        "$Minute$\n",
        "$$ \\sqrt{n} \\times 10^{-6}\\ s\\le 60 * 1\\ s$$ \n",
        "$$ \\sqrt{n} \\le 60 * 10^{6}$$ \n",
        "$$ n \\le 36 * 10^{14}$$\n",
        "\n",
        "$\\bf{ Time\\ Complexity\\ n }$\n",
        "\n",
        "$Second$\n",
        "$$ n \\times 10^{-6}\\ s\\le 1\\ s$$ \n",
        "$$ n \\le 1 * 10^{6}$$ \n",
        "\n",
        "$Minute$\n",
        "$$ n \\times 10^{-6}\\ s\\le 60 * 1\\ s$$ \n",
        "$$ n \\le 60 * 10^{6}$$\n",
        "\n",
        "$\\bf{ Time\\ Complexity\\ n log(n)}$\n",
        "\n",
        "$Second$\n",
        "$$ n log(n) \\times 10^{-6}\\ s\\le 1\\ s$$ \n",
        "$$ n log(n)\\le 1 * 10^{6}$$ \n",
        "\n",
        "$Minute$\n",
        "$$ n log(n)\\times 10^{-6}\\ s\\le 60 * 1\\ s$$ \n",
        "$$ n log(n)\\le 60 * 10^{6}$$ \n",
        "\n",
        "Numerical aproximation on python code\n",
        "\n",
        "\n",
        "$\\bf{ Time\\ Complexity\\ n^2 }$\n",
        "\n",
        "$Second$\n",
        "$$  n^2 \\times 10^{-6}\\ s\\le 1\\ s$$ \n",
        "$$  n^2 \\le  10^{6}$$ \n",
        "$$ \\sqrt{n^2} \\le \\sqrt{10^{6}}$$ \n",
        "$$ n \\le 10^3 = 1000 $$ \n",
        "\n",
        "$Minute$\n",
        "$$  n^2 \\times 10^{-6}\\ s\\le 60\\ s$$ \n",
        "$$  n^2 \\le 60 \\times 10^{6}$$ \n",
        "$$ \\sqrt{n^2} \\le \\sqrt{60 \\times10^{6}}$$ \n",
        "$$ n \\le 7745 $$\n",
        "\n",
        "\n",
        "$\\bf{ Time\\ Complexity\\ n^3 }$\n",
        "\n",
        "$Second$\n",
        "$$  n^3 \\times 10^{-6}\\ s\\le 1\\ s$$ \n",
        "$$  n^3 \\le  10^{6}$$ \n",
        "$$ \\sqrt[3]{n^3} \\le \\sqrt[3]{10^{6}}$$ \n",
        "$$ n \\le 100 $$ \n",
        "\n",
        "$Minute$\n",
        "$$  n^3 \\times 10^{-6}\\ s\\le 60\\ s$$ \n",
        "$$  n^3 \\le 60 \\times 10^{6}$$ \n",
        "$$ \\sqrt[3]{n^3} \\le \\sqrt[3]{60 \\times10^{6}}$$ \n",
        "$$ n \\le 391 $$\n",
        "\n",
        "\n",
        "$\\bf{ Time\\ Complexity\\ n^4 }$\n",
        "\n",
        "$Second$\n",
        "$$  n^4 \\times 10^{-6}\\ s\\le 1\\ s$$ \n",
        "$$  n^4 \\le  10^{6}$$ \n",
        "$$ \\sqrt[4]{n^4} \\le \\sqrt[4]{10^{6}}$$ \n",
        "$$ n \\le 32 $$ \n",
        "\n",
        "$Minute$\n",
        "$$  n^4 \\times 10^{-6}\\ s\\le 60\\ s$$ \n",
        "$$  n^4 \\le 60 \\times 10^{6}$$ \n",
        "$$ \\sqrt[4]{n^4} \\le \\sqrt[4]{60 \\times10^{6}}$$ \n",
        "$$ n \\le 88 $$\n",
        "\n",
        "$\\bf{ Time\\ Complexity\\ 2^n }$\n",
        "\n",
        "$Second$\n",
        "$$  2^n \\times 10^{-6}\\ s\\le 1\\ s$$ \n",
        "$$  2^n \\le  10^{6}$$ \n",
        "$$ n \\le log_{2}(10^{6})$$ \n",
        "$$ n \\le 20 $$ \n",
        "\n",
        "$Minute$\n",
        "$$  2^n \\times 10^{-6}\\ s\\le 60\\ s$$ \n",
        "$$  2^n \\le 60 \\times 10^{6}$$ \n",
        "$$ n \\le log_{2}(60 \\times10^{6})$$ \n",
        "$$ n \\le 26 $$\n",
        "\n",
        "$\\bf{ Time\\ Complexity\\ n!}$\n",
        "\n",
        "$Second$\n",
        "$$ n! \\times 10^{-6}\\ s\\le 1\\ s$$ \n",
        "$$ n! \\le 1 * 10^{6}$$ \n",
        "\n",
        "$Minute$\n",
        "$$ n! \\times 10^{-6}\\ s\\le 60 * 1\\ s$$ \n",
        "$$ n!  \\le 60 * 10^{6}$$ \n",
        "\n",
        "Numerical aproximation on python code\n",
        "\n",
        "\n",
        "$\\bf{ Time\\ Complexity\\ n^n}$\n",
        "\n",
        "$Second$\n",
        "$$ n^n \\times 10^{-6}\\ s\\le 1\\ s$$ \n",
        "$$ n^n \\le 1 * 10^{6}$$ \n",
        "\n",
        "$Minute$\n",
        "$$ n^n \\times 10^{-6}\\ s\\le 60 * 1\\ s$$ \n",
        "$$ n^n  \\le 60 * 10^{6}$$ \n",
        "\n",
        "Numerical aproximation on python code"
      ]
    },
    {
      "cell_type": "code",
      "source": [
        "#n log n time complexity analize\n",
        "from math import *\n",
        "\n",
        "n = 1\n",
        "\n",
        "while n * log(n,2) <= 1000000:\n",
        "  n += 1\n",
        "\n",
        "print(n-1)"
      ],
      "metadata": {
        "colab": {
          "base_uri": "https://localhost:8080/"
        },
        "id": "b_8vUsRpDBpr",
        "outputId": "71ee0c6b-a9eb-4d25-8703-2ee5998495f1"
      },
      "execution_count": null,
      "outputs": [
        {
          "output_type": "stream",
          "name": "stdout",
          "text": [
            "62746\n"
          ]
        }
      ]
    },
    {
      "cell_type": "code",
      "source": [
        "#n! time complexity analize\n",
        "from math import *\n",
        "\n",
        "n = 1\n",
        "\n",
        "while factorial(n) <= 1000000:\n",
        "  n += 1\n",
        "\n",
        "print(n-1)"
      ],
      "metadata": {
        "colab": {
          "base_uri": "https://localhost:8080/"
        },
        "id": "mdkmsyshDqi4",
        "outputId": "c9d15d5c-e4ad-4f77-fd30-fb166021e1b2"
      },
      "execution_count": null,
      "outputs": [
        {
          "output_type": "stream",
          "name": "stdout",
          "text": [
            "9\n"
          ]
        }
      ]
    },
    {
      "cell_type": "code",
      "source": [
        "#n^n time complexity analize\n",
        "from math import *\n",
        "\n",
        "n = 1\n",
        "\n",
        "while n**n <= 1000000:\n",
        "  n += 1\n",
        "\n",
        "print(n-1)"
      ],
      "metadata": {
        "colab": {
          "base_uri": "https://localhost:8080/"
        },
        "id": "AGhNNpNyD8_a",
        "outputId": "85cf9dac-bd55-4146-f4aa-266adea56c9f"
      },
      "execution_count": null,
      "outputs": [
        {
          "output_type": "stream",
          "name": "stdout",
          "text": [
            "7\n"
          ]
        }
      ]
    },
    {
      "cell_type": "code",
      "metadata": {
        "colab": {
          "base_uri": "https://localhost:8080/"
        },
        "id": "szukBFthF1_s",
        "outputId": "82e69812-5a93-46f7-cbd3-94774039f221"
      },
      "source": [
        "import math\n",
        "# 1. One microsecond by Instructionmath.sqrt(60*10**6)"
      ],
      "execution_count": null,
      "outputs": [
        {
          "output_type": "execute_result",
          "data": {
            "text/plain": [
              "7745.966692414834"
            ]
          },
          "metadata": {},
          "execution_count": 1
        }
      ]
    }
  ]
}